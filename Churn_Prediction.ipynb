{
  "nbformat": 4,
  "nbformat_minor": 0,
  "metadata": {
    "colab": {
      "name": "Churn Prediction.ipynb",
      "provenance": [],
      "collapsed_sections": [],
      "authorship_tag": "ABX9TyMwiWQxYOegZ5SXoDmULlR4",
      "include_colab_link": true
    },
    "kernelspec": {
      "display_name": "Python 3",
      "name": "python3"
    },
    "language_info": {
      "name": "python"
    },
    "accelerator": "GPU"
  },
  "cells": [
    {
      "cell_type": "markdown",
      "metadata": {
        "id": "view-in-github",
        "colab_type": "text"
      },
      "source": [
        "<a href=\"https://colab.research.google.com/github/jplavorr/Data-Science/blob/main/Churn_Prediction.ipynb\" target=\"_parent\"><img src=\"https://colab.research.google.com/assets/colab-badge.svg\" alt=\"Open In Colab\"/></a>"
      ]
    },
    {
      "cell_type": "markdown",
      "metadata": {
        "id": "Lst5B31Y8y3T"
      },
      "source": [
        "<img alt=\"Colaboratory logo\" width=\"15%\" src=\"https://i.postimg.cc/zXN3DHM3/Captura-de-tela-2021-04-22-145652.png\">\n",
        "\n",
        "#### **Data Science & Machine Learning**\n",
        "*by [João Pedro Lavor](https://www.linkedin.com/in/jo%C3%A3o-pedro-lavor-65162312b/)*  \n",
        "\n",
        "---"
      ]
    },
    {
      "cell_type": "markdown",
      "metadata": {
        "id": "pMm_UaFZQq5b"
      },
      "source": [
        "**Churn Rate**, ou simplesmente churn, representa a taxa de evasão da sua base de clientes.\n",
        "\n",
        "Entender por que seus clientes abandonam o seu serviço é vital para conquistar um crescimento sustentável. Como o Churn tem um efeito negativo na receita de uma empresa, entender o que é esse indicador e como trabalhar para mitigar essa métrica é algo crítico para o sucesso de muitos negócios.\n",
        "\n",
        "Neste post, vamos explorar o que é o churn e como podemos prevê-lo usando Machine Learning. Também tentarei mostrar indicadores sobre o porquê os clientes possam estar abandonando o serviço e solicitando o cancelamento."
      ]
    },
    {
      "cell_type": "markdown",
      "metadata": {
        "id": "zQs1VMZM7vBg"
      },
      "source": [
        "#Churn Prediction para uma empresa de Telecomunicações\n",
        "\n",
        "Suponha que um cliente faz uso de seus serviços com certa frequência. E, de repente, deixa de usá-los e abandona sua empresa. As principais perguntas a serem feitas são: Por que isso acontece? Como reverter essa situação? Como melhor identificar esses clientes?\n",
        "\n",
        "Nesses momentos, ter um arsenal de dados sobre o consumidor, além de conseguir analisá-los, transformá-los em informações e extrair insights delas, faz toda a diferença.\n",
        "\n",
        " No primeiro capitulo do livro '*Data Science para Negócios*', um dos problemas que ele aborda é o uso de dados em prol de tentar impedir a rotatividade de clientes de uma determinada empresa. Atrair novos clientes é mais caro do que manter os que já existem, por isso, empresas tem que procurar investir em marketing para evitar rotatividade. *Churn* pode ser usado para identificar potenciais cancelamentos, com um tempo de antecedência, e promover ações direcionadas para tentar reter tais clientes. Data Science entra para decidir quais clientes irão receber a oferta antes dos termino dos seus contratos. Nesse artigo, irei construir um modelo de Machine Learning que foca justamente nesse problema para uma empresa de telecomunicações, aonde iremos tentar identificar a partir da base de dados, quais clientes em termino de contrato estão mais propensos a cancelarem o serviço da empresa.\n",
        "\n",
        "<p align=center>\n",
        "<img src=\"https://miro.medium.com/max/800/0*dzmm3qresODlScte\" width=\"60%\"></p>\n",
        "\n",
        "Em serviços como Spotify ou Netflix, ela representaria a taxa de cancelamento de assinaturas. Ela é de extrema importância para a administração e sua análise ao longo do tempo pode mostrar que existe algum problema que deve ser atacado.\n",
        "\n"
      ]
    },
    {
      "cell_type": "markdown",
      "metadata": {
        "id": "LCWb7XECjAuM"
      },
      "source": [
        "## Aquisição dos Dados\n",
        "\n",
        "Os dados utilizados neste projeto foram originalmente disponibilizados na [plataforma de ensino da IBM Developer](https://developer.ibm.com/technologies/data-science/patterns/predict-customer-churn-using-watson-studio-and-jupyter-notebooks/#), e tratam de um problema típico de uma companhia de telecomunicações. O *dataset* completo pode ser encontrado [neste link](https://raw.githubusercontent.com/carlosfab/dsnp2/master/datasets/WA_Fn-UseC_-Telco-Customer-Churn.csv).\n",
        "\n",
        "Apesar de não haver informações explícitas disponíves, os nomes das colunas permitem um entendimento a respeito do problema."
      ]
    },
    {
      "cell_type": "code",
      "metadata": {
        "id": "rbN3PHUEaQbu"
      },
      "source": [
        "# instalar Pandas Profiling\n",
        "!pip install scikit-plot -q\n",
        "!pip install imbalanced-learn -q"
      ],
      "execution_count": 1,
      "outputs": []
    },
    {
      "cell_type": "code",
      "metadata": {
        "id": "AsJdyandew9W"
      },
      "source": [
        "# import warnings filter\n",
        "from warnings import simplefilter\n",
        "# ignore all future warnings\n",
        "simplefilter(action='ignore', category=FutureWarning)"
      ],
      "execution_count": 2,
      "outputs": []
    },
    {
      "cell_type": "markdown",
      "metadata": {
        "id": "130iDXG-DKRN"
      },
      "source": [
        "Irei adicionar as demais bibliotecas na medida que elas forem necessárias. Iremos, por hora, apenas importas as bibliotecas bases para análise de dados."
      ]
    },
    {
      "cell_type": "code",
      "metadata": {
        "id": "XbNwJgbpQGOb"
      },
      "source": [
        "# importar os pacotes necessários\n",
        "import pandas as pd\n",
        "import numpy as np\n",
        "import matplotlib.pyplot as plt\n",
        "import seaborn as sns\n",
        "import numpy as np\n",
        "import missingno as msno\n",
        "\n",
        "\n",
        "# random seed\n",
        "np.random.seed(42)\n",
        "\n",
        "# configurar o estilo dos gráficos com o Seaborn\n",
        "sns.set_style('dark')\n",
        "%matplotlib inline\n"
      ],
      "execution_count": 3,
      "outputs": []
    },
    {
      "cell_type": "code",
      "metadata": {
        "colab": {
          "base_uri": "https://localhost:8080/",
          "height": 309
        },
        "id": "iimj-b4XHdBi",
        "outputId": "0b1103a6-e4a2-4101-9269-bd4aa92fad6c"
      },
      "source": [
        "# importar os dados\n",
        "DATA_PATH = \"https://raw.githubusercontent.com/carlosfab/dsnp2/master/datasets/WA_Fn-UseC_-Telco-Customer-Churn.csv\"\n",
        "df = pd.read_csv(DATA_PATH)\n",
        "\n",
        "# ver as 5 primeiras entradas\n",
        "df.head()"
      ],
      "execution_count": 4,
      "outputs": [
        {
          "output_type": "execute_result",
          "data": {
            "text/html": [
              "<div>\n",
              "<style scoped>\n",
              "    .dataframe tbody tr th:only-of-type {\n",
              "        vertical-align: middle;\n",
              "    }\n",
              "\n",
              "    .dataframe tbody tr th {\n",
              "        vertical-align: top;\n",
              "    }\n",
              "\n",
              "    .dataframe thead th {\n",
              "        text-align: right;\n",
              "    }\n",
              "</style>\n",
              "<table border=\"1\" class=\"dataframe\">\n",
              "  <thead>\n",
              "    <tr style=\"text-align: right;\">\n",
              "      <th></th>\n",
              "      <th>customerID</th>\n",
              "      <th>gender</th>\n",
              "      <th>SeniorCitizen</th>\n",
              "      <th>Partner</th>\n",
              "      <th>Dependents</th>\n",
              "      <th>tenure</th>\n",
              "      <th>PhoneService</th>\n",
              "      <th>MultipleLines</th>\n",
              "      <th>InternetService</th>\n",
              "      <th>OnlineSecurity</th>\n",
              "      <th>OnlineBackup</th>\n",
              "      <th>DeviceProtection</th>\n",
              "      <th>TechSupport</th>\n",
              "      <th>StreamingTV</th>\n",
              "      <th>StreamingMovies</th>\n",
              "      <th>Contract</th>\n",
              "      <th>PaperlessBilling</th>\n",
              "      <th>PaymentMethod</th>\n",
              "      <th>MonthlyCharges</th>\n",
              "      <th>TotalCharges</th>\n",
              "      <th>Churn</th>\n",
              "    </tr>\n",
              "  </thead>\n",
              "  <tbody>\n",
              "    <tr>\n",
              "      <th>0</th>\n",
              "      <td>7590-VHVEG</td>\n",
              "      <td>Female</td>\n",
              "      <td>0</td>\n",
              "      <td>Yes</td>\n",
              "      <td>No</td>\n",
              "      <td>1</td>\n",
              "      <td>No</td>\n",
              "      <td>No phone service</td>\n",
              "      <td>DSL</td>\n",
              "      <td>No</td>\n",
              "      <td>Yes</td>\n",
              "      <td>No</td>\n",
              "      <td>No</td>\n",
              "      <td>No</td>\n",
              "      <td>No</td>\n",
              "      <td>Month-to-month</td>\n",
              "      <td>Yes</td>\n",
              "      <td>Electronic check</td>\n",
              "      <td>29.85</td>\n",
              "      <td>29.85</td>\n",
              "      <td>No</td>\n",
              "    </tr>\n",
              "    <tr>\n",
              "      <th>1</th>\n",
              "      <td>5575-GNVDE</td>\n",
              "      <td>Male</td>\n",
              "      <td>0</td>\n",
              "      <td>No</td>\n",
              "      <td>No</td>\n",
              "      <td>34</td>\n",
              "      <td>Yes</td>\n",
              "      <td>No</td>\n",
              "      <td>DSL</td>\n",
              "      <td>Yes</td>\n",
              "      <td>No</td>\n",
              "      <td>Yes</td>\n",
              "      <td>No</td>\n",
              "      <td>No</td>\n",
              "      <td>No</td>\n",
              "      <td>One year</td>\n",
              "      <td>No</td>\n",
              "      <td>Mailed check</td>\n",
              "      <td>56.95</td>\n",
              "      <td>1889.5</td>\n",
              "      <td>No</td>\n",
              "    </tr>\n",
              "    <tr>\n",
              "      <th>2</th>\n",
              "      <td>3668-QPYBK</td>\n",
              "      <td>Male</td>\n",
              "      <td>0</td>\n",
              "      <td>No</td>\n",
              "      <td>No</td>\n",
              "      <td>2</td>\n",
              "      <td>Yes</td>\n",
              "      <td>No</td>\n",
              "      <td>DSL</td>\n",
              "      <td>Yes</td>\n",
              "      <td>Yes</td>\n",
              "      <td>No</td>\n",
              "      <td>No</td>\n",
              "      <td>No</td>\n",
              "      <td>No</td>\n",
              "      <td>Month-to-month</td>\n",
              "      <td>Yes</td>\n",
              "      <td>Mailed check</td>\n",
              "      <td>53.85</td>\n",
              "      <td>108.15</td>\n",
              "      <td>Yes</td>\n",
              "    </tr>\n",
              "    <tr>\n",
              "      <th>3</th>\n",
              "      <td>7795-CFOCW</td>\n",
              "      <td>Male</td>\n",
              "      <td>0</td>\n",
              "      <td>No</td>\n",
              "      <td>No</td>\n",
              "      <td>45</td>\n",
              "      <td>No</td>\n",
              "      <td>No phone service</td>\n",
              "      <td>DSL</td>\n",
              "      <td>Yes</td>\n",
              "      <td>No</td>\n",
              "      <td>Yes</td>\n",
              "      <td>Yes</td>\n",
              "      <td>No</td>\n",
              "      <td>No</td>\n",
              "      <td>One year</td>\n",
              "      <td>No</td>\n",
              "      <td>Bank transfer (automatic)</td>\n",
              "      <td>42.30</td>\n",
              "      <td>1840.75</td>\n",
              "      <td>No</td>\n",
              "    </tr>\n",
              "    <tr>\n",
              "      <th>4</th>\n",
              "      <td>9237-HQITU</td>\n",
              "      <td>Female</td>\n",
              "      <td>0</td>\n",
              "      <td>No</td>\n",
              "      <td>No</td>\n",
              "      <td>2</td>\n",
              "      <td>Yes</td>\n",
              "      <td>No</td>\n",
              "      <td>Fiber optic</td>\n",
              "      <td>No</td>\n",
              "      <td>No</td>\n",
              "      <td>No</td>\n",
              "      <td>No</td>\n",
              "      <td>No</td>\n",
              "      <td>No</td>\n",
              "      <td>Month-to-month</td>\n",
              "      <td>Yes</td>\n",
              "      <td>Electronic check</td>\n",
              "      <td>70.70</td>\n",
              "      <td>151.65</td>\n",
              "      <td>Yes</td>\n",
              "    </tr>\n",
              "  </tbody>\n",
              "</table>\n",
              "</div>"
            ],
            "text/plain": [
              "   customerID  gender  SeniorCitizen  ... MonthlyCharges TotalCharges  Churn\n",
              "0  7590-VHVEG  Female              0  ...          29.85        29.85     No\n",
              "1  5575-GNVDE    Male              0  ...          56.95       1889.5     No\n",
              "2  3668-QPYBK    Male              0  ...          53.85       108.15    Yes\n",
              "3  7795-CFOCW    Male              0  ...          42.30      1840.75     No\n",
              "4  9237-HQITU  Female              0  ...          70.70       151.65    Yes\n",
              "\n",
              "[5 rows x 21 columns]"
            ]
          },
          "metadata": {
            "tags": []
          },
          "execution_count": 4
        }
      ]
    },
    {
      "cell_type": "markdown",
      "metadata": {
        "id": "EAodz0nzTQSr"
      },
      "source": [
        "Acima, temos uma visão das 5 primeiras entradas do nosso conjunto de dados. Através de uma breve olhada, podemos ver que os dados representam informações de serviços e pagamentos dos clientes. Mesmo que não tendo descrição exata das variáveis, é possível ter uma noção do que se tratam, pois são serviços padrões de uma empresa de telecomunicações."
      ]
    },
    {
      "cell_type": "code",
      "metadata": {
        "colab": {
          "base_uri": "https://localhost:8080/"
        },
        "id": "jUtZAGsl_l_r",
        "outputId": "0616d907-73b7-4e8b-e9f1-a550015cfa50"
      },
      "source": [
        "print(\"Número de Entradas:\",df.shape[0])\n",
        "print(\"\\nNúmero de Colunas:\",df.shape[1])"
      ],
      "execution_count": 5,
      "outputs": [
        {
          "output_type": "stream",
          "text": [
            "Número de Entradas: 7043\n",
            "\n",
            "Número de Colunas: 21\n"
          ],
          "name": "stdout"
        }
      ]
    },
    {
      "cell_type": "markdown",
      "metadata": {
        "id": "Ho4W4jq5K3Er"
      },
      "source": [
        "Como se verifica acima, o dataset é composto de 7043 entradas e 21 variáveis."
      ]
    },
    {
      "cell_type": "markdown",
      "metadata": {
        "id": "RfgG7Ivx85Fb"
      },
      "source": [
        "#Análise Exploratória de Dados\n",
        "\n",
        "Sempre antes de começar a treinar seu modelo de Machine Learning, temos que fazer uma análise nos dados presentes na tabela para verificar sua integridade, em prol de descobrir se é preciso ser feita alguma limpeza ou mudança nas variáveis presente nos dados."
      ]
    },
    {
      "cell_type": "code",
      "metadata": {
        "colab": {
          "base_uri": "https://localhost:8080/",
          "height": 465
        },
        "id": "lDycxXsa28Nv",
        "outputId": "bd1a4d25-aaf3-4c3b-bd96-0d53831c3662"
      },
      "source": [
        "#Plotando dados ausentes\n",
        "msno.bar(df, figsize=(12,5));"
      ],
      "execution_count": 6,
      "outputs": [
        {
          "output_type": "display_data",
          "data": {
            "image/png": "[encoded data removed]",
            "text/plain": [
              "<Figure size 864x360 with 3 Axes>"
            ]
          },
          "metadata": {
            "tags": [],
            "needs_background": "light"
          }
        }
      ]
    },
    {
      "cell_type": "code",
      "metadata": {
        "colab": {
          "base_uri": "https://localhost:8080/"
        },
        "id": "F5mofha5C0gB",
        "outputId": "36d6f1ce-1b22-4926-89d4-f9efdde1a727"
      },
      "source": [
        "print(\"\\nTipo das Variáveis presentes no DataSet:\",df.dtypes)\n",
        "print('\\nValores únicos por variável:', df.nunique())\n",
        "print(\"\\nNome das variáveis:\", df.columns.values)"
      ],
      "execution_count": 7,
      "outputs": [
        {
          "output_type": "stream",
          "text": [
            "\n",
            "Tipo das Variáveis presentes no DataSet: customerID           object\n",
            "gender               object\n",
            "SeniorCitizen         int64\n",
            "Partner              object\n",
            "Dependents           object\n",
            "tenure                int64\n",
            "PhoneService         object\n",
            "MultipleLines        object\n",
            "InternetService      object\n",
            "OnlineSecurity       object\n",
            "OnlineBackup         object\n",
            "DeviceProtection     object\n",
            "TechSupport          object\n",
            "StreamingTV          object\n",
            "StreamingMovies      object\n",
            "Contract             object\n",
            "PaperlessBilling     object\n",
            "PaymentMethod        object\n",
            "MonthlyCharges      float64\n",
            "TotalCharges         object\n",
            "Churn                object\n",
            "dtype: object\n",
            "\n",
            "Valores únicos por variável: customerID          7043\n",
            "gender                 2\n",
            "SeniorCitizen          2\n",
            "Partner                2\n",
            "Dependents             2\n",
            "tenure                73\n",
            "PhoneService           2\n",
            "MultipleLines          3\n",
            "InternetService        3\n",
            "OnlineSecurity         3\n",
            "OnlineBackup           3\n",
            "DeviceProtection       3\n",
            "TechSupport            3\n",
            "StreamingTV            3\n",
            "StreamingMovies        3\n",
            "Contract               3\n",
            "PaperlessBilling       2\n",
            "PaymentMethod          4\n",
            "MonthlyCharges      1585\n",
            "TotalCharges        6531\n",
            "Churn                  2\n",
            "dtype: int64\n",
            "\n",
            "Nome das variáveis: ['customerID' 'gender' 'SeniorCitizen' 'Partner' 'Dependents' 'tenure'\n",
            " 'PhoneService' 'MultipleLines' 'InternetService' 'OnlineSecurity'\n",
            " 'OnlineBackup' 'DeviceProtection' 'TechSupport' 'StreamingTV'\n",
            " 'StreamingMovies' 'Contract' 'PaperlessBilling' 'PaymentMethod'\n",
            " 'MonthlyCharges' 'TotalCharges' 'Churn']\n"
          ],
          "name": "stdout"
        }
      ]
    },
    {
      "cell_type": "markdown",
      "metadata": {
        "id": "Z3TU5RcYIYuf"
      },
      "source": [
        "Acima, verificamos as seguintes informações:\n",
        "* Dados ausentes:\n",
        "    * O gráfico de barras, é uma maneira visual de mostra a quantidade de ausentes para cada coluna do nosso DataSet. Como podemos ver, não há dados ausentes. \n",
        "\n",
        "* Tipo das Variáveis:\n",
        "  * As features são compostas em sua maioria por variáveis categóricas.\n",
        "  * A coluna `TotalCharges` é uma variável númerica sem dados ausentes, mas está sendo apresentada como `string`. \n",
        "  * Mais a frente, iremos passar as features categóricas para valor numérico.\n",
        "  * A nossa **variável alvo** se encontra na coluna `Churn`, que indica a quantidade de clientes que encerraram o serviço no anterior.\n",
        "  * A coluna `customerID` não agrega no treinamento do modelo, portante ela será retirada posteriormente.\n",
        "\n",
        "\n",
        "\n",
        "\n"
      ]
    },
    {
      "cell_type": "markdown",
      "metadata": {
        "id": "rlUtJaMj-E7W"
      },
      "source": [
        "###Proporção de Churn\n",
        "É muito importante saber como nossa variável alvo `Churn` está distribuida.   "
      ]
    },
    {
      "cell_type": "code",
      "metadata": {
        "colab": {
          "base_uri": "https://localhost:8080/",
          "height": 340
        },
        "id": "PBfj_FHn_NPa",
        "outputId": "3da13734-afbe-4fc8-c8a4-2f8ddea8999a"
      },
      "source": [
        "#Proporção de Churn na empresa\n",
        "print(\"Proporção de Churn da Empresa:\",df['Churn'].value_counts()[1]/df.shape[0])\n",
        "x = ['No', 'Yes']\n",
        "y = [df['Churn'].value_counts().values[0], df['Churn'].value_counts().values[1]]\n",
        "fig, ax = plt.subplots()\n",
        "#ax = plt.gca()\n",
        "ax.set_xlabel('Churn')\n",
        "#Deixar o eixo y invisivel \n",
        "ax.get_yaxis().set_visible(False)\n",
        "ttl = ax.title\n",
        "ttl.set_position([.5, 1.05])\n",
        "#plt.draw()\n",
        "sns.countplot(df['Churn'], ax=ax)\n",
        "ax.set_title('Proportion of Customers who Left the Service')\n",
        "# This is the location for the annotated text\n",
        "i = 1\n",
        "j = 50\n",
        "# Annotating the bar plot with the values (total death count)\n",
        "for i in range(len(x)):\n",
        "    plt.annotate(y[i], (-0.1 + i, y[i] + j))\n",
        "\n",
        "\n",
        "plt.plot()"
      ],
      "execution_count": 8,
      "outputs": [
        {
          "output_type": "stream",
          "text": [
            "Proporção de Churn da Empresa: 0.2653698707936959\n"
          ],
          "name": "stdout"
        },
        {
          "output_type": "execute_result",
          "data": {
            "text/plain": [
              "[]"
            ]
          },
          "metadata": {
            "tags": []
          },
          "execution_count": 8
        },
        {
          "output_type": "display_data",
          "data": {
            "image/png": "[encoded data removed]",
            "text/plain": [
              "<Figure size 432x288 with 1 Axes>"
            ]
          },
          "metadata": {
            "tags": [],
            "needs_background": "light"
          }
        }
      ]
    },
    {
      "cell_type": "markdown",
      "metadata": {
        "id": "Q2jg-bZvBls8"
      },
      "source": [
        "A empresa em questão se encontra com uma Taxa de Churn de 26.53%. Portanto, estamos lidando com um DataSet desbalanceado. A quantidade de Churns é significativamente menor do que as não Chruns.\n",
        "\n",
        "Retornando a situação da coluna `TotalCharges`, iremos ver, como é possível identificar o erro presente nela. Ao tentarmos usar a mudança de variável `pd.to_numeric(df['TotalCharges'])`, encontramos um erro, informando que existe uma string vazia (\" \") presente na coluna. Vamos agora identificar quantas dessas strings estão presentes e contornar esse problema.*texto em itálico*"
      ]
    },
    {
      "cell_type": "code",
      "metadata": {
        "colab": {
          "base_uri": "https://localhost:8080/"
        },
        "id": "Tm7xjjfGgS3m",
        "outputId": "eaf6265e-27ed-42a4-8e9d-97431377062e"
      },
      "source": [
        "#Verificando quantas linhas possuem a string vazia.\n",
        "print(\"O número de entradas como string vazias são:\",df[df['TotalCharges']==' '].shape[0])"
      ],
      "execution_count": 9,
      "outputs": [
        {
          "output_type": "stream",
          "text": [
            "O número de entradas como string vazias são: 11\n"
          ],
          "name": "stdout"
        }
      ]
    },
    {
      "cell_type": "markdown",
      "metadata": {
        "id": "GKEojf_pU1zb"
      },
      "source": [
        "Temos 11 linhas com as strings vazias presentes na coluna `TotalCharges`. Para alterar isso, iremos construir uma função para aplicar na coluna alvo e alterar as strings vazias para valores `NaN`. \n",
        "\n",
        "Iremos logo fazer uma cópia desse DataSet para efetuar essa limpeza e excluir a coluna `customerID` que não está agregando a nossa análise."
      ]
    },
    {
      "cell_type": "code",
      "metadata": {
        "id": "BLvdpFTyUXBW"
      },
      "source": [
        "def conversor_str_float(column):\n",
        "  if column == ' ':\n",
        "    #converte cada string vazia para NaN\n",
        "    return np.nan\n",
        "  else:\n",
        "    #converte cada entrada para float\n",
        "    return float(column)"
      ],
      "execution_count": 10,
      "outputs": []
    },
    {
      "cell_type": "code",
      "metadata": {
        "colab": {
          "base_uri": "https://localhost:8080/"
        },
        "id": "YqFZi15EXw-i",
        "outputId": "a540dec2-d2cf-4a59-be99-6339a8ebe393"
      },
      "source": [
        "#Criando uma Cópia do DataSet\n",
        "df_clean = df.copy()\n",
        "#Dropar Coluna CustomerID\n",
        "df_clean.drop('customerID', axis=1, inplace=True)\n",
        "#Aplicando a função a coluna TotalCharges\n",
        "df_clean['TotalCharges'] = df_clean['TotalCharges'].apply(conversor_str_float)\n",
        "#Verificando tipo da coluna Totalcharges\n",
        "print(df_clean['TotalCharges'].dtypes)"
      ],
      "execution_count": 11,
      "outputs": [
        {
          "output_type": "stream",
          "text": [
            "float64\n"
          ],
          "name": "stdout"
        }
      ]
    },
    {
      "cell_type": "markdown",
      "metadata": {
        "id": "cywHnVh8ZWmH"
      },
      "source": [
        "Agora que passamos a coluna `TotalCharges` para float, temos que lidar com  os dados ausentes que inserimos na coluna. Temos duas opções:\n",
        "\n",
        "  * Retirar as respectivas linhas com valores NaN.\n",
        "  * Substituir os valores NaN pela mediana da coluna.\n",
        "\n",
        "Iremos prosseguir retirando os valores NaN da coluna `TotalCharge`, pois os valores com essa respectiva entrada, possuem valores `no` na coluna `Churn`. Portanto, fazem parte da classe majoritária da coluna `Churn`, logo não irá interferir na previsão do nosso modelo. "
      ]
    },
    {
      "cell_type": "code",
      "metadata": {
        "id": "Zoxfne9is3BH"
      },
      "source": [
        "#Substituindo valores pela Mediana\n",
        "#TotalChargesMedian = df_clean.TotalCharges.median()\n",
        "#df_clean[\"TotalCharges\"].fillna(TotalChargesMedian, inplace=True)"
      ],
      "execution_count": 12,
      "outputs": []
    },
    {
      "cell_type": "code",
      "metadata": {
        "id": "iJd9MaF9s3PG"
      },
      "source": [
        "#Dropando Valores\n",
        "df_clean['TotalCharges'].dropna(inplace= True)"
      ],
      "execution_count": 13,
      "outputs": []
    },
    {
      "cell_type": "markdown",
      "metadata": {
        "id": "YjDS3LLcDmbA"
      },
      "source": [
        "Agora que todas nossas colunas estão sem valores ausentes e nos seus tipos corretos. Podemos começar a olhar para distribuição dos nossos dados ao tentar entender como eles estão se comportando. Isso pode vir a ajudar futuramente como otimizar o treinamento do nosso modelo de machine larning. \n",
        "\n",
        "Por mais que a maioria das nossas variáveis ainda estão na sua forma binária ou categórica, podemos usar o método `describe` para olhar os valores estatísticos das variáveis númericas presentes."
      ]
    },
    {
      "cell_type": "code",
      "metadata": {
        "colab": {
          "base_uri": "https://localhost:8080/",
          "height": 297
        },
        "id": "raDW1jf0I48N",
        "outputId": "59144608-c3ab-4fc9-b78d-c0163ff3e8d8"
      },
      "source": [
        "#Valores estatisticos\n",
        "df_clean.describe()"
      ],
      "execution_count": 14,
      "outputs": [
        {
          "output_type": "execute_result",
          "data": {
            "text/html": [
              "<div>\n",
              "<style scoped>\n",
              "    .dataframe tbody tr th:only-of-type {\n",
              "        vertical-align: middle;\n",
              "    }\n",
              "\n",
              "    .dataframe tbody tr th {\n",
              "        vertical-align: top;\n",
              "    }\n",
              "\n",
              "    .dataframe thead th {\n",
              "        text-align: right;\n",
              "    }\n",
              "</style>\n",
              "<table border=\"1\" class=\"dataframe\">\n",
              "  <thead>\n",
              "    <tr style=\"text-align: right;\">\n",
              "      <th></th>\n",
              "      <th>SeniorCitizen</th>\n",
              "      <th>tenure</th>\n",
              "      <th>MonthlyCharges</th>\n",
              "      <th>TotalCharges</th>\n",
              "    </tr>\n",
              "  </thead>\n",
              "  <tbody>\n",
              "    <tr>\n",
              "      <th>count</th>\n",
              "      <td>7043.000000</td>\n",
              "      <td>7043.000000</td>\n",
              "      <td>7043.000000</td>\n",
              "      <td>7032.000000</td>\n",
              "    </tr>\n",
              "    <tr>\n",
              "      <th>mean</th>\n",
              "      <td>0.162147</td>\n",
              "      <td>32.371149</td>\n",
              "      <td>64.761692</td>\n",
              "      <td>2283.300441</td>\n",
              "    </tr>\n",
              "    <tr>\n",
              "      <th>std</th>\n",
              "      <td>0.368612</td>\n",
              "      <td>24.559481</td>\n",
              "      <td>30.090047</td>\n",
              "      <td>2266.771362</td>\n",
              "    </tr>\n",
              "    <tr>\n",
              "      <th>min</th>\n",
              "      <td>0.000000</td>\n",
              "      <td>0.000000</td>\n",
              "      <td>18.250000</td>\n",
              "      <td>18.800000</td>\n",
              "    </tr>\n",
              "    <tr>\n",
              "      <th>25%</th>\n",
              "      <td>0.000000</td>\n",
              "      <td>9.000000</td>\n",
              "      <td>35.500000</td>\n",
              "      <td>401.450000</td>\n",
              "    </tr>\n",
              "    <tr>\n",
              "      <th>50%</th>\n",
              "      <td>0.000000</td>\n",
              "      <td>29.000000</td>\n",
              "      <td>70.350000</td>\n",
              "      <td>1397.475000</td>\n",
              "    </tr>\n",
              "    <tr>\n",
              "      <th>75%</th>\n",
              "      <td>0.000000</td>\n",
              "      <td>55.000000</td>\n",
              "      <td>89.850000</td>\n",
              "      <td>3794.737500</td>\n",
              "    </tr>\n",
              "    <tr>\n",
              "      <th>max</th>\n",
              "      <td>1.000000</td>\n",
              "      <td>72.000000</td>\n",
              "      <td>118.750000</td>\n",
              "      <td>8684.800000</td>\n",
              "    </tr>\n",
              "  </tbody>\n",
              "</table>\n",
              "</div>"
            ],
            "text/plain": [
              "       SeniorCitizen       tenure  MonthlyCharges  TotalCharges\n",
              "count    7043.000000  7043.000000     7043.000000   7032.000000\n",
              "mean        0.162147    32.371149       64.761692   2283.300441\n",
              "std         0.368612    24.559481       30.090047   2266.771362\n",
              "min         0.000000     0.000000       18.250000     18.800000\n",
              "25%         0.000000     9.000000       35.500000    401.450000\n",
              "50%         0.000000    29.000000       70.350000   1397.475000\n",
              "75%         0.000000    55.000000       89.850000   3794.737500\n",
              "max         1.000000    72.000000      118.750000   8684.800000"
            ]
          },
          "metadata": {
            "tags": []
          },
          "execution_count": 14
        }
      ]
    },
    {
      "cell_type": "markdown",
      "metadata": {
        "id": "JO782cGTKTuw"
      },
      "source": [
        "Podemos notar:\n",
        "* Na coluna `SeniorCitizen` mostra que 75% dos clientes não são idosos.\n",
        "\n",
        "* Na coluna `tenure` vemos que 25% dos clientes permaneceram até 9 meses com a empresa.\n",
        "\n",
        "Mais importante, não há indícios de outliers presentes nas variáveis numéricas. Com os boxplots abaixo, podemos ter uma certeza de que não há outliers presentes nas variáveis `MonhtlyCharges` e `TotalCharges`."
      ]
    },
    {
      "cell_type": "code",
      "metadata": {
        "colab": {
          "base_uri": "https://localhost:8080/",
          "height": 297
        },
        "id": "yCWgIlkVUbGi",
        "outputId": "90195b0d-6e3f-4685-a939-aedd175c027b"
      },
      "source": [
        "fig, ax = plt.subplots(nrows=1, ncols=2, figsize=(12,4))\n",
        "sns.boxplot(x='MonthlyCharges', data=df_clean, ax=ax[0])\n",
        "sns.boxplot(x='TotalCharges', data=df_clean, ax=ax[1])\n",
        "plt.tight_layout()"
      ],
      "execution_count": 15,
      "outputs": [
        {
          "output_type": "display_data",
          "data": {
            "image/png": "[encoded data removed]",
            "text/plain": [
              "<Figure size 864x288 with 2 Axes>"
            ]
          },
          "metadata": {
            "tags": [],
            "needs_background": "light"
          }
        }
      ]
    },
    {
      "cell_type": "markdown",
      "metadata": {
        "id": "06LaliSu1OUj"
      },
      "source": [
        "A coluna `TotalCharges` é o pagamento mensal (`MonthlyCharges`) multiplicado pelo número de meses que o clientes está na empresa (`tenure`). Portanto, essa coluna não agrega valor ao nosso algoritmo e podemos retirar ela dos nossos dados.\n",
        "\n"
      ]
    },
    {
      "cell_type": "code",
      "metadata": {
        "id": "oKL0r4lm13WD"
      },
      "source": [
        "#Dropando a coluna TotalCharges\n",
        "df_clean.drop('TotalCharges', axis=1, inplace = True)"
      ],
      "execution_count": 16,
      "outputs": []
    },
    {
      "cell_type": "markdown",
      "metadata": {
        "id": "z0EKkXCnaXo0"
      },
      "source": [
        "Já a coluna `tenure`, representa o tempo (em meses) em que o cliente usa/usou o determindo serviço da empresa. "
      ]
    },
    {
      "cell_type": "code",
      "metadata": {
        "colab": {
          "base_uri": "https://localhost:8080/",
          "height": 297
        },
        "id": "zvz19PaucvhM",
        "outputId": "25c64c7b-a2b5-4e4f-ce76-ec2fb7c8bda7"
      },
      "source": [
        "fig, ax = plt.subplots(figsize=(15,4))\n",
        "sns.countplot(df_clean['tenure'])\n",
        "plt.ylabel('')\n",
        "plt.tight_layout();"
      ],
      "execution_count": 17,
      "outputs": [
        {
          "output_type": "display_data",
          "data": {
            "image/png": "[encoded data removed]",
            "text/plain": [
              "<Figure size 1080x288 with 1 Axes>"
            ]
          },
          "metadata": {
            "tags": [],
            "needs_background": "light"
          }
        }
      ]
    },
    {
      "cell_type": "markdown",
      "metadata": {
        "id": "f4GodN0B0k6S"
      },
      "source": [
        "Observamos que na coluna `tenure`, consta o valor 0 em meses, que representa os clientes que acabaram de assinar o serviço."
      ]
    },
    {
      "cell_type": "code",
      "metadata": {
        "colab": {
          "base_uri": "https://localhost:8080/"
        },
        "id": "Sl5YKnl300ka",
        "outputId": "85bfaad1-4561-423d-a1d0-b2779c7ed1b0"
      },
      "source": [
        "df_clean[df_clean['tenure']==0]['Churn'].value_counts()"
      ],
      "execution_count": 18,
      "outputs": [
        {
          "output_type": "execute_result",
          "data": {
            "text/plain": [
              "No    11\n",
              "Name: Churn, dtype: int64"
            ]
          },
          "metadata": {
            "tags": []
          },
          "execution_count": 18
        }
      ]
    },
    {
      "cell_type": "markdown",
      "metadata": {
        "id": "9R_HKVAh1c-t"
      },
      "source": [
        "Vemos que temos um total de 11 clientes que acabaram de assinar o serviço da empresa, logo nenhum deles vai ser taxado como churn. Portanto, iremos retirar esses valores do nosso Dataset, pois ele pode dar uma falsa confiança para variáeis que posteriormente podem ser forte indicadoras de Churn."
      ]
    },
    {
      "cell_type": "code",
      "metadata": {
        "id": "bUz50aId1tiA"
      },
      "source": [
        "#Retirando tenure com valores iguais a zero\n",
        "df_clean = df_clean[df.tenure != 0]"
      ],
      "execution_count": 19,
      "outputs": []
    },
    {
      "cell_type": "markdown",
      "metadata": {
        "id": "jzNRHbtBikL4"
      },
      "source": [
        "#Lidando com Variáveis Categóricas\n",
        "É muito comum ver variáveis categóricas em um conjunto de dados. No entanto, nosso algoritmo de Machine Learning só pode ler valores numéricos. É essencial para o modelo transformar recursos categóricos em valores numéricos. \n",
        "\n",
        "Mas antes de fazer essa transformação, vamos entender as nossas variáveis categóricas. Elas estão divididas em dois tipos, as binárias(dois valores de resposta) e não binárias(mais de dois valores de resposta) vamos olhar os valores únicos entre elas."
      ]
    },
    {
      "cell_type": "code",
      "metadata": {
        "colab": {
          "base_uri": "https://localhost:8080/"
        },
        "id": "s6ZBnCTSwVFw",
        "outputId": "bae05723-415d-47f0-e6c7-bfcaee0a2fc1"
      },
      "source": [
        "#Valores categoricos Unicos\n",
        "binary_categorical_values = [] \n",
        "multiple_categorical_values =[]\n",
        "for col in df_clean.select_dtypes('object').columns:\n",
        "    if df_clean[col].value_counts().shape[0] == 2:\n",
        "        binary_categorical_values.append(col)\n",
        "    else:\n",
        "        multiple_categorical_values.append(col)\n",
        "\n",
        "print(\"Variaveis categoricas com dois valores:\", binary_categorical_values)\n",
        "print(\"\\nVariáveis Categóricas com Mais de dois Valores:\", multiple_categorical_values)"
      ],
      "execution_count": 20,
      "outputs": [
        {
          "output_type": "stream",
          "text": [
            "Variaveis categoricas com dois valores: ['gender', 'Partner', 'Dependents', 'PhoneService', 'PaperlessBilling', 'Churn']\n",
            "\n",
            "Variáveis Categóricas com Mais de dois Valores: ['MultipleLines', 'InternetService', 'OnlineSecurity', 'OnlineBackup', 'DeviceProtection', 'TechSupport', 'StreamingTV', 'StreamingMovies', 'Contract', 'PaymentMethod']\n"
          ],
          "name": "stdout"
        }
      ]
    },
    {
      "cell_type": "markdown",
      "metadata": {
        "id": "VJaU_J3vDlfy"
      },
      "source": [
        "##Variáveis Categóricas Binárias\n",
        "\n",
        "Para ter uma ideia de como estão as proporções dessas variáveis binárias, vamos fazer uso do gráfico de barra. "
      ]
    },
    {
      "cell_type": "code",
      "metadata": {
        "colab": {
          "base_uri": "https://localhost:8080/",
          "height": 584
        },
        "id": "-y2JWLYe9p8s",
        "outputId": "3be307d4-3f8f-4675-c482-3d579fe8ae32"
      },
      "source": [
        "#  Categorical Data\n",
        "list_features = ['gender', 'SeniorCitizen', 'Partner', 'Dependents', 'PhoneService', 'PaperlessBilling' ]\n",
        "\n",
        "#  Categorical Data\n",
        "a = 2  # number of rows\n",
        "b = 3  # number of columns\n",
        "c = 1  # initialize plot counter\n",
        "\n",
        "fig = plt.figure(figsize=(14,8))\n",
        "\n",
        "for i in list_features:\n",
        "    plt.subplot(a, b, c)\n",
        "    plt.xlabel(i)\n",
        "    sns.countplot(df_clean[i])\n",
        "    c = c + 1\n",
        "    x = [df_clean[i].unique()[0], df_clean[i].unique()[1]]\n",
        "    if df_clean[i].value_counts().index[0] == df_clean[i].unique()[0]:\n",
        "        y = [df_clean[i].value_counts().values[0], df_clean[i].value_counts().values[1]]\n",
        "    else:\n",
        "        y = [df_clean[i].value_counts().values[1], df_clean[i].value_counts().values[0]]\n",
        "    plt.yticks([])\n",
        "    plt.ylabel('')\n",
        "    # This is the location for the annotated text\n",
        "    q = 1\n",
        "    p = 50\n",
        "    # Annotating the bar plot with the values (total death count)\n",
        "    for q in range(len(x)):\n",
        "        plt.annotate(y[q], (-0.1 + q, y[q] + p))\n",
        "\n",
        "\n",
        "plt.tight_layout();\n",
        "plt.show();\n"
      ],
      "execution_count": 21,
      "outputs": [
        {
          "output_type": "display_data",
          "data": {
            "image/png": "[encoded data removed]",
            "text/plain": [
              "<Figure size 1008x576 with 6 Axes>"
            ]
          },
          "metadata": {
            "tags": [],
            "needs_background": "light"
          }
        }
      ]
    },
    {
      "cell_type": "markdown",
      "metadata": {
        "id": "zT519QxI8okC"
      },
      "source": [
        "Há um grande desequilíbrio nas variáveis ​​`SeniorCitizen` e `PhoneService`. A maioria dos clientes são jovens e da mesma forma, a maioria dos clientes possuem um serviço de telefone.\n",
        "\n",
        "É melhor verificar como a variável de destino (churn) muda de acordo com os recursos binários. Para poder fazer cálculos, precisamos alterar os valores da variável de destino."
      ]
    },
    {
      "cell_type": "code",
      "metadata": {
        "colab": {
          "base_uri": "https://localhost:8080/",
          "height": 510
        },
        "id": "mQl1reK7gi8A",
        "outputId": "2525719b-262d-4e43-e866-215130291031"
      },
      "source": [
        "list_features = ['gender', 'SeniorCitizen', 'Partner', 'Dependents', 'PhoneService', 'PaperlessBilling' ]\n",
        "fig, ax = plt.subplots(2,6,figsize=(20, 8), sharey=True )\n",
        "for i in range(len(list_features)):\n",
        "  for j in range(2):\n",
        "    if j == 0:\n",
        "      sns.countplot(df_clean[df_clean.Churn == 'Yes'][list_features[i]], ax=ax[j,i]).set_title('Churned')\n",
        "      x = [df_clean[df_clean.Churn == 'Yes'][list_features[i]].unique()[0], df_clean[df_clean.Churn == 'Yes'][list_features[i]].unique()[1]]\n",
        "      if df_clean[df_clean.Churn == 'Yes'][list_features[i]].value_counts().index[0] == df_clean[df_clean.Churn == 'Yes'][list_features[i]].unique()[0]:\n",
        "        y = [df_clean[df_clean.Churn == 'Yes'][list_features[i]].value_counts().values[0], df_clean[df_clean.Churn == 'Yes'][list_features[i]].value_counts().values[1]]\n",
        "      else:\n",
        "        y = [df_clean[df_clean.Churn == 'Yes'][list_features[i]].value_counts().values[1], df_clean[df_clean.Churn == 'Yes'][list_features[i]].value_counts().values[0]]\n",
        "      ax[j,i].get_yaxis().set_visible(False)\n",
        "      # This is the location for the annotated text\n",
        "      q = 1\n",
        "      p = 50\n",
        "        # Annotating the bar plot with the values (total death count)\n",
        "      for q in range(len(x)):\n",
        "          ax[j,i].annotate(y[q], (-0.1 + q, y[q] + p))\n",
        "    else:\n",
        "      sns.countplot(df_clean[df_clean.Churn == 'No'][list_features[i]], ax=ax[j,i]).set_title('Not Churned')\n",
        "      x = [df_clean[df_clean.Churn == 'No'][list_features[i]].unique()[0], df_clean[df_clean.Churn == 'No'][list_features[i]].unique()[1]]\n",
        "      if df_clean[df_clean.Churn == 'No'][list_features[i]].value_counts().index[0] == df_clean[df_clean.Churn == 'No'][list_features[i]].unique()[0]:\n",
        "        y = [df_clean[df_clean.Churn == 'No'][list_features[i]].value_counts().values[0], df_clean[df_clean.Churn == 'No'][list_features[i]].value_counts().values[1]]\n",
        "      else:\n",
        "        y = [df_clean[df_clean.Churn == 'No'][list_features[i]].value_counts().values[1], df_clean[df_clean.Churn == 'No'][list_features[i]].value_counts().values[0]]\n",
        "      ax[j,i].get_yaxis().set_visible(False)\n",
        "      # This is the location for the annotated text\n",
        "      q = 1\n",
        "      p = 50\n",
        "        # Annotating the bar plot with the values (total death count)\n",
        "      for q in range(len(x)):\n",
        "          ax[j,i].annotate(y[q], (-0.1 + q, y[q] + p))\n",
        "\n",
        "ax[0,1].set_xticklabels(['Not Senior', 'Senior']);\n",
        "ax[1,1].set_xticklabels(['Not Senior', 'Senior']);\n",
        "plt.tight_layout();\n",
        "plt.plot();\n",
        "\n"
      ],
      "execution_count": 22,
      "outputs": [
        {
          "output_type": "display_data",
          "data": {
            "image/png": "[encoded data removed]",
            "text/plain": [
              "<Figure size 1440x576 with 12 Axes>"
            ]
          },
          "metadata": {
            "tags": [],
            "needs_background": "light"
          }
        }
      ]
    },
    {
      "cell_type": "markdown",
      "metadata": {
        "id": "xot_oem_aWjS"
      },
      "source": [
        "A quantidade de clientes que cometeram Churn associados à variável gênero são bem próximas. Levando em conta que os clientes estão em mesma proporção de gênero, essa coluna não irá trazer informações pertinentes para ajudar na previsão do algoritmo. Portanto, a coluna `gender` não será usada no modelo de Machine Learning.\n",
        "\n",
        "A variável `PhoneService` tem valores de Churn muito próximos (2%) mas iremos mante-la em nosso algoritmo. \n",
        "\n",
        "As demais variáveis monstram mais indicios de que agregram efeito em nossa variável alvo. \n",
        "\n"
      ]
    },
    {
      "cell_type": "code",
      "metadata": {
        "id": "n0cd8YYXTALu"
      },
      "source": [
        "#Drop of gender column\n",
        "df_clean.drop('gender', axis=1, inplace=True)"
      ],
      "execution_count": 23,
      "outputs": []
    },
    {
      "cell_type": "markdown",
      "metadata": {
        "id": "dUWIN2ZKeNTA"
      },
      "source": [
        "##Variáveis Categóricas Restantes\n",
        "\n",
        "Agora vamos ver como se portam as variáveis com mais de dois valores em suas colunas e ver quais delas podem influenciar no Churn. Como anteriormente, vamos olhar como estão distribuidos os valores em cada variável. Vamos começar com as variáveis relacionados a serviços de internet. "
      ]
    },
    {
      "cell_type": "code",
      "metadata": {
        "colab": {
          "base_uri": "https://localhost:8080/",
          "height": 584
        },
        "id": "MZu90tT5hf9q",
        "outputId": "add50939-5f1e-4e33-d5ef-4126c4b28645"
      },
      "source": [
        "#  Categorical Data\n",
        "list_features = ['InternetService', 'OnlineSecurity','OnlineBackup', 'DeviceProtection', 'TechSupport', 'StreamingTV','StreamingMovies' ]\n",
        "\n",
        "#  Categorical Data\n",
        "a = 2  # number of rows\n",
        "b = 4  # number of columns\n",
        "c = 1  # initialize plot counter\n",
        "\n",
        "fig = plt.figure(figsize=(14,8))\n",
        "\n",
        "for i in list_features:\n",
        "    plt.subplot(a, b, c)\n",
        "    plt.xlabel(i)\n",
        "    sns.countplot(df_clean[i])\n",
        "    c = c + 1\n",
        "    x = [df_clean[i].unique()[0], df_clean[i].unique()[1],df_clean[i].unique()[2]]\n",
        "    if df_clean[i].value_counts().index[0] == df_clean[i].unique()[0]:\n",
        "        y = [df_clean[i].value_counts().values[0], df_clean[i].value_counts().values[1],df_clean[i].value_counts().values[2]]\n",
        "    else:\n",
        "        y = [df_clean[i].value_counts().values[1], df_clean[i].value_counts().values[0],df_clean[i].value_counts().values[2]]\n",
        "    plt.yticks([])\n",
        "    plt.ylabel('')\n",
        "    # This is the location for the annotated text\n",
        "    q = 1\n",
        "    p = 50\n",
        "    # Annotating the bar plot with the values (total death count)\n",
        "    for q in range(len(x)):\n",
        "        plt.annotate(y[q], (-0.1 + q, y[q] + p))\n",
        "\n",
        "\n",
        "plt.tight_layout();\n",
        "plt.show();\n"
      ],
      "execution_count": 24,
      "outputs": [
        {
          "output_type": "display_data",
          "data": {
            "image/png": "[encoded data removed]",
            "text/plain": [
              "<Figure size 1008x576 with 7 Axes>"
            ]
          },
          "metadata": {
            "tags": [],
            "needs_background": "light"
          }
        }
      ]
    },
    {
      "cell_type": "markdown",
      "metadata": {
        "id": "W-BqhU2IAjgj"
      },
      "source": [
        "Das variáveis presentes acima, vemos que as variáveis `OnlineSecurity`, `OnlineBackup`, `DeviceProtection`, `TechSupport`, `StreamingTV`, `StreamingMovies` são opções que dependem do cliente possuir um serviço de internet. Portanto, vamos olhar isoladamente a variável `InternetService`."
      ]
    },
    {
      "cell_type": "code",
      "metadata": {
        "colab": {
          "base_uri": "https://localhost:8080/",
          "height": 369
        },
        "id": "e-OaRAcDigmL",
        "outputId": "e20042db-e679-4f70-fb88-9ff4cbf2179f"
      },
      "source": [
        "fig, ax = plt.subplots(1,2, figsize = (10,5))\n",
        "#Churn\n",
        "sns.countplot(df_clean[df_clean.Churn == 'Yes']['InternetService'], ax=ax[0]).set_title('Churned')\n",
        "x = [df_clean[df_clean.Churn == 'Yes']['InternetService'].unique()[0], df_clean[df_clean.Churn == 'Yes']['InternetService'].unique()[1],df_clean[df_clean.Churn == 'Yes']['InternetService'].unique()[2]]\n",
        "y = [df_clean[df_clean.Churn == 'Yes']['InternetService'].value_counts().values[1], df_clean[df_clean.Churn == 'Yes']['InternetService'].value_counts().values[0],\n",
        "     df_clean[df_clean.Churn == 'Yes']['InternetService'].value_counts().values[2]]\n",
        "ax[0].get_yaxis().set_visible(False)\n",
        "# This is the location for the annotated text\n",
        "q = 1\n",
        "p = 50\n",
        "# Annotating the bar plot with the values (total death count)\n",
        "for q in range(len(x)):\n",
        "  ax[0].annotate(y[q], (-0.1 + q, y[q] + p))\n",
        "\n",
        "\n",
        "#Not Churn\n",
        "sns.countplot(df_clean[df_clean.Churn == 'No']['InternetService'], ax=ax[1]).set_title('Not Churned')\n",
        "x = [df_clean[df_clean.Churn == 'No']['InternetService'].unique()[0], df_clean[df_clean.Churn == 'No']['InternetService'].unique()[1],df_clean[df_clean.Churn == 'No']['InternetService'].unique()[2]]\n",
        "y = [df_clean[df_clean.Churn == 'No']['InternetService'].value_counts().values[0], df_clean[df_clean.Churn == 'No']['InternetService'].value_counts().values[1],\n",
        "     df_clean[df_clean.Churn == 'No']['InternetService'].value_counts().values[2]]\n",
        "ax[1].get_yaxis().set_visible(False)\n",
        "# This is the location for the annotated text\n",
        "q = 1\n",
        "p = 50\n",
        "# Annotating the bar plot with the values (total death count)\n",
        "for q in range(len(x)):\n",
        "  ax[1].annotate(y[q], (-0.1 + q, y[q] + p))\n",
        "\n",
        "plt.tight_layout()\n",
        "plt.show()\n",
        "\n"
      ],
      "execution_count": 25,
      "outputs": [
        {
          "output_type": "display_data",
          "data": {
            "image/png": "[encoded data removed]",
            "text/plain": [
              "<Figure size 720x360 with 2 Axes>"
            ]
          },
          "metadata": {
            "tags": [],
            "needs_background": "light"
          }
        }
      ]
    },
    {
      "cell_type": "markdown",
      "metadata": {
        "id": "_Lc283iBCwu2"
      },
      "source": [
        "Essa variável nos mostra ser muito interessante para prever Churn, pois clientes que possuem internet de fribra optica são mais propensos a largarem o serviço da empresa. No gráfico acima, vemos que não há muita diferença em clientes que optam por fibra óptica ou por DSL. Isso pode indicar um serviço de fibra óptica inferior, mas antes de tirar conclusões preciptadas, vamos ver a difenrença de preços entre os serviços. "
      ]
    },
    {
      "cell_type": "code",
      "metadata": {
        "colab": {
          "base_uri": "https://localhost:8080/",
          "height": 173
        },
        "id": "ephwY66JE4jj",
        "outputId": "06e8f51e-1840-4da6-ec43-5e3b64fceb45"
      },
      "source": [
        "df_clean[['MonthlyCharges','InternetService']].groupby(['InternetService']).mean()"
      ],
      "execution_count": 26,
      "outputs": [
        {
          "output_type": "execute_result",
          "data": {
            "text/html": [
              "<div>\n",
              "<style scoped>\n",
              "    .dataframe tbody tr th:only-of-type {\n",
              "        vertical-align: middle;\n",
              "    }\n",
              "\n",
              "    .dataframe tbody tr th {\n",
              "        vertical-align: top;\n",
              "    }\n",
              "\n",
              "    .dataframe thead th {\n",
              "        text-align: right;\n",
              "    }\n",
              "</style>\n",
              "<table border=\"1\" class=\"dataframe\">\n",
              "  <thead>\n",
              "    <tr style=\"text-align: right;\">\n",
              "      <th></th>\n",
              "      <th>MonthlyCharges</th>\n",
              "    </tr>\n",
              "    <tr>\n",
              "      <th>InternetService</th>\n",
              "      <th></th>\n",
              "    </tr>\n",
              "  </thead>\n",
              "  <tbody>\n",
              "    <tr>\n",
              "      <th>DSL</th>\n",
              "      <td>58.088017</td>\n",
              "    </tr>\n",
              "    <tr>\n",
              "      <th>Fiber optic</th>\n",
              "      <td>91.500129</td>\n",
              "    </tr>\n",
              "    <tr>\n",
              "      <th>No</th>\n",
              "      <td>21.076283</td>\n",
              "    </tr>\n",
              "  </tbody>\n",
              "</table>\n",
              "</div>"
            ],
            "text/plain": [
              "                 MonthlyCharges\n",
              "InternetService                \n",
              "DSL                   58.088017\n",
              "Fiber optic           91.500129\n",
              "No                    21.076283"
            ]
          },
          "metadata": {
            "tags": []
          },
          "execution_count": 26
        }
      ]
    },
    {
      "cell_type": "markdown",
      "metadata": {
        "id": "RH039RzbGUFr"
      },
      "source": [
        "O serviço de fibra óptica é mais caro do que o DSL, isso pode ser um motivo pelo qual clientes com serviço de fibra óptica são mais propensos a cometer Churn.\n",
        "\n",
        "Vamos ver como é a proporção da Taxa de Churn com os serviços que dependem de internet."
      ]
    },
    {
      "cell_type": "code",
      "metadata": {
        "colab": {
          "base_uri": "https://localhost:8080/",
          "height": 513
        },
        "id": "DcYOk14xmwvX",
        "outputId": "5856619a-edd5-4518-eb0b-4b7d5248d798"
      },
      "source": [
        "list_features = ['OnlineSecurity','OnlineBackup', 'DeviceProtection', 'TechSupport', 'StreamingTV','StreamingMovies' ]\n",
        "fig, ax = plt.subplots(2,6,figsize=(20, 8), sharey=True )\n",
        "for i in range(len(list_features)):\n",
        "  for j in range(2):\n",
        "    if j == 0:\n",
        "      sns.countplot(df_clean[df_clean.Churn == 'Yes'][list_features[i]], ax=ax[j,i]).set_title('Churned')\n",
        "      x = [df_clean[df_clean.Churn == 'Yes'][list_features[i]].unique()[0], df_clean[df_clean.Churn == 'Yes'][list_features[i]].unique()[1],\n",
        "           df_clean[df_clean.Churn == 'Yes'][list_features[i]].unique()[2]]\n",
        "      if df_clean[df_clean.Churn == 'Yes'][list_features[i]].value_counts().index[0] == df_clean[df_clean.Churn == 'Yes'][list_features[i]].unique()[0]:\n",
        "        y = [df_clean[df_clean.Churn == 'Yes'][list_features[i]].value_counts().values[0], df_clean[df_clean.Churn == 'Yes'][list_features[i]].value_counts().values[1],\n",
        "             df_clean[df_clean.Churn == 'Yes'][list_features[i]].value_counts().values[2]]\n",
        "      else:\n",
        "        y = [df_clean[df_clean.Churn == 'Yes'][list_features[i]].value_counts().values[1], df_clean[df_clean.Churn == 'Yes'][list_features[i]].value_counts().values[0],\n",
        "             df_clean[df_clean.Churn == 'Yes'][list_features[i]].value_counts().values[2]]\n",
        "      ax[j,i].get_yaxis().set_visible(False)\n",
        "      # This is the location for the annotated text\n",
        "      q = 1\n",
        "      p = 50\n",
        "        # Annotating the bar plot with the values (total death count)\n",
        "      for q in range(len(x)):\n",
        "          ax[j,i].annotate(y[q], (-0.1 + q, y[q] + p))\n",
        "    else:\n",
        "      sns.countplot(df_clean[df_clean.Churn == 'No'][list_features[i]], ax=ax[j,i]).set_title('Not Churned')\n",
        "      x = [df_clean[df_clean.Churn == 'No'][list_features[i]].unique()[0], df_clean[df_clean.Churn == 'No'][list_features[i]].unique()[1],\n",
        "           df_clean[df_clean.Churn == 'No'][list_features[i]].unique()[2]]\n",
        "      if df_clean[df_clean.Churn == 'No'][list_features[i]].value_counts().index[0] == df_clean[df_clean.Churn == 'No'][list_features[i]].unique()[0]:\n",
        "        y = [df_clean[df_clean.Churn == 'No'][list_features[i]].value_counts().values[0], df_clean[df_clean.Churn == 'No'][list_features[i]].value_counts().values[1],\n",
        "             df_clean[df_clean.Churn == 'No'][list_features[i]].value_counts().values[2]]\n",
        "      else:\n",
        "        y = [df_clean[df_clean.Churn == 'No'][list_features[i]].value_counts().values[1], df_clean[df_clean.Churn == 'No'][list_features[i]].value_counts().values[0],\n",
        "             df_clean[df_clean.Churn == 'No'][list_features[i]].value_counts().values[2]]\n",
        "      if list_features[i] == 'StreamingMovies':\n",
        "        y = [df_clean[df_clean.Churn == 'No'][list_features[i]].value_counts().values[1], df_clean[df_clean.Churn == 'No'][list_features[i]].value_counts().values[2],\n",
        "             df_clean[df_clean.Churn == 'No'][list_features[i]].value_counts().values[0]]\n",
        "      ax[j,i].get_yaxis().set_visible(False)\n",
        "      # This is the location for the annotated text\n",
        "      q = 1\n",
        "      p = 50\n",
        "        # Annotating the bar plot with the values (total death count)\n",
        "      for q in range(len(x)):\n",
        "          ax[j,i].annotate(y[q], (-0.1 + q, y[q] + p))\n",
        "\n",
        "\n",
        "plt.tight_layout();\n",
        "plt.plot();\n",
        "\n"
      ],
      "execution_count": 27,
      "outputs": [
        {
          "output_type": "display_data",
          "data": {
            "image/png": "[encoded data removed]",
            "text/plain": [
              "<Figure size 1440x576 with 12 Axes>"
            ]
          },
          "metadata": {
            "tags": [],
            "needs_background": "light"
          }
        }
      ]
    },
    {
      "cell_type": "markdown",
      "metadata": {
        "id": "gZDc5oh_qy1P"
      },
      "source": [
        "A diferença entre `StreamingTV` e `StreamingMovies` não é grande, mas eles ainda podem agregar valor ao modelo. Você pode decidir não incluir esses dois recursos. Os demais recursos relacionados ao serviço de Internet parecem ter taxas de churn diferentes para suas classes porque a taxa de churn muda de acordo com os clientes que têm esses serviços. "
      ]
    },
    {
      "cell_type": "markdown",
      "metadata": {
        "id": "48d3ezKS0kHP"
      },
      "source": [
        "###Serviço de Telefone"
      ]
    },
    {
      "cell_type": "code",
      "metadata": {
        "colab": {
          "base_uri": "https://localhost:8080/",
          "height": 543
        },
        "id": "54a1V2dgI7Ry",
        "outputId": "402ef79a-f423-431b-be78-42a0bf525a2f"
      },
      "source": [
        "#Creating the Multiple Plot\n",
        "fig, ax = plt.subplots(1, 2, figsize=(10, 7), sharey=True)\n",
        "#Figure Title\n",
        "fig.suptitle('Proportion of PhoneService and MultipleLines Features', fontsize=16,y=1.08)\n",
        "\n",
        "\n",
        "\n",
        "#Column Plot [0,0]   \n",
        "sns.countplot(df_clean['MultipleLines'], ax=ax[0])\n",
        "x = ['No', 'Yes', 'No phone service']\n",
        "y = [df_clean['MultipleLines'].value_counts().values[2], df_clean['MultipleLines'].value_counts().values[0],df_clean['MultipleLines'].value_counts().values[1]]\n",
        "ax[0].get_yaxis().set_visible(False)\n",
        "# This is the location for the annotated text\n",
        "i = 1\n",
        "j = 50\n",
        "# Annotating the bar plot with the values (total death count)\n",
        "for i in range(len(x)):\n",
        "    ax[0].annotate(y[i], (-0.1 + i, y[i] + j))\n",
        "\n",
        "#Column Plot [0,1]   \n",
        "sns.countplot(df_clean['PhoneService'], ax=ax[1])\n",
        "x = ['Yes', 'No']\n",
        "y = [df_clean['PhoneService'].value_counts().values[1], df_clean['PhoneService'].value_counts().values[0]]\n",
        "ax[1].get_yaxis().set_visible(False)\n",
        "# This is the location for the annotated text\n",
        "i = 1\n",
        "j = 50\n",
        "# Annotating the bar plot with the values (total death count)\n",
        "for i in range(len(x)):\n",
        "    ax[1].annotate(y[i], (-0.1 + i, y[i] + j))"
      ],
      "execution_count": 28,
      "outputs": [
        {
          "output_type": "display_data",
          "data": {
            "image/png": "[encoded data removed]",
            "text/plain": [
              "<Figure size 720x504 with 2 Axes>"
            ]
          },
          "metadata": {
            "tags": [],
            "needs_background": "light"
          }
        }
      ]
    },
    {
      "cell_type": "markdown",
      "metadata": {
        "id": "-nMUJlI5Eytx"
      },
      "source": [
        "Os clientes que não possuem serviço de telefone, claramente não vão ter multiplas linhas. Note também que a resposta *No* da coluna `MultipleLines` representa os clientes que possuem apenas uma linha telefonica. Portanto, a coluna `MultipleLines` engloba a coluna `PhoneService` e ainda apresenta mais detalhes. Vamos retirar a coluna `PhoneService`, pois ela não irá agregar em nosso modelo."
      ]
    },
    {
      "cell_type": "code",
      "metadata": {
        "id": "yEWVOacpFr0S"
      },
      "source": [
        "#Dropping PhoneService Column\n",
        "df_clean.drop('PhoneService', axis=1, inplace=True)"
      ],
      "execution_count": 29,
      "outputs": []
    },
    {
      "cell_type": "code",
      "metadata": {
        "colab": {
          "base_uri": "https://localhost:8080/",
          "height": 369
        },
        "id": "wBdlSYeek9rp",
        "outputId": "0dbf4d9c-b1d5-4631-9a34-ffaca7c1fb7d"
      },
      "source": [
        "fig, ax = plt.subplots(1,2, figsize = (10,5))\n",
        "#Churn\n",
        "sns.countplot(df_clean[df_clean.Churn == 'Yes']['MultipleLines'], ax=ax[0]).set_title('Churned')\n",
        "x = [df_clean[df_clean.Churn == 'Yes']['MultipleLines'].unique()[0], df_clean[df_clean.Churn == 'Yes']['MultipleLines'].unique()[1],df_clean[df_clean.Churn == 'Yes']['MultipleLines'].unique()[2]]\n",
        "y = [df_clean[df_clean.Churn == 'Yes']['MultipleLines'].value_counts().values[1], df_clean[df_clean.Churn == 'Yes']['MultipleLines'].value_counts().values[0],\n",
        "     df_clean[df_clean.Churn == 'Yes']['MultipleLines'].value_counts().values[2]]\n",
        "ax[0].get_yaxis().set_visible(False)\n",
        "# This is the location for the annotated text\n",
        "q = 1\n",
        "p = 10\n",
        "# Annotating the bar plot with the values (total death count)\n",
        "for q in range(len(x)):\n",
        "  ax[0].annotate(y[q], (-0.1 + q, y[q] + p))\n",
        "\n",
        "\n",
        "#Not Churn\n",
        "sns.countplot(df_clean[df_clean.Churn == 'No']['MultipleLines'], ax=ax[1]).set_title('Not Churned')\n",
        "x = [df_clean[df_clean.Churn == 'No']['MultipleLines'].unique()[0], df_clean[df_clean.Churn == 'No']['MultipleLines'].unique()[1],df_clean[df_clean.Churn == 'No']['MultipleLines'].unique()[2]]\n",
        "y = [df_clean[df_clean.Churn == 'No']['MultipleLines'].value_counts().values[2], df_clean[df_clean.Churn == 'No']['MultipleLines'].value_counts().values[0],\n",
        "     df_clean[df_clean.Churn == 'No']['MultipleLines'].value_counts().values[1]]\n",
        "ax[1].get_yaxis().set_visible(False)\n",
        "# This is the location for the annotated text\n",
        "q = 1\n",
        "p = 50\n",
        "# Annotating the bar plot with the values (total death count)\n",
        "for q in range(len(x)):\n",
        "  ax[1].annotate(y[q], (-0.1 + q, y[q] + p))\n",
        "\n",
        "plt.tight_layout()\n",
        "plt.show()\n",
        "\n"
      ],
      "execution_count": 30,
      "outputs": [
        {
          "output_type": "display_data",
          "data": {
            "image/png": "[encoded data removed]",
            "text/plain": [
              "<Figure size 720x360 with 2 Axes>"
            ]
          },
          "metadata": {
            "tags": [],
            "needs_background": "light"
          }
        }
      ]
    },
    {
      "cell_type": "markdown",
      "metadata": {
        "id": "0kf2XLWmIEG5"
      },
      "source": [
        "As respostas da coluna mostram uma taxa de Churn muito próximas, mas irei manter a variável no nosso modelo. \n",
        "\n"
      ]
    },
    {
      "cell_type": "markdown",
      "metadata": {
        "id": "tPRKxQdgJ21k"
      },
      "source": [
        "###Contrato e Pagamento"
      ]
    },
    {
      "cell_type": "code",
      "metadata": {
        "colab": {
          "base_uri": "https://localhost:8080/",
          "height": 280
        },
        "id": "q80ZLx2q920A",
        "outputId": "e4230912-fbc6-441e-9c0c-5018b1b88159"
      },
      "source": [
        "fig, ax = plt.subplots()\n",
        "sns.countplot(df_clean['Contract']);\n",
        "x = ['Month-to-month', 'One Year Contract', 'Two Year']\n",
        "y = [df_clean['Contract'].value_counts().values[0], df_clean['Contract'].value_counts().values[2],df_clean['Contract'].value_counts().values[1]]\n",
        "ax.get_yaxis().set_visible(False)\n",
        "# This is the location for the annotated text\n",
        "i = 1\n",
        "j = 50\n",
        "# Annotating the bar plot with the values (total death count)\n",
        "for i in range(len(x)):\n",
        "    ax.annotate(y[i], (-0.1 + i, y[i] + j))\n",
        "plt.show();"
      ],
      "execution_count": 31,
      "outputs": [
        {
          "output_type": "display_data",
          "data": {
            "image/png": "[encoded data removed]",
            "text/plain": [
              "<Figure size 432x288 with 1 Axes>"
            ]
          },
          "metadata": {
            "tags": [],
            "needs_background": "light"
          }
        }
      ]
    },
    {
      "cell_type": "code",
      "metadata": {
        "colab": {
          "base_uri": "https://localhost:8080/",
          "height": 369
        },
        "id": "zVNoKjdSuVad",
        "outputId": "d2ab86bb-ea2b-4f64-a6c4-20c6a3bf1254"
      },
      "source": [
        "fig, ax = plt.subplots(1,2, figsize = (10,5))\n",
        "#Churn\n",
        "sns.countplot(df_clean[df_clean.Churn == 'Yes']['Contract'], ax=ax[0]).set_title('Churned')\n",
        "x = [df_clean[df_clean.Churn == 'Yes']['Contract'].unique()[0], df_clean[df_clean.Churn == 'Yes']['Contract'].unique()[2],df_clean[df_clean.Churn == 'Yes']['Contract'].unique()[1]]\n",
        "y = [df_clean[df_clean.Churn == 'Yes']['Contract'].value_counts().values[0], df_clean[df_clean.Churn == 'Yes']['Contract'].value_counts().values[2],\n",
        "     df_clean[df_clean.Churn == 'Yes']['Contract'].value_counts().values[1]]\n",
        "ax[0].get_yaxis().set_visible(False)\n",
        "# This is the location for the annotated text\n",
        "q = 1\n",
        "p = 50\n",
        "# Annotating the bar plot with the values (total death count)\n",
        "for q in range(len(x)):\n",
        "  ax[0].annotate(y[q], (-0.1 + q, y[q] + p))\n",
        "\n",
        "\n",
        "#Not Churn\n",
        "sns.countplot(df_clean[df_clean.Churn == 'No']['Contract'], ax=ax[1]).set_title('Not Churned')\n",
        "x = [df_clean[df_clean.Churn == 'No']['Contract'].unique()[0], df_clean[df_clean.Churn == 'No']['Contract'].unique()[1],df_clean[df_clean.Churn == 'No']['Contract'].unique()[2]]\n",
        "y = [df_clean[df_clean.Churn == 'No']['Contract'].value_counts().values[0], df_clean[df_clean.Churn == 'No']['Contract'].value_counts().values[2],\n",
        "     df_clean[df_clean.Churn == 'No']['Contract'].value_counts().values[1]]\n",
        "ax[1].get_yaxis().set_visible(False)\n",
        "# This is the location for the annotated text\n",
        "q = 1\n",
        "p = 50\n",
        "# Annotating the bar plot with the values (total death count)\n",
        "for q in range(len(x)):\n",
        "  ax[1].annotate(y[q], (-0.1 + q, y[q] + p))\n",
        "\n",
        "plt.tight_layout()\n",
        "plt.show()\n",
        "\n"
      ],
      "execution_count": 32,
      "outputs": [
        {
          "output_type": "display_data",
          "data": {
            "image/png": "[encoded data removed]",
            "text/plain": [
              "<Figure size 720x360 with 2 Axes>"
            ]
          },
          "metadata": {
            "tags": [],
            "needs_background": "light"
          }
        }
      ]
    },
    {
      "cell_type": "markdown",
      "metadata": {
        "id": "meXoyboPjSx5"
      },
      "source": [
        "Vemos que clientes com contratos de curto prazo são mais propensos a largarem o serviço. Portanto, vemos o motivo do qual muitas empresas costumam fazer ofertas mais em contas a contratos a longo prazo."
      ]
    },
    {
      "cell_type": "code",
      "metadata": {
        "colab": {
          "base_uri": "https://localhost:8080/",
          "height": 370
        },
        "id": "HTKiV0xsj0Y7",
        "outputId": "af375402-07a3-42bf-80a3-2d8bf51ff6a8"
      },
      "source": [
        "fig, ax = plt.subplots()\n",
        "sns.countplot(df_clean['PaymentMethod']);\n",
        "x = ['Electronic check', 'Mailed check', 'nk transfer (automatic)','Credit card (automatic)']\n",
        "y = [df_clean['PaymentMethod'].value_counts().values[0], df_clean['PaymentMethod'].value_counts().values[1],df_clean['PaymentMethod'].value_counts().values[2],df_clean['PaymentMethod'].value_counts().values[3]]\n",
        "ax.get_yaxis().set_visible(False)\n",
        "plt.xticks(rotation=45)\n",
        "# This is the location for the annotated text\n",
        "i = 1\n",
        "j = 50\n",
        "# Annotating the bar plot with the values (total death count)\n",
        "for i in range(len(x)):\n",
        "    ax.annotate(y[i], (-0.1 + i, y[i] + j))\n",
        "plt.show();"
      ],
      "execution_count": 33,
      "outputs": [
        {
          "output_type": "display_data",
          "data": {
            "image/png": "[encoded data removed]",
            "text/plain": [
              "<Figure size 432x288 with 1 Axes>"
            ]
          },
          "metadata": {
            "tags": [],
            "needs_background": "light"
          }
        }
      ]
    },
    {
      "cell_type": "code",
      "metadata": {
        "colab": {
          "base_uri": "https://localhost:8080/",
          "height": 369
        },
        "id": "IBkQdjHBllsz",
        "outputId": "1397f8d4-1105-400a-bdc9-c1f51be0c110"
      },
      "source": [
        "#Churn Rate for Payment\n",
        "fig, ax = plt.subplots(1,2, figsize = (12,5))\n",
        "#Churn\n",
        "sns.countplot(df_clean[df_clean.Churn == 'Yes']['PaymentMethod'], ax=ax[0]).set_title('Churned')\n",
        "x = [df_clean[df_clean.Churn == 'Yes']['PaymentMethod'].unique()[0], df_clean[df_clean.Churn == 'Yes']['PaymentMethod'].unique()[1],\n",
        "     df_clean[df_clean.Churn == 'Yes']['PaymentMethod'].unique()[2], df_clean[df_clean.Churn == 'Yes']['PaymentMethod'].unique()[3]]\n",
        "y = [df_clean[df_clean.Churn == 'Yes']['PaymentMethod'].value_counts().values[1], df_clean[df_clean.Churn == 'Yes']['PaymentMethod'].value_counts().values[0],\n",
        "     df_clean[df_clean.Churn == 'Yes']['PaymentMethod'].value_counts().values[2], df_clean[df_clean.Churn == 'Yes']['PaymentMethod'].value_counts().values[3]]\n",
        "ax[0].get_yaxis().set_visible(False)\n",
        "# This is the location for the annotated text\n",
        "q = 1\n",
        "p = 30\n",
        "# Annotating the bar plot with the values (total death count)\n",
        "for q in range(len(x)):\n",
        "  ax[0].annotate(y[q], (-0.1 + q, y[q] + p))\n",
        "\n",
        "\n",
        "#Not Churn\n",
        "sns.countplot(df_clean[df_clean.Churn == 'No']['PaymentMethod'], ax=ax[1]).set_title('Not Churned')\n",
        "x = [df_clean[df_clean.Churn == 'No']['PaymentMethod'].unique()[0], df_clean[df_clean.Churn == 'No']['PaymentMethod'].unique()[1],\n",
        "     df_clean[df_clean.Churn == 'No']['PaymentMethod'].unique()[2], df_clean[df_clean.Churn == 'No']['PaymentMethod'].unique()[3]]\n",
        "y = [df_clean[df_clean.Churn == 'No']['PaymentMethod'].value_counts().values[1], df_clean[df_clean.Churn == 'No']['PaymentMethod'].value_counts().values[0],\n",
        "     df_clean[df_clean.Churn == 'No']['PaymentMethod'].value_counts().values[3], df_clean[df_clean.Churn == 'No']['PaymentMethod'].value_counts().values[2]]\n",
        "ax[1].get_yaxis().set_visible(False)\n",
        "# This is the location for the annotated text\n",
        "q = 1\n",
        "p = 30\n",
        "# Annotating the bar plot with the values (total death count)\n",
        "for q in range(len(x)):\n",
        "  ax[1].annotate(y[q], (-0.1 + q, y[q] + p))\n",
        "\n",
        "for ax in fig.axes:\n",
        "    ax.tick_params('x',labelrotation=45)\n",
        "plt.tight_layout()\n",
        "plt.show()\n",
        "\n"
      ],
      "execution_count": 34,
      "outputs": [
        {
          "output_type": "display_data",
          "data": {
            "image/png": "[encoded data removed]",
            "text/plain": [
              "<Figure size 864x360 with 2 Axes>"
            ]
          },
          "metadata": {
            "tags": [],
            "needs_background": "light"
          }
        }
      ]
    },
    {
      "cell_type": "markdown",
      "metadata": {
        "id": "kKGbJUFfpEBU"
      },
      "source": [
        "Podemos ver que a maioria dos clientes efetua pagamento em check, que também são os clientes mais propensos a largarem o serviço. Portanto pode ser feita uma análise mais aprofundada para saber se os clientes que pagam com check tem relação com alguma outra variável presente e tentar fazer algum plano para esse cliente permanecer na empresa. "
      ]
    },
    {
      "cell_type": "code",
      "metadata": {
        "colab": {
          "base_uri": "https://localhost:8080/",
          "height": 281
        },
        "id": "BLAobAFEqo39",
        "outputId": "5873b264-e654-4416-f0d5-5b2e50bf7bb7"
      },
      "source": [
        "df_clean.groupby(['Contract'])['PaymentMethod'].value_counts().plot(kind='barh')\n",
        "plt.ylabel('')\n",
        "plt.title('Contract Tyes per Payment')\n",
        "plt.show();"
      ],
      "execution_count": 35,
      "outputs": [
        {
          "output_type": "display_data",
          "data": {
            "image/png": "[encoded data removed]",
            "text/plain": [
              "<Figure size 432x288 with 1 Axes>"
            ]
          },
          "metadata": {
            "tags": [],
            "needs_background": "light"
          }
        }
      ]
    },
    {
      "cell_type": "markdown",
      "metadata": {
        "id": "MP4VVsMZr1dh"
      },
      "source": [
        "Ao olharmos os tipos de pagamentos em relação aos contratos, vemos que clientes que optam por contratos de curto prazo costumam, em sua maioria, pagar em check. Portanto, a empresa pode identificar esses clientes e tentar fazer uma boa oferta para ficarem a longo prazo.\n",
        "\n",
        "Vamos agora tentar identificar se quanto maior o tempo do cliente na empresa, será menor as chances dele cometer Churn."
      ]
    },
    {
      "cell_type": "code",
      "metadata": {
        "colab": {
          "base_uri": "https://localhost:8080/",
          "height": 142
        },
        "id": "IDGsS-MEyZr8",
        "outputId": "a9186bcb-e3b4-4614-d102-33f4287e1678"
      },
      "source": [
        "#The average tenure in months for people who left the company\n",
        "round(df_clean[['tenure','Churn']].groupby(['Churn']).mean())"
      ],
      "execution_count": 36,
      "outputs": [
        {
          "output_type": "execute_result",
          "data": {
            "text/html": [
              "<div>\n",
              "<style scoped>\n",
              "    .dataframe tbody tr th:only-of-type {\n",
              "        vertical-align: middle;\n",
              "    }\n",
              "\n",
              "    .dataframe tbody tr th {\n",
              "        vertical-align: top;\n",
              "    }\n",
              "\n",
              "    .dataframe thead th {\n",
              "        text-align: right;\n",
              "    }\n",
              "</style>\n",
              "<table border=\"1\" class=\"dataframe\">\n",
              "  <thead>\n",
              "    <tr style=\"text-align: right;\">\n",
              "      <th></th>\n",
              "      <th>tenure</th>\n",
              "    </tr>\n",
              "    <tr>\n",
              "      <th>Churn</th>\n",
              "      <th></th>\n",
              "    </tr>\n",
              "  </thead>\n",
              "  <tbody>\n",
              "    <tr>\n",
              "      <th>No</th>\n",
              "      <td>38.0</td>\n",
              "    </tr>\n",
              "    <tr>\n",
              "      <th>Yes</th>\n",
              "      <td>18.0</td>\n",
              "    </tr>\n",
              "  </tbody>\n",
              "</table>\n",
              "</div>"
            ],
            "text/plain": [
              "       tenure\n",
              "Churn        \n",
              "No       38.0\n",
              "Yes      18.0"
            ]
          },
          "metadata": {
            "tags": []
          },
          "execution_count": 36
        }
      ]
    },
    {
      "cell_type": "markdown",
      "metadata": {
        "id": "uDyQfLjUs-UD"
      },
      "source": [
        "Vemos que a média de clientes que deixam a empresa são aproximadamente 20 meses menos do que pessoas que costumam ficar. O que mostra que quanto maior o tempo de um cliente na empresa, menor as chances dele cometer Churn. Também observamos isso na coluna `Contract`, onde clientes com contratos a longo prazo, tem menos chance de cometer Churn. Mas falta confirmar se os clientes com contratos a longo prazo, são os que possuem a maior tenure."
      ]
    },
    {
      "cell_type": "code",
      "metadata": {
        "colab": {
          "base_uri": "https://localhost:8080/",
          "height": 173
        },
        "id": "e9-pVDpv37ZY",
        "outputId": "d8ec1cec-13b9-48ae-beae-e792a93adc7e"
      },
      "source": [
        "df_clean[['Contract','tenure']].groupby(['Contract']).mean()"
      ],
      "execution_count": 37,
      "outputs": [
        {
          "output_type": "execute_result",
          "data": {
            "text/html": [
              "<div>\n",
              "<style scoped>\n",
              "    .dataframe tbody tr th:only-of-type {\n",
              "        vertical-align: middle;\n",
              "    }\n",
              "\n",
              "    .dataframe tbody tr th {\n",
              "        vertical-align: top;\n",
              "    }\n",
              "\n",
              "    .dataframe thead th {\n",
              "        text-align: right;\n",
              "    }\n",
              "</style>\n",
              "<table border=\"1\" class=\"dataframe\">\n",
              "  <thead>\n",
              "    <tr style=\"text-align: right;\">\n",
              "      <th></th>\n",
              "      <th>tenure</th>\n",
              "    </tr>\n",
              "    <tr>\n",
              "      <th>Contract</th>\n",
              "      <th></th>\n",
              "    </tr>\n",
              "  </thead>\n",
              "  <tbody>\n",
              "    <tr>\n",
              "      <th>Month-to-month</th>\n",
              "      <td>18.036645</td>\n",
              "    </tr>\n",
              "    <tr>\n",
              "      <th>One year</th>\n",
              "      <td>42.073370</td>\n",
              "    </tr>\n",
              "    <tr>\n",
              "      <th>Two year</th>\n",
              "      <td>57.071810</td>\n",
              "    </tr>\n",
              "  </tbody>\n",
              "</table>\n",
              "</div>"
            ],
            "text/plain": [
              "                   tenure\n",
              "Contract                 \n",
              "Month-to-month  18.036645\n",
              "One year        42.073370\n",
              "Two year        57.071810"
            ]
          },
          "metadata": {
            "tags": []
          },
          "execution_count": 37
        }
      ]
    },
    {
      "cell_type": "markdown",
      "metadata": {
        "id": "4SjIPY9G4Q6J"
      },
      "source": [
        "Como esperado, clientes com contratos a longo prazo, tem maior grau de fidelidade com a empresa do que clientes com contratos a curto prazo. Essas duas variáveis, estão altamente correlacionadas. Portanto, manter a variável `Contract` vai adicionar pouca informação para a identificação de Churn do nosso modelo. "
      ]
    },
    {
      "cell_type": "code",
      "metadata": {
        "id": "m4sp4BdQg3nj"
      },
      "source": [
        "df_clean.drop('Contract', axis=1, inplace=True)"
      ],
      "execution_count": 38,
      "outputs": []
    },
    {
      "cell_type": "markdown",
      "metadata": {
        "id": "rVrRH5HT4_Ei"
      },
      "source": [
        "Note como essa fase de análise exploratória é muito importante, através dela, conseguimos identificar variáveis que agregam pouca informação para o modelo. Logo, é desnecessário incluir todas as variáveis no modelo. Adicionando variáveis não necessarias, podemos aumentar a complexidade do modelo, pois modelos complexos tendem a overfit e não generalizar bem para novas variáveis. Retirarmos algumas variáveis do nosso dataset. \n",
        "\n",
        "* `Contract`\n",
        "* `CustomerID`\n",
        "* `PhoneService`\n",
        "* `TotalCharges`\n",
        "* `Gender`\n",
        "\n",
        "Agora que finalizamos esse processo, podemos começar a trabalhar no nosso modelo de machine learning."
      ]
    },
    {
      "cell_type": "markdown",
      "metadata": {
        "id": "QZ7p3hp96ItY"
      },
      "source": [
        "# Preparando os Dados\n",
        "\n",
        "##Variáveis Categóricas\n",
        "\n",
        "Quando lidamos com variáveis categoricas, precisamos transformá-las em variáveis numéricas antes de treinarmos nosso modelo de Machine Learning. Temos que ter um cuidado ao fazer essa transformação, pois ao transformar as variáveis, um número sera designado a cada categoria e dessa forma, a categoria com números maiores, será considerada mais importante. Como estamos lidando em maioria com variáveis categóricas não binárias, temos que tomar cuidado para isso não ocorrer. \n",
        "\n",
        "\n",
        "\n",
        "\n"
      ]
    },
    {
      "cell_type": "code",
      "metadata": {
        "id": "jJpN4sEm2Qrl",
        "colab": {
          "base_uri": "https://localhost:8080/"
        },
        "outputId": "bdc6285c-5c65-44c2-b054-5c458eca3785"
      },
      "source": [
        "#Data pre-processing\n",
        "#Putting all binary columns in a list\n",
        "binary_var = df_clean.nunique()[df_clean.nunique() == 2].keys().tolist()\n",
        "print('Todas variáveis binarias:', binary_var)\n",
        "#Putting all Numerical Variables in a list different of binary (senior column is numeric and binary)\n",
        "num_var = [col for col in df_clean.select_dtypes(['int', 'float']).columns.tolist() if col not in binary_var]\n",
        "print('\\nTodas variáveis Numéricas não binárias:', num_var)\n",
        "#Non binary variables\n",
        "cat_var = [col for col in df_clean.columns.tolist() if col not in binary_var + num_var]\n",
        "print('\\nTodas variáveis Categóricas não binárias:', cat_var)\n",
        "\n"
      ],
      "execution_count": 39,
      "outputs": [
        {
          "output_type": "stream",
          "text": [
            "Todas variáveis binarias: ['SeniorCitizen', 'Partner', 'Dependents', 'PaperlessBilling', 'Churn']\n",
            "\n",
            "Todas variáveis Numéricas não binárias: ['tenure', 'MonthlyCharges']\n",
            "\n",
            "Todas variáveis Categóricas não binárias: ['MultipleLines', 'InternetService', 'OnlineSecurity', 'OnlineBackup', 'DeviceProtection', 'TechSupport', 'StreamingTV', 'StreamingMovies', 'PaymentMethod']\n"
          ],
          "name": "stdout"
        }
      ]
    },
    {
      "cell_type": "markdown",
      "metadata": {
        "id": "CH45Bgls_SVF"
      },
      "source": [
        "Para transformar as variáveis categóricas binárias vamos importar do sklearn o `LabelEnconder`."
      ]
    },
    {
      "cell_type": "code",
      "metadata": {
        "id": "Q2JmKTQe9Acm"
      },
      "source": [
        "#Import Library\n",
        "from sklearn.preprocessing import LabelEncoder\n",
        "#Creating a new Copy of the DataFrame\n",
        "df_proc = df_clean.copy()\n",
        "le = LabelEncoder()\n",
        "#Label Enconding for Binary Variables\n",
        "for i in binary_var:\n",
        "  df_proc[i] = le.fit_transform(df_proc[i])\n"
      ],
      "execution_count": 40,
      "outputs": []
    },
    {
      "cell_type": "markdown",
      "metadata": {
        "id": "09GP_JNLBA5_"
      },
      "source": [
        "Vamos agora usar o método `get_dummies` do pandas (Também poderia ser feito usando o `OneHotEnconder` do Sklearn) para transformar as variáveis categóricas não binárias em colunas de 0's e 1's. Justamente, para tentar impedir que valores númericos altos sejam considerados como mais importantes.\n"
      ]
    },
    {
      "cell_type": "code",
      "metadata": {
        "id": "flnzOVlk8cU1"
      },
      "source": [
        "# Encoding for categorical columns with multiple classes\n",
        "df_proc = pd.get_dummies(df_proc, columns=cat_var)"
      ],
      "execution_count": 41,
      "outputs": []
    },
    {
      "cell_type": "markdown",
      "metadata": {
        "id": "a1Ir67RhB31S"
      },
      "source": [
        "As demais mudanças que iremos fazer no nosso conjunto de dados, tais como, padronização e resample serão feita após separarmos nosso dataset em treino e teste. Para não ter risco de enviesar o nosso conjunto teste."
      ]
    },
    {
      "cell_type": "code",
      "metadata": {
        "colab": {
          "base_uri": "https://localhost:8080/",
          "height": 258
        },
        "id": "R73kyQBjxyHu",
        "outputId": "16e77abf-3eb1-45b0-b89b-f5d43f32610c"
      },
      "source": [
        "df_proc.head()"
      ],
      "execution_count": 42,
      "outputs": [
        {
          "output_type": "execute_result",
          "data": {
            "text/html": [
              "<div>\n",
              "<style scoped>\n",
              "    .dataframe tbody tr th:only-of-type {\n",
              "        vertical-align: middle;\n",
              "    }\n",
              "\n",
              "    .dataframe tbody tr th {\n",
              "        vertical-align: top;\n",
              "    }\n",
              "\n",
              "    .dataframe thead th {\n",
              "        text-align: right;\n",
              "    }\n",
              "</style>\n",
              "<table border=\"1\" class=\"dataframe\">\n",
              "  <thead>\n",
              "    <tr style=\"text-align: right;\">\n",
              "      <th></th>\n",
              "      <th>SeniorCitizen</th>\n",
              "      <th>Partner</th>\n",
              "      <th>Dependents</th>\n",
              "      <th>tenure</th>\n",
              "      <th>PaperlessBilling</th>\n",
              "      <th>MonthlyCharges</th>\n",
              "      <th>Churn</th>\n",
              "      <th>MultipleLines_No</th>\n",
              "      <th>MultipleLines_No phone service</th>\n",
              "      <th>MultipleLines_Yes</th>\n",
              "      <th>InternetService_DSL</th>\n",
              "      <th>InternetService_Fiber optic</th>\n",
              "      <th>InternetService_No</th>\n",
              "      <th>OnlineSecurity_No</th>\n",
              "      <th>OnlineSecurity_No internet service</th>\n",
              "      <th>OnlineSecurity_Yes</th>\n",
              "      <th>OnlineBackup_No</th>\n",
              "      <th>OnlineBackup_No internet service</th>\n",
              "      <th>OnlineBackup_Yes</th>\n",
              "      <th>DeviceProtection_No</th>\n",
              "      <th>DeviceProtection_No internet service</th>\n",
              "      <th>DeviceProtection_Yes</th>\n",
              "      <th>TechSupport_No</th>\n",
              "      <th>TechSupport_No internet service</th>\n",
              "      <th>TechSupport_Yes</th>\n",
              "      <th>StreamingTV_No</th>\n",
              "      <th>StreamingTV_No internet service</th>\n",
              "      <th>StreamingTV_Yes</th>\n",
              "      <th>StreamingMovies_No</th>\n",
              "      <th>StreamingMovies_No internet service</th>\n",
              "      <th>StreamingMovies_Yes</th>\n",
              "      <th>PaymentMethod_Bank transfer (automatic)</th>\n",
              "      <th>PaymentMethod_Credit card (automatic)</th>\n",
              "      <th>PaymentMethod_Electronic check</th>\n",
              "      <th>PaymentMethod_Mailed check</th>\n",
              "    </tr>\n",
              "  </thead>\n",
              "  <tbody>\n",
              "    <tr>\n",
              "      <th>0</th>\n",
              "      <td>0</td>\n",
              "      <td>1</td>\n",
              "      <td>0</td>\n",
              "      <td>1</td>\n",
              "      <td>1</td>\n",
              "      <td>29.85</td>\n",
              "      <td>0</td>\n",
              "      <td>0</td>\n",
              "      <td>1</td>\n",
              "      <td>0</td>\n",
              "      <td>1</td>\n",
              "      <td>0</td>\n",
              "      <td>0</td>\n",
              "      <td>1</td>\n",
              "      <td>0</td>\n",
              "      <td>0</td>\n",
              "      <td>0</td>\n",
              "      <td>0</td>\n",
              "      <td>1</td>\n",
              "      <td>1</td>\n",
              "      <td>0</td>\n",
              "      <td>0</td>\n",
              "      <td>1</td>\n",
              "      <td>0</td>\n",
              "      <td>0</td>\n",
              "      <td>1</td>\n",
              "      <td>0</td>\n",
              "      <td>0</td>\n",
              "      <td>1</td>\n",
              "      <td>0</td>\n",
              "      <td>0</td>\n",
              "      <td>0</td>\n",
              "      <td>0</td>\n",
              "      <td>1</td>\n",
              "      <td>0</td>\n",
              "    </tr>\n",
              "    <tr>\n",
              "      <th>1</th>\n",
              "      <td>0</td>\n",
              "      <td>0</td>\n",
              "      <td>0</td>\n",
              "      <td>34</td>\n",
              "      <td>0</td>\n",
              "      <td>56.95</td>\n",
              "      <td>0</td>\n",
              "      <td>1</td>\n",
              "      <td>0</td>\n",
              "      <td>0</td>\n",
              "      <td>1</td>\n",
              "      <td>0</td>\n",
              "      <td>0</td>\n",
              "      <td>0</td>\n",
              "      <td>0</td>\n",
              "      <td>1</td>\n",
              "      <td>1</td>\n",
              "      <td>0</td>\n",
              "      <td>0</td>\n",
              "      <td>0</td>\n",
              "      <td>0</td>\n",
              "      <td>1</td>\n",
              "      <td>1</td>\n",
              "      <td>0</td>\n",
              "      <td>0</td>\n",
              "      <td>1</td>\n",
              "      <td>0</td>\n",
              "      <td>0</td>\n",
              "      <td>1</td>\n",
              "      <td>0</td>\n",
              "      <td>0</td>\n",
              "      <td>0</td>\n",
              "      <td>0</td>\n",
              "      <td>0</td>\n",
              "      <td>1</td>\n",
              "    </tr>\n",
              "    <tr>\n",
              "      <th>2</th>\n",
              "      <td>0</td>\n",
              "      <td>0</td>\n",
              "      <td>0</td>\n",
              "      <td>2</td>\n",
              "      <td>1</td>\n",
              "      <td>53.85</td>\n",
              "      <td>1</td>\n",
              "      <td>1</td>\n",
              "      <td>0</td>\n",
              "      <td>0</td>\n",
              "      <td>1</td>\n",
              "      <td>0</td>\n",
              "      <td>0</td>\n",
              "      <td>0</td>\n",
              "      <td>0</td>\n",
              "      <td>1</td>\n",
              "      <td>0</td>\n",
              "      <td>0</td>\n",
              "      <td>1</td>\n",
              "      <td>1</td>\n",
              "      <td>0</td>\n",
              "      <td>0</td>\n",
              "      <td>1</td>\n",
              "      <td>0</td>\n",
              "      <td>0</td>\n",
              "      <td>1</td>\n",
              "      <td>0</td>\n",
              "      <td>0</td>\n",
              "      <td>1</td>\n",
              "      <td>0</td>\n",
              "      <td>0</td>\n",
              "      <td>0</td>\n",
              "      <td>0</td>\n",
              "      <td>0</td>\n",
              "      <td>1</td>\n",
              "    </tr>\n",
              "    <tr>\n",
              "      <th>3</th>\n",
              "      <td>0</td>\n",
              "      <td>0</td>\n",
              "      <td>0</td>\n",
              "      <td>45</td>\n",
              "      <td>0</td>\n",
              "      <td>42.30</td>\n",
              "      <td>0</td>\n",
              "      <td>0</td>\n",
              "      <td>1</td>\n",
              "      <td>0</td>\n",
              "      <td>1</td>\n",
              "      <td>0</td>\n",
              "      <td>0</td>\n",
              "      <td>0</td>\n",
              "      <td>0</td>\n",
              "      <td>1</td>\n",
              "      <td>1</td>\n",
              "      <td>0</td>\n",
              "      <td>0</td>\n",
              "      <td>0</td>\n",
              "      <td>0</td>\n",
              "      <td>1</td>\n",
              "      <td>0</td>\n",
              "      <td>0</td>\n",
              "      <td>1</td>\n",
              "      <td>1</td>\n",
              "      <td>0</td>\n",
              "      <td>0</td>\n",
              "      <td>1</td>\n",
              "      <td>0</td>\n",
              "      <td>0</td>\n",
              "      <td>1</td>\n",
              "      <td>0</td>\n",
              "      <td>0</td>\n",
              "      <td>0</td>\n",
              "    </tr>\n",
              "    <tr>\n",
              "      <th>4</th>\n",
              "      <td>0</td>\n",
              "      <td>0</td>\n",
              "      <td>0</td>\n",
              "      <td>2</td>\n",
              "      <td>1</td>\n",
              "      <td>70.70</td>\n",
              "      <td>1</td>\n",
              "      <td>1</td>\n",
              "      <td>0</td>\n",
              "      <td>0</td>\n",
              "      <td>0</td>\n",
              "      <td>1</td>\n",
              "      <td>0</td>\n",
              "      <td>1</td>\n",
              "      <td>0</td>\n",
              "      <td>0</td>\n",
              "      <td>1</td>\n",
              "      <td>0</td>\n",
              "      <td>0</td>\n",
              "      <td>1</td>\n",
              "      <td>0</td>\n",
              "      <td>0</td>\n",
              "      <td>1</td>\n",
              "      <td>0</td>\n",
              "      <td>0</td>\n",
              "      <td>1</td>\n",
              "      <td>0</td>\n",
              "      <td>0</td>\n",
              "      <td>1</td>\n",
              "      <td>0</td>\n",
              "      <td>0</td>\n",
              "      <td>0</td>\n",
              "      <td>0</td>\n",
              "      <td>1</td>\n",
              "      <td>0</td>\n",
              "    </tr>\n",
              "  </tbody>\n",
              "</table>\n",
              "</div>"
            ],
            "text/plain": [
              "   SeniorCitizen  ...  PaymentMethod_Mailed check\n",
              "0              0  ...                           0\n",
              "1              0  ...                           1\n",
              "2              0  ...                           1\n",
              "3              0  ...                           0\n",
              "4              0  ...                           0\n",
              "\n",
              "[5 rows x 35 columns]"
            ]
          },
          "metadata": {
            "tags": []
          },
          "execution_count": 42
        }
      ]
    },
    {
      "cell_type": "markdown",
      "metadata": {
        "id": "Z_a8kjDuf-Zi"
      },
      "source": [
        "#Modelo de Machine Learning\n",
        "\n",
        "Com o processamento realizado na etapa anterior, os dados já podem ser usados nos modelos de machine learning.\n",
        "\n",
        "A primeira coisa que temos que fazer no nosso modelo de machine learning é separar as variáveis entre variáveis de treino e variavéis de teste."
      ]
    },
    {
      "cell_type": "code",
      "metadata": {
        "id": "VKopARPyit_a"
      },
      "source": [
        "#Importing the traing test split library\n",
        "from sklearn.model_selection import train_test_split\n",
        "X = df_proc.drop('Churn', axis = 1)\n",
        "y = df_proc['Churn']\n",
        "\n",
        "#Traing and Test split\n",
        "X_train, X_test, y_train, y_test = train_test_split(X, y, shuffle = True)"
      ],
      "execution_count": 43,
      "outputs": []
    },
    {
      "cell_type": "markdown",
      "metadata": {
        "id": "Wmm7G6Xz_l_9"
      },
      "source": [
        "Para essa etapa, iremos criar um projeto simples, aonde iremos comparar o desempenho de diferentes modelos de machine learning, após isso, iremos focar em um modelo e melhorar ele com o uso de hiperparámetros. No momento não será feito nenhum ajuste nos hiperparâmetros e faremos o balanceamento de dados, feature engineering ou feature selection (entre outros) em nosso conjunto de treino, para tentar não inviesar o nossos dados de teste. Os dados de testes tem que se parecer o máximo possível com dados novos.\n",
        "\n",
        "Vamos criar uma função, que irá ter como entrada os dados de treino (`X_train` e `y_train`) e um modelo classificador do Scikit-Learn. Nessa função, iremos aplicar [cross validation](https://towardsdatascience.com/cross-validation-430d9a5fee22), de forma que dentro dos dados de treino não seja aplicada nenhuma transformação nos dados de validação, com propósito de simular uma condição onde nosso modelo de machine learning nunca tenha visto esse subconjunto de validação. Essa etapa de padronização ou qualquer outra de pré-processamento, pode ser estruturada com um [pipeline](https://scikit-learn.org/stable/modules/compose.html#combining-estimators), aonde podemos aplicar feature selection, normalization, padronização no conjunto de treino apenas e alterando conjunto de validação após o treinamento em cada etapa."
      ]
    },
    {
      "cell_type": "code",
      "metadata": {
        "id": "9CcGn2gY67PJ"
      },
      "source": [
        "def val_model(X, y, clf, quite=False):\n",
        "    \n",
        "    #quite: bool, indicando se a função deve imprimir os resultados ou não.\n",
        "    # Returns :float, média dos scores da cross-validation.\n",
        "    # clf: modelo de classificação\n",
        "    \n",
        "    X = np.array(X)\n",
        "    y = np.array(y)\n",
        "\n",
        "    #creating a pipeline and performing standardization in the cross validation\n",
        "    pipeline = make_pipeline(StandardScaler(), clf)\n",
        "    scores = cross_val_score(pipeline, X, y, scoring='recall', cv=5)\n",
        "\n",
        "    if quite == False:\n",
        "        print(\"Recall: {:.2f} (+/- {:.2f})\".format(scores.mean(), scores.std()))\n",
        "    \n",
        "    return scores.mean()"
      ],
      "execution_count": 44,
      "outputs": []
    },
    {
      "cell_type": "markdown",
      "metadata": {
        "id": "CmNOhLcDNnC9"
      },
      "source": [
        "Vamos aplicar a pipeline acima no modelo de classificação *Random Forest* e imprimir a média do recal que recebemos da função criada acima. Lembrando que a métrica de avaliação do modelo fica a sua escolha. Estou usando Recall, pois ele preve o número de churns previstos corretamente. "
      ]
    },
    {
      "cell_type": "code",
      "metadata": {
        "colab": {
          "base_uri": "https://localhost:8080/"
        },
        "id": "88NDUgXn7BLK",
        "outputId": "b6840d18-22bc-435c-d117-a6cda81c9ec2"
      },
      "source": [
        "# criar baseline e ver desempenho\n",
        "from sklearn.preprocessing import StandardScaler\n",
        "from sklearn.pipeline import make_pipeline\n",
        "from sklearn.ensemble import RandomForestClassifier \n",
        "from sklearn.model_selection import cross_val_score\n",
        "rf = RandomForestClassifier()\n",
        "score_baseline = val_model(X_train, y_train, rf)\n"
      ],
      "execution_count": 45,
      "outputs": [
        {
          "output_type": "stream",
          "text": [
            "Recall: 0.47 (+/- 0.02)\n"
          ],
          "name": "stdout"
        }
      ]
    },
    {
      "cell_type": "markdown",
      "metadata": {
        "id": "M-pSiWy7PJRe"
      },
      "source": [
        "Agora temos um ponto de partida para comparar se os ajustes melhoram ou pioram o desempenho do modelo. O Recall acima é bastante condizente com os dados atuais, pois não balanceamos os nossos dados, o que faz o modelo acusar muitos falsos negativos. Agora iremos aplicar o balanceamento e fazer a padronização dos dados de treino usando o método *undersampling* e *StandardScaler*. Aplicamos no nossos dados de treino para manter os dados de teste os mais próximos possivel de dados novos que a empresa irá receber.\n",
        "\n",
        "Optei por usar o undersampling, pois ele acaba gerando um maior número de falsos positivos (onde um cliente que não é churn é classificado como churn) e a consequência disso pode acabar sendo oferecer uma promoção a um cliente que não iria largar a empresa, mas isso é algo a ser analisado e trabalhado de forma mais complexa numa situação real. \n",
        "\n"
      ]
    },
    {
      "cell_type": "code",
      "metadata": {
        "id": "VUie9RpnTqBq"
      },
      "source": [
        "#importing librarys\n",
        "from imblearn.under_sampling import RandomUnderSampler\n",
        "#  padronizar os  dados\n",
        "scaler = StandardScaler().fit(X_train)\n",
        "X_train = scaler.transform(X_train)\n",
        "X_test = scaler.transform(X_test)\n",
        "\n",
        "#from imblearn.over_sampling import SMOTE\n",
        "#oversample = SMOTE()\n",
        "#X_train_rus, y_train_rus = oversample.fit_sample(X_train, y_train)\n",
        "\n",
        "\n",
        "#balancear os dados\n",
        "\n",
        "rus = RandomUnderSampler()\n",
        "X_train_rus, y_train_rus = rus.fit_sample(X_train, y_train)"
      ],
      "execution_count": 46,
      "outputs": []
    },
    {
      "cell_type": "markdown",
      "metadata": {
        "id": "kJbCpDmfYUMC"
      },
      "source": [
        "Por mais que estamos aplicando padronização no conjunto teste, só iremos precisar dele ao fim do modelo.\n",
        "\n",
        "Irei aplicar a validação cruzada a vários modelos, a fim de identificar o seu desempenho e escolher o(s) melhor(es). Novamente, serão utilizados apenas dados de treino. Os modelos escolhidos são:\n",
        "\n",
        "* Random Forest\n",
        "* Decision Tree\n",
        "* SVC\n",
        "* Regressão Logística\n"
      ]
    },
    {
      "cell_type": "code",
      "metadata": {
        "colab": {
          "base_uri": "https://localhost:8080/",
          "height": 204
        },
        "id": "Yp1woJpXPHLZ",
        "outputId": "93a77dd0-91ca-49d5-dcd6-322e8f64ad5a"
      },
      "source": [
        "from sklearn.svm import SVC\n",
        "from sklearn.tree import DecisionTreeClassifier\n",
        "from sklearn.linear_model import LogisticRegression\n",
        "from xgboost import XGBClassifier\n",
        "\n",
        "# instanciar modelos\n",
        "rf = RandomForestClassifier()\n",
        "dt = DecisionTreeClassifier()\n",
        "svc = SVC()\n",
        "lr = LogisticRegression()\n",
        "xgb = XGBClassifier()\n",
        "\n",
        "model = []\n",
        "recall = []\n",
        "# avaliar o desempenho (recall)\n",
        "for clf in (rf, dt, svc, lr, xgb):\n",
        "    model.append(clf.__class__.__name__)\n",
        "    recall.append(val_model(X_train_rus, y_train_rus, clf, quite=True))\n",
        "\n",
        "pd.DataFrame(data=recall, index=model, columns=['Recall'])"
      ],
      "execution_count": 47,
      "outputs": [
        {
          "output_type": "execute_result",
          "data": {
            "text/html": [
              "<div>\n",
              "<style scoped>\n",
              "    .dataframe tbody tr th:only-of-type {\n",
              "        vertical-align: middle;\n",
              "    }\n",
              "\n",
              "    .dataframe tbody tr th {\n",
              "        vertical-align: top;\n",
              "    }\n",
              "\n",
              "    .dataframe thead th {\n",
              "        text-align: right;\n",
              "    }\n",
              "</style>\n",
              "<table border=\"1\" class=\"dataframe\">\n",
              "  <thead>\n",
              "    <tr style=\"text-align: right;\">\n",
              "      <th></th>\n",
              "      <th>Recall</th>\n",
              "    </tr>\n",
              "  </thead>\n",
              "  <tbody>\n",
              "    <tr>\n",
              "      <th>RandomForestClassifier</th>\n",
              "      <td>0.725018</td>\n",
              "    </tr>\n",
              "    <tr>\n",
              "      <th>DecisionTreeClassifier</th>\n",
              "      <td>0.684620</td>\n",
              "    </tr>\n",
              "    <tr>\n",
              "      <th>SVC</th>\n",
              "      <td>0.780295</td>\n",
              "    </tr>\n",
              "    <tr>\n",
              "      <th>LogisticRegression</th>\n",
              "      <td>0.764697</td>\n",
              "    </tr>\n",
              "    <tr>\n",
              "      <th>XGBClassifier</th>\n",
              "      <td>0.800143</td>\n",
              "    </tr>\n",
              "  </tbody>\n",
              "</table>\n",
              "</div>"
            ],
            "text/plain": [
              "                          Recall\n",
              "RandomForestClassifier  0.725018\n",
              "DecisionTreeClassifier  0.684620\n",
              "SVC                     0.780295\n",
              "LogisticRegression      0.764697\n",
              "XGBClassifier           0.800143"
            ]
          },
          "metadata": {
            "tags": []
          },
          "execution_count": 47
        }
      ]
    },
    {
      "cell_type": "markdown",
      "metadata": {
        "id": "6OKMtghkVqGW"
      },
      "source": [
        "#Aplicação dos Hiperparâmetros\n",
        "\n",
        "Agora que avaliamos diferentes modelos e suas precisções, vemos acima que  modelos apresentam resultados reativamente próximos, mas iremos seguir com `XGBClassifier`, pois foi o modelo com a melhor precisão e possuí uma gama de hiperparâmetros. Para escolher os valores dos nossos hiperparâmetros, iremos usar o [GridSearch](https://scikit-learn.org/stable/auto_examples/model_selection/plot_grid_search_digits.html#sphx-glr-auto-examples-model-selection-plot-grid-search-digits-py), que é o processo de realizar o ajuste para determinar os valores ideais de hiperparametro para um determinado modelo.\n",
        "\n",
        "A seguir, veremos métodos para ajustar os hiperparâmetros do modelo `XGBoost`. Em um mundo ideal, com recursos infinitos e onde o tempo não é um problema, poderiamos executar um gigante `GridSearch` com todos os parâmetros juntos e encontrar a solução ideal.\n"
      ]
    },
    {
      "cell_type": "code",
      "metadata": {
        "id": "VxwJo08NaFPS"
      },
      "source": [
        "#Importanto métricas de avaliação \n",
        "from sklearn.metrics import roc_auc_score, accuracy_score, f1_score, confusion_matrix, classification_report\n",
        "#Importando plot da matriz de confusão\n",
        "from scikitplot.metrics import plot_confusion_matrix, plot_roc\n",
        "#Uma variação de k-fold: Cada conjunto contém aproximadamente a mesma porcentagem de amostras de cada classe de destino.\n",
        "from sklearn.model_selection import StratifiedKFold\n",
        "#Importando o gridsearch\n",
        "from sklearn.model_selection import GridSearchCV"
      ],
      "execution_count": 48,
      "outputs": []
    },
    {
      "cell_type": "markdown",
      "metadata": {
        "id": "heq1cnAPvxvD"
      },
      "source": [
        "##Escolha e Tomada de Valores para os Hiperparâmetros\n",
        "Para nosso modelo `XGBClassifier`, iremos começar escolhendo um valor para `learning_rate` e `n_estimators` (lembrando que quantos mais árvores você tiver, é aconselhável tomar um número menor para o `learning_rate`). Vamos começar com \n",
        "* `learning_rate` = 0.1 \n",
        "* `n_estimators` = 100. \n",
        "\n",
        "A partir disso, iremos alterar os valores com base na previsão do nosso modelo de Machine Learning, também pode ser usado o método `GridSearchCV`, para tentar otimizar a busca pora os valores do determinado hiperparâmetro. \n",
        "\n",
        "Eu particulamente procuro uma boa taxa de Learning Rate e um bom número de árvores e a partir disso, procuro os valores para os demais hiperparâmetros, usando o `GridSearchCV`.\n",
        "\n",
        "Dessa forma, partindo da learning_rate = 0.0005, encontramos:\n",
        "\n",
        "* n_estimators=810\n",
        "* learning_rate = 0.0005,\n",
        "* max_depth=3,\n",
        "* min_child_weight=2,\n",
        "* gamma=0.5\n",
        "                    \n",
        "Obs.: Após o parágrafo de conclusão há uma pequena explicação sobre como cada parâmetro age sobre o modelo de classificação.\n",
        "\n",
        "\n",
        "\n",
        "\n"
      ]
    },
    {
      "cell_type": "code",
      "metadata": {
        "id": "ZHozWT-UaAK1",
        "colab": {
          "base_uri": "https://localhost:8080/",
          "height": 86
        },
        "outputId": "b919b65e-4b8b-422e-ba3d-84cf58ef0f11"
      },
      "source": [
        "#GridSearch Para Hiperparâmetros\n",
        "''' xgb = XGBClassifier(learning_rate=0.0005, gpu_id='0')\n",
        "\n",
        "param_grid = {\n",
        " 'n_estimators':range(0,100,10),\n",
        " 'max_depth':range(1,8,1),\n",
        " 'min_child_weight':range(1,5,1),\n",
        " 'gamma':[i/10.0 for i in range(0,10)],\n",
        " 'learning_rate':[0.001, 0.01, 0.1, 0.2, 0.3, 0.4, 0.5, 1]\n",
        "}\n",
        "\n",
        "# identificar melhor parâmetro\n",
        "kfold = StratifiedKFold(n_splits=10, shuffle=True)\n",
        "grid_search = GridSearchCV(xgb, param_grid, scoring=\"recall\", n_jobs=-1, cv=kfold)\n",
        "grid_result = grid_search.fit(X_train_rus, y_train_rus)\n",
        "\n",
        "# ver resultados\n",
        "print(\"Melhor: {} para {}\".format(grid_result.best_score_, grid_result.best_params_))\n",
        "'''"
      ],
      "execution_count": 49,
      "outputs": [
        {
          "output_type": "execute_result",
          "data": {
            "application/vnd.google.colaboratory.intrinsic+json": {
              "type": "string"
            },
            "text/plain": [
              "' xgb = XGBClassifier(learning_rate=0.0005, gpu_id=\\'0\\')\\n\\nparam_grid = {\\n \\'n_estimators\\':range(0,100,10),\\n \\'max_depth\\':range(1,8,1),\\n \\'min_child_weight\\':range(1,5,1),\\n \\'gamma\\':[i/10.0 for i in range(0,10)],\\n \\'learning_rate\\':[0.001, 0.01, 0.1, 0.2, 0.3, 0.4, 0.5, 1]\\n}\\n\\n# identificar melhor parâmetro\\nkfold = StratifiedKFold(n_splits=10, shuffle=True)\\ngrid_search = GridSearchCV(xgb, param_grid, scoring=\"recall\", n_jobs=-1, cv=kfold)\\ngrid_result = grid_search.fit(X_train_rus, y_train_rus)\\n\\n# ver resultados\\nprint(\"Melhor: {} para {}\".format(grid_result.best_score_, grid_result.best_params_))\\n'"
            ]
          },
          "metadata": {
            "tags": []
          },
          "execution_count": 49
        }
      ]
    },
    {
      "cell_type": "code",
      "metadata": {
        "colab": {
          "base_uri": "https://localhost:8080/",
          "height": 482
        },
        "id": "yEOH1bUBadjC",
        "outputId": "18dcfcee-adec-4ccd-8245-18c4d8081ee4"
      },
      "source": [
        "# modelo final\n",
        "xgb = XGBClassifier(n_estimators=810,learning_rate = 0.0005,\n",
        "                    max_depth=3,\n",
        "                    min_child_weight=2,\n",
        "                    gamma=0.2,\n",
        "                    gpu_id='0', random_state=0)\n",
        "xgb.fit(X_train_rus, y_train_rus)\n",
        "\n",
        "# fazer a previsão\n",
        "X_test = scaler.transform(X_test)\n",
        "y_pred = xgb.predict(X_test)\n",
        "\n",
        "# Classification Report\n",
        "print(classification_report(y_test, y_pred))\n",
        "\n",
        "# imprimir a área sob a curva\n",
        "print(\"AUC: {:.4f}\\n\".format(roc_auc_score(y_test, y_pred)))\n",
        "\n",
        "# plotar matriz de confusão\n",
        "plot_confusion_matrix(y_test, y_pred, normalize=True)\n",
        "plt.show()"
      ],
      "execution_count": 76,
      "outputs": [
        {
          "output_type": "stream",
          "text": [
            "              precision    recall  f1-score   support\n",
            "\n",
            "           0       0.93      0.45      0.61      1300\n",
            "           1       0.37      0.90      0.52       458\n",
            "\n",
            "    accuracy                           0.57      1758\n",
            "   macro avg       0.65      0.67      0.56      1758\n",
            "weighted avg       0.78      0.57      0.58      1758\n",
            "\n",
            "AUC: 0.6748\n",
            "\n"
          ],
          "name": "stdout"
        },
        {
          "output_type": "display_data",
          "data": {
            "image/png": "[encoded data removed]",
            "text/plain": [
              "<Figure size 432x288 with 2 Axes>"
            ]
          },
          "metadata": {
            "tags": [],
            "needs_background": "light"
          }
        }
      ]
    },
    {
      "cell_type": "markdown",
      "metadata": {
        "id": "3Mmkfx-yj2uQ"
      },
      "source": [
        "#Conclusão\n",
        "\n",
        "O objetivo deste projeto era desenvolver um modelo que pudesse determinar a taxa de churn de clientes de uma empresa de telecomunicações da forma mais eficiente possível.\n",
        "\n",
        "Na nossa análise exploratória, vimos alguns indicadores que possam levar clientes nessa empresa a cometer churn. Também vimos como identificar variáveis que não agregam ao modelo.\n",
        "\n",
        "Pela matriz de confusão, obtemos um recall de 90%, isso indica que nosso modelo previu corretamente 90% dos clientes que iam cometer Churn. Porém estamos lidando uma uma taxa consideravelmente alta de falsos positivos, cerca de 55%, isso indica que 55% dos clientes que foram taxados como chrun, na verdade não eram. Isso acarreta numa quantidade alta de promoções sendo oferecidas a clientes que não iam deixar o serviço da empresa. Portanto o recall, por mais que seja uma métrica de muita importância nesse modelo, não é a única que deve ser levada em conta. Num caso real a equipe deveria conversar sobre as possíveis aproximações para o problema em prol de reduzir o número de falsos positivos e mandar promoções apenas para os clientes que realmente pretendem cometer Churn."
      ]
    },
    {
      "cell_type": "markdown",
      "metadata": {
        "id": "kHLTOYCzSdkb"
      },
      "source": [
        "#Explicação Sobre Cada Hiperparâmetro\n",
        "\n",
        "A maioria das implementações do XGB é configurada por padrão com um número relativamente pequeno de árvores, como centenas ou milhares. O motivo geral é que, na maioria dos problemas, adicionar mais árvores além de um limite não melhora o desempenho do modelo.A razão está na forma como o modelo de árvore impulsionado é construído, sequencialmente, onde cada nova árvore tenta modelar e corrigir os erros cometidos pela sequência das árvores anteriores. Rapidamente, o modelo atinge um ponto de retornos decrescentes.O número de Árvores em um modelo *XBGBoost* é especificado pelo *XBGClassifiers*, usando o parâmetro `n_estimators`(O padrão é 100).\n",
        "\n",
        "Learning Rate controla a influência de cada árvore que é criada. Por isso, esses parâmetros são interligados.\n",
        "\n",
        "\n",
        "\n",
        "No aumento de gradiente, podemos controlar o tamanho das árvores de decisão, também chamadas de número de camadas ou profundidade (`max_depth`).\n",
        "\n",
        "Espera-se que as árvores rasas tenham baixo desempenho porque capturam poucos detalhes do problema e são geralmente chamadas de aprendizado fraco. Árvores mais profundas geralmente capturam muitos detalhes do problema e causam overfit no conjunto de treinamento, limitando a capacidade de fazer boas previsões sobre novos dados. \n",
        "\n",
        "\n",
        "Junto com o `max_depth`, precisamos olhar para o `min_child_weight`. Se a etapa de partição em árvore resultar em um *leaf node* com a soma do peso da instância menor que min_child_weight, o processo de construção desistirá de particionamento ainda mais. Quanto maior, mais conservador será o algoritmo. Isso é para controlar over-fitting. Portanto, são dois parâmetros que devem ser implementados juntos.\n",
        "\n",
        "\n",
        "Um nó é dividido apenas quando a divisão resultante dá uma redução positiva na função de perda. Gama especifica a redução de perda mínima necessária para fazer a divisão. Torna o algoritmo conservador. Os valores podem variar dependendo da função de perda e devem ser ajustados.\n",
        "\n",
        "\n",
        "Pra mais informações, acesse o [Hiperparâmetros XGboost](https://www.analyticsvidhya.com/blog/2016/03/complete-guide-parameter-tuning-xgboost-with-codes-python/) para conhecer outros hiperparâmetros como eles agem no modelo.\n",
        "\n",
        "\n",
        "\n"
      ]
    },
    {
      "cell_type": "code",
      "metadata": {
        "id": "SfB_sHZg_L5L"
      },
      "source": [
        ""
      ],
      "execution_count": 50,
      "outputs": []
    }
  ]
}