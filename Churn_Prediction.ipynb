{
  "nbformat": 4,
  "nbformat_minor": 0,
  "metadata": {
    "colab": {
      "name": "Churn Prediction.ipynb",
      "provenance": [],
      "collapsed_sections": [],
      "authorship_tag": "ABX9TyPS1VMiidvbuFVPA+sU/Ti2",
      "include_colab_link": true
    },
    "kernelspec": {
      "display_name": "Python 3",
      "name": "python3"
    },
    "language_info": {
      "name": "python"
    }
  },
  "cells": [
    {
      "cell_type": "markdown",
      "metadata": {
        "id": "view-in-github",
        "colab_type": "text"
      },
      "source": [
        "<a href=\"https://colab.research.google.com/github/jplavorr/Data-Science/blob/main/Churn_Prediction.ipynb\" target=\"_parent\"><img src=\"https://colab.research.google.com/assets/colab-badge.svg\" alt=\"Open In Colab\"/></a>"
      ]
    },
    {
      "cell_type": "markdown",
      "metadata": {
        "id": "Lst5B31Y8y3T"
      },
      "source": [
        "<img alt=\"Colaboratory logo\" width=\"15%\" src=\"https://i.postimg.cc/zXN3DHM3/Captura-de-tela-2021-04-22-145652.png\">\n",
        "\n",
        "#### **Data Science & Machine Learning**\n",
        "*by [João Pedro Lavor](https://www.linkedin.com/in/jo%C3%A3o-pedro-lavor-65162312b/)*  \n",
        "\n",
        "---"
      ]
    },
    {
      "cell_type": "markdown",
      "metadata": {
        "id": "pMm_UaFZQq5b"
      },
      "source": [
        "Entender por que seus clientes abandonam o seu produto ou serviço é vital para conquistar um crescimento sustentável. Como o Churn tem um efeito negativo na receita de uma empresa, entender o que é esse indicador e como trabalhar para mitigar essa métrica é algo crítico para o sucesso de muitos negócios.\n",
        "\n",
        "Neste post, vamos explorar o que é o churn e o que seria uma boa métrica de churn rate. Também apresentaremos algumas formas para evitar que seus clientes abandonem o barco solicitando o cancelamento."
      ]
    },
    {
      "cell_type": "markdown",
      "metadata": {
        "id": "zQs1VMZM7vBg"
      },
      "source": [
        "#Churn Prediction para uma empresa de Telecomunicações\n",
        "\n",
        "suponha que um cliente faz uso de seus serviços com certa frequência. E, de repente, deixa de usá-los e abandona sua empresa. As principais perguntas a serem feitas são: Por que isso acontece? Como reverter essa situação? Como melhorar identificar esses clientes?\n",
        "\n",
        "Nesses momentos, ter um arsenal de dados sobre o consumidor, além de conseguir analisá-los, transformá-los em informações e extrair insights delas, faz toda a diferença.\n",
        "\n",
        " **Churn Rate**, ou simplesmente churn, representa a taxa de evasão da sua base de clientes. No primeiro capitulo do livro '*Data Science para Negócios*', um dos problemas que ele aborda é o uso de dados em prol de tentar impedir a rotatividade de clientes de uma determinada empresa. Atrair novos clientes é mais caro do que manter os que já existem, por isso, empresas tem que procurar investir em marketing para evitar rotatividade. *Churn* pode ser usado para identificar potenciais cancelamentos, com um tempo de antecedência, e promover ações direcionadas para tentar reter tais clientes. Data Science entra para decidir quais clientes irão receber a oferta antes dos termino dos seus contratos. Nesse artigo, irei construir um modelo de Machine Learning que foca justamente nesse problema para uma empresa de telecomunicações, aonde iremos tentar identificar a partir da base de dados, quais clientes em termino de contrato estão mais propensos a cancelarem o serviço da empresa.\n",
        "\n",
        "<p align=center>\n",
        "<img src=\"https://miro.medium.com/max/800/0*dzmm3qresODlScte\" width=\"60%\"></p>\n",
        "\n",
        "Em serviços como Spotify ou Netflix, ela representaria a taxa de cancelamento de assinaturas. Ela é de extrema importância para a administração e sua análise ao longo do tempo pode mostrar que existe algum problema que deve ser atacado.\n",
        "\n"
      ]
    },
    {
      "cell_type": "markdown",
      "metadata": {
        "id": "LCWb7XECjAuM"
      },
      "source": [
        "## Aquisição dos Dados\n",
        "\n",
        "Os dados utilizados neste projeto foram originalmente disponibilizados na [plataforma de ensino da IBM Developer](https://developer.ibm.com/technologies/data-science/patterns/predict-customer-churn-using-watson-studio-and-jupyter-notebooks/#), e tratam de um problema típico de uma companhia de telecomunicações. O *dataset* completo pode ser encontrado [neste link](https://raw.githubusercontent.com/carlosfab/dsnp2/master/datasets/WA_Fn-UseC_-Telco-Customer-Churn.csv).\n",
        "\n",
        "Apesar de não haver informações explícitas disponíves, os nomes das colunas permitem um entendimento a respeito do problema."
      ]
    },
    {
      "cell_type": "code",
      "metadata": {
        "id": "rbN3PHUEaQbu"
      },
      "source": [
        "# instalar Pandas Profiling\n",
        "!pip install scikit-plot -q\n",
        "!pip install imbalanced-learn -q"
      ],
      "execution_count": 118,
      "outputs": []
    },
    {
      "cell_type": "code",
      "metadata": {
        "id": "AsJdyandew9W"
      },
      "source": [
        "# import warnings filter\n",
        "from warnings import simplefilter\n",
        "# ignore all future warnings\n",
        "simplefilter(action='ignore', category=FutureWarning)"
      ],
      "execution_count": 176,
      "outputs": []
    },
    {
      "cell_type": "code",
      "metadata": {
        "id": "XbNwJgbpQGOb"
      },
      "source": [
        "# importar os pacotes necessários\n",
        "import pandas as pd\n",
        "import numpy as np\n",
        "import matplotlib.pyplot as plt\n",
        "import seaborn as sns\n",
        "import numpy as np\n",
        "\n",
        "\n",
        "# random seed\n",
        "np.random.seed(42)\n",
        "\n",
        "# configurar o estilo dos gráficos com o Seaborn\n",
        "sns.set_style('dark')\n",
        "%matplotlib inline\n"
      ],
      "execution_count": 175,
      "outputs": []
    },
    {
      "cell_type": "code",
      "metadata": {
        "colab": {
          "base_uri": "https://localhost:8080/",
          "height": 309
        },
        "id": "iimj-b4XHdBi",
        "outputId": "f1184bfb-ea73-40cd-ff6b-c99ac07a6249"
      },
      "source": [
        "# importar os dados\n",
        "DATA_PATH = \"https://raw.githubusercontent.com/carlosfab/dsnp2/master/datasets/WA_Fn-UseC_-Telco-Customer-Churn.csv\"\n",
        "df = pd.read_csv(DATA_PATH)\n",
        "\n",
        "# ver as 5 primeiras entradas\n",
        "df.head()"
      ],
      "execution_count": 120,
      "outputs": [
        {
          "output_type": "execute_result",
          "data": {
            "text/html": [
              "<div>\n",
              "<style scoped>\n",
              "    .dataframe tbody tr th:only-of-type {\n",
              "        vertical-align: middle;\n",
              "    }\n",
              "\n",
              "    .dataframe tbody tr th {\n",
              "        vertical-align: top;\n",
              "    }\n",
              "\n",
              "    .dataframe thead th {\n",
              "        text-align: right;\n",
              "    }\n",
              "</style>\n",
              "<table border=\"1\" class=\"dataframe\">\n",
              "  <thead>\n",
              "    <tr style=\"text-align: right;\">\n",
              "      <th></th>\n",
              "      <th>customerID</th>\n",
              "      <th>gender</th>\n",
              "      <th>SeniorCitizen</th>\n",
              "      <th>Partner</th>\n",
              "      <th>Dependents</th>\n",
              "      <th>tenure</th>\n",
              "      <th>PhoneService</th>\n",
              "      <th>MultipleLines</th>\n",
              "      <th>InternetService</th>\n",
              "      <th>OnlineSecurity</th>\n",
              "      <th>OnlineBackup</th>\n",
              "      <th>DeviceProtection</th>\n",
              "      <th>TechSupport</th>\n",
              "      <th>StreamingTV</th>\n",
              "      <th>StreamingMovies</th>\n",
              "      <th>Contract</th>\n",
              "      <th>PaperlessBilling</th>\n",
              "      <th>PaymentMethod</th>\n",
              "      <th>MonthlyCharges</th>\n",
              "      <th>TotalCharges</th>\n",
              "      <th>Churn</th>\n",
              "    </tr>\n",
              "  </thead>\n",
              "  <tbody>\n",
              "    <tr>\n",
              "      <th>0</th>\n",
              "      <td>7590-VHVEG</td>\n",
              "      <td>Female</td>\n",
              "      <td>0</td>\n",
              "      <td>Yes</td>\n",
              "      <td>No</td>\n",
              "      <td>1</td>\n",
              "      <td>No</td>\n",
              "      <td>No phone service</td>\n",
              "      <td>DSL</td>\n",
              "      <td>No</td>\n",
              "      <td>Yes</td>\n",
              "      <td>No</td>\n",
              "      <td>No</td>\n",
              "      <td>No</td>\n",
              "      <td>No</td>\n",
              "      <td>Month-to-month</td>\n",
              "      <td>Yes</td>\n",
              "      <td>Electronic check</td>\n",
              "      <td>29.85</td>\n",
              "      <td>29.85</td>\n",
              "      <td>No</td>\n",
              "    </tr>\n",
              "    <tr>\n",
              "      <th>1</th>\n",
              "      <td>5575-GNVDE</td>\n",
              "      <td>Male</td>\n",
              "      <td>0</td>\n",
              "      <td>No</td>\n",
              "      <td>No</td>\n",
              "      <td>34</td>\n",
              "      <td>Yes</td>\n",
              "      <td>No</td>\n",
              "      <td>DSL</td>\n",
              "      <td>Yes</td>\n",
              "      <td>No</td>\n",
              "      <td>Yes</td>\n",
              "      <td>No</td>\n",
              "      <td>No</td>\n",
              "      <td>No</td>\n",
              "      <td>One year</td>\n",
              "      <td>No</td>\n",
              "      <td>Mailed check</td>\n",
              "      <td>56.95</td>\n",
              "      <td>1889.5</td>\n",
              "      <td>No</td>\n",
              "    </tr>\n",
              "    <tr>\n",
              "      <th>2</th>\n",
              "      <td>3668-QPYBK</td>\n",
              "      <td>Male</td>\n",
              "      <td>0</td>\n",
              "      <td>No</td>\n",
              "      <td>No</td>\n",
              "      <td>2</td>\n",
              "      <td>Yes</td>\n",
              "      <td>No</td>\n",
              "      <td>DSL</td>\n",
              "      <td>Yes</td>\n",
              "      <td>Yes</td>\n",
              "      <td>No</td>\n",
              "      <td>No</td>\n",
              "      <td>No</td>\n",
              "      <td>No</td>\n",
              "      <td>Month-to-month</td>\n",
              "      <td>Yes</td>\n",
              "      <td>Mailed check</td>\n",
              "      <td>53.85</td>\n",
              "      <td>108.15</td>\n",
              "      <td>Yes</td>\n",
              "    </tr>\n",
              "    <tr>\n",
              "      <th>3</th>\n",
              "      <td>7795-CFOCW</td>\n",
              "      <td>Male</td>\n",
              "      <td>0</td>\n",
              "      <td>No</td>\n",
              "      <td>No</td>\n",
              "      <td>45</td>\n",
              "      <td>No</td>\n",
              "      <td>No phone service</td>\n",
              "      <td>DSL</td>\n",
              "      <td>Yes</td>\n",
              "      <td>No</td>\n",
              "      <td>Yes</td>\n",
              "      <td>Yes</td>\n",
              "      <td>No</td>\n",
              "      <td>No</td>\n",
              "      <td>One year</td>\n",
              "      <td>No</td>\n",
              "      <td>Bank transfer (automatic)</td>\n",
              "      <td>42.30</td>\n",
              "      <td>1840.75</td>\n",
              "      <td>No</td>\n",
              "    </tr>\n",
              "    <tr>\n",
              "      <th>4</th>\n",
              "      <td>9237-HQITU</td>\n",
              "      <td>Female</td>\n",
              "      <td>0</td>\n",
              "      <td>No</td>\n",
              "      <td>No</td>\n",
              "      <td>2</td>\n",
              "      <td>Yes</td>\n",
              "      <td>No</td>\n",
              "      <td>Fiber optic</td>\n",
              "      <td>No</td>\n",
              "      <td>No</td>\n",
              "      <td>No</td>\n",
              "      <td>No</td>\n",
              "      <td>No</td>\n",
              "      <td>No</td>\n",
              "      <td>Month-to-month</td>\n",
              "      <td>Yes</td>\n",
              "      <td>Electronic check</td>\n",
              "      <td>70.70</td>\n",
              "      <td>151.65</td>\n",
              "      <td>Yes</td>\n",
              "    </tr>\n",
              "  </tbody>\n",
              "</table>\n",
              "</div>"
            ],
            "text/plain": [
              "   customerID  gender  SeniorCitizen  ... MonthlyCharges TotalCharges  Churn\n",
              "0  7590-VHVEG  Female              0  ...          29.85        29.85     No\n",
              "1  5575-GNVDE    Male              0  ...          56.95       1889.5     No\n",
              "2  3668-QPYBK    Male              0  ...          53.85       108.15    Yes\n",
              "3  7795-CFOCW    Male              0  ...          42.30      1840.75     No\n",
              "4  9237-HQITU  Female              0  ...          70.70       151.65    Yes\n",
              "\n",
              "[5 rows x 21 columns]"
            ]
          },
          "metadata": {
            "tags": []
          },
          "execution_count": 120
        }
      ]
    },
    {
      "cell_type": "markdown",
      "metadata": {
        "id": "EAodz0nzTQSr"
      },
      "source": [
        "Acima, temos uma visão das 5 primeiras entradas do nosso conjunto de dados. Atráves de uma breve olhada, podemos ver que os dados representam informações de serviços e pagamentos dos clientes. Mesmo que não tendo descrição exata das variáveis, é possível ter uma noção do que se tratam, pois são serviços padrões de uma empresa de telecomunicações."
      ]
    },
    {
      "cell_type": "code",
      "metadata": {
        "colab": {
          "base_uri": "https://localhost:8080/"
        },
        "id": "jUtZAGsl_l_r",
        "outputId": "306c89d8-d8b9-4fce-bb0e-8d52d0248c3a"
      },
      "source": [
        "print(\"Número de Entradas:\",df.shape[0])\n",
        "print(\"\\nNúmero de Colunas:\",df.shape[1])"
      ],
      "execution_count": 121,
      "outputs": [
        {
          "output_type": "stream",
          "text": [
            "Número de Entradas: 7043\n",
            "\n",
            "Número de Colunas: 21\n"
          ],
          "name": "stdout"
        }
      ]
    },
    {
      "cell_type": "markdown",
      "metadata": {
        "id": "Ho4W4jq5K3Er"
      },
      "source": [
        "Como se verifica acima, o dataset é composto de 7043 entradas e 21 variáveis."
      ]
    },
    {
      "cell_type": "markdown",
      "metadata": {
        "id": "RfgG7Ivx85Fb"
      },
      "source": [
        "#Análise Exploratória de Dados\n",
        "\n",
        "Sempre antes de começar a treinar seu modelo de Machine Learning, temos que fazer uma análise nos dados presentes na tabela para verificar sua integridade, em prol de descobrir se é preciso ser feita alguma limpeza ou mudança nas variáveis presente nos dados."
      ]
    },
    {
      "cell_type": "code",
      "metadata": {
        "colab": {
          "base_uri": "https://localhost:8080/"
        },
        "id": "F5mofha5C0gB",
        "outputId": "77cd4155-beda-4585-d54f-78dc76e4fadb"
      },
      "source": [
        "print(\"Número máximo de dados ausentes no DataSet:\",df.isnull().sum().max())\n",
        "print(\"\\nTipo das Variáveis presentes no DataSet:\",df.dtypes)\n",
        "print('\\nValores únicos por variável:', df.nunique())\n",
        "print(\"\\nNome das variáveis:\", df.columns.values)"
      ],
      "execution_count": 122,
      "outputs": [
        {
          "output_type": "stream",
          "text": [
            "Número máximo de dados ausentes no DataSet: 0\n",
            "\n",
            "Tipo das Variáveis presentes no DataSet: customerID           object\n",
            "gender               object\n",
            "SeniorCitizen         int64\n",
            "Partner              object\n",
            "Dependents           object\n",
            "tenure                int64\n",
            "PhoneService         object\n",
            "MultipleLines        object\n",
            "InternetService      object\n",
            "OnlineSecurity       object\n",
            "OnlineBackup         object\n",
            "DeviceProtection     object\n",
            "TechSupport          object\n",
            "StreamingTV          object\n",
            "StreamingMovies      object\n",
            "Contract             object\n",
            "PaperlessBilling     object\n",
            "PaymentMethod        object\n",
            "MonthlyCharges      float64\n",
            "TotalCharges         object\n",
            "Churn                object\n",
            "dtype: object\n",
            "\n",
            "Valores únicos por variável: customerID          7043\n",
            "gender                 2\n",
            "SeniorCitizen          2\n",
            "Partner                2\n",
            "Dependents             2\n",
            "tenure                73\n",
            "PhoneService           2\n",
            "MultipleLines          3\n",
            "InternetService        3\n",
            "OnlineSecurity         3\n",
            "OnlineBackup           3\n",
            "DeviceProtection       3\n",
            "TechSupport            3\n",
            "StreamingTV            3\n",
            "StreamingMovies        3\n",
            "Contract               3\n",
            "PaperlessBilling       2\n",
            "PaymentMethod          4\n",
            "MonthlyCharges      1585\n",
            "TotalCharges        6531\n",
            "Churn                  2\n",
            "dtype: int64\n",
            "\n",
            "Nome das variáveis: ['customerID' 'gender' 'SeniorCitizen' 'Partner' 'Dependents' 'tenure'\n",
            " 'PhoneService' 'MultipleLines' 'InternetService' 'OnlineSecurity'\n",
            " 'OnlineBackup' 'DeviceProtection' 'TechSupport' 'StreamingTV'\n",
            " 'StreamingMovies' 'Contract' 'PaperlessBilling' 'PaymentMethod'\n",
            " 'MonthlyCharges' 'TotalCharges' 'Churn']\n"
          ],
          "name": "stdout"
        }
      ]
    },
    {
      "cell_type": "markdown",
      "metadata": {
        "id": "Z3TU5RcYIYuf"
      },
      "source": [
        "Acima, verificamos as seguintes informações:\n",
        "* Dados ausentes:\n",
        "    * A soma dos dados ausentes presentes em todas as variáveis igual a zero, o que indica que não há dados ausentes presente.  \n",
        "\n",
        "* Tipo das Variáveis:\n",
        "  * As features são compostas em sua maioria por variáveis categóricas.\n",
        "  * A coluna `TotalCharges` é uma variável númerica sem dados ausentes, mas está sendo apresentada como `string`. \n",
        "  * Mais a frente, iremos passar as features categóricas para valor numérico.\n",
        "  * A nossa **variável alvo** se encontra na coluna `Churn`, que indica a quantidade de clientes que encerraram o serviço no anterior.\n",
        "  * A coluna `customerID` não agrega no treinamento do modelo, portante ela será retirada posteriormente.\n",
        "\n",
        "\n",
        "\n",
        "\n"
      ]
    },
    {
      "cell_type": "markdown",
      "metadata": {
        "id": "rlUtJaMj-E7W"
      },
      "source": [
        "###Proporção de Churn\n",
        "É muito importante saber como nossa variável alvo `Churn` está distribuida.   "
      ]
    },
    {
      "cell_type": "code",
      "metadata": {
        "colab": {
          "base_uri": "https://localhost:8080/",
          "height": 394
        },
        "id": "PBfj_FHn_NPa",
        "outputId": "d00b2b0e-da02-4432-c8bf-284c9a73c86d"
      },
      "source": [
        "#Proporção de Churn na empresa\n",
        "print(\"Proporção de Churn da Empresa:\",df['Churn'].value_counts()[1]/df.shape[0])\n",
        "x = ['No', 'Yes']\n",
        "y = [df['Churn'].value_counts().values[0], df['Churn'].value_counts().values[1]]\n",
        "fig, ax = plt.subplots()\n",
        "#ax = plt.gca()\n",
        "ax.set_xlabel('Churn')\n",
        "#Deixar o eixo y invisivel \n",
        "ax.get_yaxis().set_visible(False)\n",
        "ttl = ax.title\n",
        "ttl.set_position([.5, 1.05])\n",
        "#plt.draw()\n",
        "sns.countplot(df['Churn'], ax=ax)\n",
        "ax.set_title('Proportion of Customers who Left the Service')\n",
        "# This is the location for the annotated text\n",
        "i = 1\n",
        "j = 50\n",
        "# Annotating the bar plot with the values (total death count)\n",
        "for i in range(len(x)):\n",
        "    plt.annotate(y[i], (-0.1 + i, y[i] + j))\n",
        "\n",
        "\n",
        "plt.plot()"
      ],
      "execution_count": 123,
      "outputs": [
        {
          "output_type": "stream",
          "text": [
            "Proporção de Churn da Empresa: 0.2653698707936959\n"
          ],
          "name": "stdout"
        },
        {
          "output_type": "stream",
          "text": [
            "/usr/local/lib/python3.7/dist-packages/seaborn/_decorators.py:43: FutureWarning: Pass the following variable as a keyword arg: x. From version 0.12, the only valid positional argument will be `data`, and passing other arguments without an explicit keyword will result in an error or misinterpretation.\n",
            "  FutureWarning\n"
          ],
          "name": "stderr"
        },
        {
          "output_type": "execute_result",
          "data": {
            "text/plain": [
              "[]"
            ]
          },
          "metadata": {
            "tags": []
          },
          "execution_count": 123
        },
        {
          "output_type": "display_data",
          "data": {
            "image/png": "[encoded data removed]",
            "text/plain": [
              "<Figure size 432x288 with 1 Axes>"
            ]
          },
          "metadata": {
            "tags": [],
            "needs_background": "light"
          }
        }
      ]
    },
    {
      "cell_type": "markdown",
      "metadata": {
        "id": "Q2jg-bZvBls8"
      },
      "source": [
        "A empresa em questão se encontra com uma Taxa de Churn de 26.53%. Portanto, estamos lidando com um DataSet desbalanceado. A quantidade de Churns é significativamente menor do que as não Chruns.\n",
        "\n",
        "Retornando a situação da coluna `TotalCharges`, iremos ver, como é possível identificar o erro presente nela. Ao tentarmos usar a mudança de variável `pd.to_numeric(df['TotalCharges'])`, encontramos um erro, informando que existe uma string vazia (\" \") presente na coluna. Vamos agora identificar quantas dessas strings estão presentes e contornar esse problema.*texto em itálico*"
      ]
    },
    {
      "cell_type": "code",
      "metadata": {
        "colab": {
          "base_uri": "https://localhost:8080/"
        },
        "id": "Tm7xjjfGgS3m",
        "outputId": "656ed9e0-679c-4214-c651-cf1d8c5c3362"
      },
      "source": [
        "#Verificando quantas linhas possuem a string vazia.\n",
        "print(\"O número de entradas como string vazias são:\",df[df['TotalCharges']==' '].shape[0])"
      ],
      "execution_count": 124,
      "outputs": [
        {
          "output_type": "stream",
          "text": [
            "O número de entradas como string vazias são: 11\n"
          ],
          "name": "stdout"
        }
      ]
    },
    {
      "cell_type": "markdown",
      "metadata": {
        "id": "GKEojf_pU1zb"
      },
      "source": [
        "Temos 11 linhas com as strings vazias presentes na coluna `TotalCharges`. Para alterar isso, iremos construir uma função para aplicar na coluna alvo e alterar as strings vazias para valores `NaN`. \n",
        "\n",
        "Iremos logo fazer uma cópia desse DataSet para efetuar essa limpeza e excluir a coluna `customerID` que não está agregando a nossa análise."
      ]
    },
    {
      "cell_type": "code",
      "metadata": {
        "id": "BLvdpFTyUXBW"
      },
      "source": [
        "def conversor_str_float(column):\n",
        "  if column == ' ':\n",
        "    #converte cada string vazia para NaN\n",
        "    return np.nan\n",
        "  else:\n",
        "    #converte cada entrada para float\n",
        "    return float(column)"
      ],
      "execution_count": 125,
      "outputs": []
    },
    {
      "cell_type": "code",
      "metadata": {
        "colab": {
          "base_uri": "https://localhost:8080/"
        },
        "id": "YqFZi15EXw-i",
        "outputId": "15bf4c33-bc01-4ad5-ad7d-053258eb1d10"
      },
      "source": [
        "#Criando uma Cópia do DataSet\n",
        "df_clean = df.copy()\n",
        "#Dropar Coluna CustomerID\n",
        "df_clean.drop('customerID', axis=1, inplace=True)\n",
        "#Aplicando a função a coluna TotalCharges\n",
        "df_clean['TotalCharges'] = df_clean['TotalCharges'].apply(conversor_str_float)\n",
        "#Verificando tipo da coluna Totalcharges\n",
        "print(df_clean['TotalCharges'].dtypes)"
      ],
      "execution_count": 126,
      "outputs": [
        {
          "output_type": "stream",
          "text": [
            "float64\n"
          ],
          "name": "stdout"
        }
      ]
    },
    {
      "cell_type": "markdown",
      "metadata": {
        "id": "cywHnVh8ZWmH"
      },
      "source": [
        "Agora que passamos a coluna `TotalCharges` para float, temos que lidar com  os dados ausentes que inserimos na coluna. Temos duas opções:\n",
        "\n",
        "  * Retirar as respectivas linhas com valores NaN.\n",
        "  * Substituir os valores NaN pela mediana da coluna.\n",
        "\n",
        "Iremos prosseguir substituindo os valores pela mediana da coluna, pois a coluna `TotalCharge` pode ser uma variável de importância para nosso treinamento.  \n",
        "\n",
        "Iremos prosseguir retirando os valores da coluna, pois a coluna `TotalCharge`, pois os valores da coluna `Churn` relacionados a ele apresentam valores `no`. Portanto, fazem parte da classe majoritária dos valores de `Churn`, logo não irá interferir no treinamento. "
      ]
    },
    {
      "cell_type": "code",
      "metadata": {
        "id": "Zoxfne9is3BH"
      },
      "source": [
        "#Substituindo valores pela Mediana\n",
        "TotalChargesMedian = df_clean.TotalCharges.median()\n",
        "df_clean[\"TotalCharges\"].fillna(TotalChargesMedian, inplace=True)"
      ],
      "execution_count": 127,
      "outputs": []
    },
    {
      "cell_type": "code",
      "metadata": {
        "id": "iJd9MaF9s3PG"
      },
      "source": [
        "#Dropando Valores\n",
        "#df_clean['TotalCharges'].dropna(inplace= True)"
      ],
      "execution_count": 128,
      "outputs": []
    },
    {
      "cell_type": "markdown",
      "metadata": {
        "id": "YjDS3LLcDmbA"
      },
      "source": [
        "Agora que todas nossas colunas estão sem valores ausentes e nos seus tipos corretos. Podemos começar a olhar para distribuição dos nossos dados ao tentar entender como eles estão se comportando. Isso pode vir a ajudar futuramente como otimizar o treinamento do nosso modelo de machine larning. \n",
        "\n",
        "Por mais que a maioria das nossas variáveis ainda estão na sua forma binária ou categórica, podemos usar o método `describe` para olhar os valores estatísticos das variáveis númericas presentes."
      ]
    },
    {
      "cell_type": "code",
      "metadata": {
        "colab": {
          "base_uri": "https://localhost:8080/",
          "height": 297
        },
        "id": "raDW1jf0I48N",
        "outputId": "337e5ad2-bf4f-4632-fd58-05d99c609b1e"
      },
      "source": [
        "#Valores estatisticos\n",
        "df_clean.describe()"
      ],
      "execution_count": 129,
      "outputs": [
        {
          "output_type": "execute_result",
          "data": {
            "text/html": [
              "<div>\n",
              "<style scoped>\n",
              "    .dataframe tbody tr th:only-of-type {\n",
              "        vertical-align: middle;\n",
              "    }\n",
              "\n",
              "    .dataframe tbody tr th {\n",
              "        vertical-align: top;\n",
              "    }\n",
              "\n",
              "    .dataframe thead th {\n",
              "        text-align: right;\n",
              "    }\n",
              "</style>\n",
              "<table border=\"1\" class=\"dataframe\">\n",
              "  <thead>\n",
              "    <tr style=\"text-align: right;\">\n",
              "      <th></th>\n",
              "      <th>SeniorCitizen</th>\n",
              "      <th>tenure</th>\n",
              "      <th>MonthlyCharges</th>\n",
              "      <th>TotalCharges</th>\n",
              "    </tr>\n",
              "  </thead>\n",
              "  <tbody>\n",
              "    <tr>\n",
              "      <th>count</th>\n",
              "      <td>7043.000000</td>\n",
              "      <td>7043.000000</td>\n",
              "      <td>7043.000000</td>\n",
              "      <td>7043.000000</td>\n",
              "    </tr>\n",
              "    <tr>\n",
              "      <th>mean</th>\n",
              "      <td>0.162147</td>\n",
              "      <td>32.371149</td>\n",
              "      <td>64.761692</td>\n",
              "      <td>2281.916928</td>\n",
              "    </tr>\n",
              "    <tr>\n",
              "      <th>std</th>\n",
              "      <td>0.368612</td>\n",
              "      <td>24.559481</td>\n",
              "      <td>30.090047</td>\n",
              "      <td>2265.270398</td>\n",
              "    </tr>\n",
              "    <tr>\n",
              "      <th>min</th>\n",
              "      <td>0.000000</td>\n",
              "      <td>0.000000</td>\n",
              "      <td>18.250000</td>\n",
              "      <td>18.800000</td>\n",
              "    </tr>\n",
              "    <tr>\n",
              "      <th>25%</th>\n",
              "      <td>0.000000</td>\n",
              "      <td>9.000000</td>\n",
              "      <td>35.500000</td>\n",
              "      <td>402.225000</td>\n",
              "    </tr>\n",
              "    <tr>\n",
              "      <th>50%</th>\n",
              "      <td>0.000000</td>\n",
              "      <td>29.000000</td>\n",
              "      <td>70.350000</td>\n",
              "      <td>1397.475000</td>\n",
              "    </tr>\n",
              "    <tr>\n",
              "      <th>75%</th>\n",
              "      <td>0.000000</td>\n",
              "      <td>55.000000</td>\n",
              "      <td>89.850000</td>\n",
              "      <td>3786.600000</td>\n",
              "    </tr>\n",
              "    <tr>\n",
              "      <th>max</th>\n",
              "      <td>1.000000</td>\n",
              "      <td>72.000000</td>\n",
              "      <td>118.750000</td>\n",
              "      <td>8684.800000</td>\n",
              "    </tr>\n",
              "  </tbody>\n",
              "</table>\n",
              "</div>"
            ],
            "text/plain": [
              "       SeniorCitizen       tenure  MonthlyCharges  TotalCharges\n",
              "count    7043.000000  7043.000000     7043.000000   7043.000000\n",
              "mean        0.162147    32.371149       64.761692   2281.916928\n",
              "std         0.368612    24.559481       30.090047   2265.270398\n",
              "min         0.000000     0.000000       18.250000     18.800000\n",
              "25%         0.000000     9.000000       35.500000    402.225000\n",
              "50%         0.000000    29.000000       70.350000   1397.475000\n",
              "75%         0.000000    55.000000       89.850000   3786.600000\n",
              "max         1.000000    72.000000      118.750000   8684.800000"
            ]
          },
          "metadata": {
            "tags": []
          },
          "execution_count": 129
        }
      ]
    },
    {
      "cell_type": "markdown",
      "metadata": {
        "id": "JO782cGTKTuw"
      },
      "source": [
        "Podemos notar:\n",
        "* Na coluna `SeniorCitizen` mostra que 75% dos clientes não são idosos.\n",
        "\n",
        "* Na coluna `tenure` vemos que 25% dos clientes permaneceram até 9 meses com a empresa.\n",
        "\n",
        "Mais importante, não há indícios de outliers presentes nas variáveis numéricas. Com os boxplots abaixo, podemos ter uma certeza de que não há outliers presentes nas variáveis `MonhtlyCharges` e `TotalCharges`."
      ]
    },
    {
      "cell_type": "code",
      "metadata": {
        "colab": {
          "base_uri": "https://localhost:8080/",
          "height": 297
        },
        "id": "yCWgIlkVUbGi",
        "outputId": "d7d79ffd-cc2c-4760-9558-bafeb804e53b"
      },
      "source": [
        "fig, ax = plt.subplots(nrows=1, ncols=2, figsize=(12,4))\n",
        "sns.boxplot(x='MonthlyCharges', data=df_clean, ax=ax[0])\n",
        "sns.boxplot(x='TotalCharges', data=df_clean, ax=ax[1])\n",
        "plt.tight_layout()"
      ],
      "execution_count": 130,
      "outputs": [
        {
          "output_type": "display_data",
          "data": {
            "image/png": "[encoded data removed]",
            "text/plain": [
              "<Figure size 864x288 with 2 Axes>"
            ]
          },
          "metadata": {
            "tags": [],
            "needs_background": "light"
          }
        }
      ]
    },
    {
      "cell_type": "markdown",
      "metadata": {
        "id": "06LaliSu1OUj"
      },
      "source": [
        "A coluna `TotalCharges` é o pagamento mensal `MonthlyCharges` multiplicado pelo número de meses que o clientes está na empresa `tenure`. Portanto, essa coluna não agrega valor ao nosso algoritmo e podemos dropa-lá.\n",
        "\n"
      ]
    },
    {
      "cell_type": "code",
      "metadata": {
        "id": "oKL0r4lm13WD"
      },
      "source": [
        "#Dropando a coluna TotalCharges\n",
        "df_clean.drop('TotalCharges', axis=1, inplace = True)"
      ],
      "execution_count": 131,
      "outputs": []
    },
    {
      "cell_type": "markdown",
      "metadata": {
        "id": "z0EKkXCnaXo0"
      },
      "source": [
        "Já a coluna `tenure`, representa o tempo (em meses) em que o cliente usa/usou o determindo serviço da empresa. "
      ]
    },
    {
      "cell_type": "code",
      "metadata": {
        "colab": {
          "base_uri": "https://localhost:8080/",
          "height": 351
        },
        "id": "zvz19PaucvhM",
        "outputId": "9a87fc7a-ebe9-4581-cef1-358736c67317"
      },
      "source": [
        "fig, ax = plt.subplots(figsize=(15,4))\n",
        "sns.countplot(df_clean['tenure'])\n",
        "#sns.distplot(df[\"tenure\"],ax=ax)\n",
        "plt.ylabel('')\n",
        "plt.tight_layout();"
      ],
      "execution_count": 132,
      "outputs": [
        {
          "output_type": "stream",
          "text": [
            "/usr/local/lib/python3.7/dist-packages/seaborn/_decorators.py:43: FutureWarning: Pass the following variable as a keyword arg: x. From version 0.12, the only valid positional argument will be `data`, and passing other arguments without an explicit keyword will result in an error or misinterpretation.\n",
            "  FutureWarning\n"
          ],
          "name": "stderr"
        },
        {
          "output_type": "display_data",
          "data": {
            "image/png": "[encoded data removed]",
            "text/plain": [
              "<Figure size 1080x288 with 1 Axes>"
            ]
          },
          "metadata": {
            "tags": [],
            "needs_background": "light"
          }
        }
      ]
    },
    {
      "cell_type": "markdown",
      "metadata": {
        "id": "f4GodN0B0k6S"
      },
      "source": [
        "Observamos que na coluna `tenure`, costa o valor 0 em meses, que representa os clientes que acabaram de assinar o serviço."
      ]
    },
    {
      "cell_type": "code",
      "metadata": {
        "colab": {
          "base_uri": "https://localhost:8080/"
        },
        "id": "Sl5YKnl300ka",
        "outputId": "60800d33-60bc-41bf-f551-cd98f70abde6"
      },
      "source": [
        "df_clean[df_clean['tenure']==0]['Churn'].value_counts()"
      ],
      "execution_count": 133,
      "outputs": [
        {
          "output_type": "execute_result",
          "data": {
            "text/plain": [
              "No    11\n",
              "Name: Churn, dtype: int64"
            ]
          },
          "metadata": {
            "tags": []
          },
          "execution_count": 133
        }
      ]
    },
    {
      "cell_type": "markdown",
      "metadata": {
        "id": "9R_HKVAh1c-t"
      },
      "source": [
        "Vemos que temos um total de 11 clientes que acabaram de assinar o serviço da empresa, logo nenhum deles vai ser taxado como churn. Portanto, iremos retirar esses valores do nosso Dataset, pois ele pode dar uma falsa confiança para variáeis que posteriormente podem ser forte indicadoras de Churn."
      ]
    },
    {
      "cell_type": "code",
      "metadata": {
        "id": "bUz50aId1tiA"
      },
      "source": [
        "#Retirando tenure com valores iguais a zero\n",
        "df_clean = df_clean[df.tenure != 0]"
      ],
      "execution_count": 134,
      "outputs": []
    },
    {
      "cell_type": "markdown",
      "metadata": {
        "id": "jzNRHbtBikL4"
      },
      "source": [
        "#Lidando com Variáveis Categóricas\n",
        "É muito comum ver variáveis categóricas em um conjunto de dados. No entanto, nosso algoritmo de Machine Learning só pode ler valores numéricos. É essencial para o modelo transformar recursos categóricos em valores numéricos. \n",
        "\n",
        "Mas antes de fazer essa transformação, vamos entender as nossas variáveis categóricas. Elas estão divididas em dois tipos, as binárias(dois valores de resposta) e não binárias(mais de dois valores de resposta) vamos olhar os valores únicos entre elas."
      ]
    },
    {
      "cell_type": "code",
      "metadata": {
        "colab": {
          "base_uri": "https://localhost:8080/"
        },
        "id": "s6ZBnCTSwVFw",
        "outputId": "bec48dd1-0276-4a2b-8ad3-99a11f3b3813"
      },
      "source": [
        "#Valores categoricos Unicos\n",
        "binary_categorical_values = [] \n",
        "multiple_categorical_values =[]\n",
        "for col in df_clean.select_dtypes('object').columns:\n",
        "    if df_clean[col].value_counts().shape[0] == 2:\n",
        "        binary_categorical_values.append(col)\n",
        "    else:\n",
        "        multiple_categorical_values.append(col)\n",
        "\n",
        "print(\"Variaveis categoricas com dois valores:\", binary_categorical_values)\n",
        "print(\"\\nVariáveis Categóricas com Mais de dois Valores:\", multiple_categorical_values)"
      ],
      "execution_count": 135,
      "outputs": [
        {
          "output_type": "stream",
          "text": [
            "Variaveis categoricas com dois valores: ['gender', 'Partner', 'Dependents', 'PhoneService', 'PaperlessBilling', 'Churn']\n",
            "\n",
            "Variáveis Categóricas com Mais de dois Valores: ['MultipleLines', 'InternetService', 'OnlineSecurity', 'OnlineBackup', 'DeviceProtection', 'TechSupport', 'StreamingTV', 'StreamingMovies', 'Contract', 'PaymentMethod']\n"
          ],
          "name": "stdout"
        }
      ]
    },
    {
      "cell_type": "markdown",
      "metadata": {
        "id": "VJaU_J3vDlfy"
      },
      "source": [
        "##Variáveis Categóricas Binárias\n",
        "\n",
        "Para ter uma ideia de como estão as proporções dessas variáveis binárias, vamos fazer uso do gráfico de barra. "
      ]
    },
    {
      "cell_type": "code",
      "metadata": {
        "colab": {
          "base_uri": "https://localhost:8080/",
          "height": 805
        },
        "id": "LVdfqg2e2pLe",
        "outputId": "adb40b4e-29d4-4be0-ba2c-7d7f993a2a48"
      },
      "source": [
        "#Creating the Multiple Plot\n",
        "fig, ax = plt.subplots(2, 3, figsize=(12, 7), sharey=True)\n",
        "#Figure Title\n",
        "fig.suptitle('Proportion of Binary Features', fontsize=16,y=1.08)\n",
        "\n",
        "\n",
        "#Column Plot [0,0]\n",
        "sns.countplot(df_clean[\"gender\"], ax=ax[0,0])\n",
        "x = ['Female', 'Male']\n",
        "y = [df_clean['gender'].value_counts().values[0], df_clean['gender'].value_counts().values[1]]\n",
        "ax[0,0].get_yaxis().set_visible(False)\n",
        "# This is the location for the annotated text\n",
        "i = 1\n",
        "j = 50\n",
        "# Annotating the bar plot with the values (total death count)\n",
        "for i in range(len(x)):\n",
        "    ax[0,0].annotate(y[i], (-0.1 + i, y[i] + j))\n",
        "\n",
        "#Column Plot [0,1]   \n",
        "sns.countplot(df_clean[\"SeniorCitizen\"], ax=ax[0,1])\n",
        "x = ['Not Senior', 'Senior']\n",
        "y = [df_clean['SeniorCitizen'].value_counts().values[0], df_clean['SeniorCitizen'].value_counts().values[1]]\n",
        "ax[0,1].get_yaxis().set_visible(False)\n",
        "#Change X ticks\n",
        "ax[0,1].set_xticklabels(['Not Senior', 'Senior'])\n",
        "# This is the location for the annotated text\n",
        "i = 1\n",
        "j = 50\n",
        "# Annotating the bar plot with the values (total death count)\n",
        "for i in range(len(x)):\n",
        "    ax[0,1].annotate(y[i], (-0.1 + i, y[i] + j))\n",
        "\n",
        "#column Plot [0,2]\n",
        "sns.countplot(df_clean[\"Partner\"], ax=ax[0,2])\n",
        "x = ['Yes', 'No']\n",
        "y = [df_clean['Partner'].value_counts().values[1], df_clean['Partner'].value_counts().values[0]]\n",
        "ax[0,2].get_yaxis().set_visible(False)\n",
        "# This is the location for the annotated text\n",
        "i = 1\n",
        "j = 50\n",
        "# Annotating the bar plot with the values (total death count)\n",
        "for i in range(len(x)):\n",
        "    ax[0,2].annotate(y[i], (-0.1 + i, y[i] + j))\n",
        "\n",
        "#Column Plot [1,0]\n",
        "sns.countplot(df_clean[\"Dependents\"], ax=ax[1,0])\n",
        "x = ['No', 'Yes']\n",
        "y = [df_clean['Dependents'].value_counts(ascending=True).values[1], df_clean['Dependents'].value_counts(ascending=True).values[0]]\n",
        "ax[1,0].get_yaxis().set_visible(False)\n",
        "# This is the location for the annotated text\n",
        "i = 1\n",
        "j = 50\n",
        "# Annotating the bar plot with the values (total death count)\n",
        "for i in range(len(x)):\n",
        "    ax[1,0].annotate(y[i], (-0.1 + i, y[i] + j))\n",
        "\n",
        "#Column Plot [1,1]\n",
        "sns.countplot(df_clean[\"PhoneService\"], ax=ax[1,1])\n",
        "x = ['No', 'Yes']\n",
        "y = [df_clean['PhoneService'].value_counts().values[1], df_clean['PhoneService'].value_counts().values[0]]\n",
        "ax[1,1].get_yaxis().set_visible(False)\n",
        "# This is the location for the annotated text\n",
        "i = 1\n",
        "j = 50\n",
        "# Annotating the bar plot with the values (total death count)\n",
        "for i in range(len(x)):\n",
        "    ax[1,1].annotate(y[i], (-0.1 + i, y[i] + j))\n",
        "\n",
        "#Column Plot [1,2]\n",
        "sns.countplot(df_clean[\"PaperlessBilling\"], ax=ax[1,2])\n",
        "x = ['Yes', 'No']\n",
        "y = [df_clean['PaperlessBilling'].value_counts().values[0], df_clean['PaperlessBilling'].value_counts().values[1]]\n",
        "#Remove y-axis\n",
        "ax[1,2].get_yaxis().set_visible(False)\n",
        "# This is the location for the annotated text\n",
        "i = 1\n",
        "j = 50\n",
        "# Annotating the bar plot with the values (total death count)\n",
        "for i in range(len(x)):\n",
        "    ax[1,2].annotate(y[i], (-0.1 + i, y[i] + j))\n",
        "    \n",
        "plt.tight_layout()\n",
        "plt.plot()"
      ],
      "execution_count": 136,
      "outputs": [
        {
          "output_type": "stream",
          "text": [
            "/usr/local/lib/python3.7/dist-packages/seaborn/_decorators.py:43: FutureWarning: Pass the following variable as a keyword arg: x. From version 0.12, the only valid positional argument will be `data`, and passing other arguments without an explicit keyword will result in an error or misinterpretation.\n",
            "  FutureWarning\n",
            "/usr/local/lib/python3.7/dist-packages/seaborn/_decorators.py:43: FutureWarning: Pass the following variable as a keyword arg: x. From version 0.12, the only valid positional argument will be `data`, and passing other arguments without an explicit keyword will result in an error or misinterpretation.\n",
            "  FutureWarning\n",
            "/usr/local/lib/python3.7/dist-packages/seaborn/_decorators.py:43: FutureWarning: Pass the following variable as a keyword arg: x. From version 0.12, the only valid positional argument will be `data`, and passing other arguments without an explicit keyword will result in an error or misinterpretation.\n",
            "  FutureWarning\n",
            "/usr/local/lib/python3.7/dist-packages/seaborn/_decorators.py:43: FutureWarning: Pass the following variable as a keyword arg: x. From version 0.12, the only valid positional argument will be `data`, and passing other arguments without an explicit keyword will result in an error or misinterpretation.\n",
            "  FutureWarning\n",
            "/usr/local/lib/python3.7/dist-packages/seaborn/_decorators.py:43: FutureWarning: Pass the following variable as a keyword arg: x. From version 0.12, the only valid positional argument will be `data`, and passing other arguments without an explicit keyword will result in an error or misinterpretation.\n",
            "  FutureWarning\n",
            "/usr/local/lib/python3.7/dist-packages/seaborn/_decorators.py:43: FutureWarning: Pass the following variable as a keyword arg: x. From version 0.12, the only valid positional argument will be `data`, and passing other arguments without an explicit keyword will result in an error or misinterpretation.\n",
            "  FutureWarning\n"
          ],
          "name": "stderr"
        },
        {
          "output_type": "execute_result",
          "data": {
            "text/plain": [
              "[]"
            ]
          },
          "metadata": {
            "tags": []
          },
          "execution_count": 136
        },
        {
          "output_type": "display_data",
          "data": {
            "image/png": "[encoded data removed]",
            "text/plain": [
              "<Figure size 864x504 with 6 Axes>"
            ]
          },
          "metadata": {
            "tags": [],
            "needs_background": "light"
          }
        }
      ]
    },
    {
      "cell_type": "markdown",
      "metadata": {
        "id": "zT519QxI8okC"
      },
      "source": [
        "Há um grande desequilíbrio nas variáveis ​​`SeniorCitizen` e `PhoneService`. A maioria dos clientes são jovens e da mesma forma, a maioria dos clientes possuem um serviço de telefone.\n",
        "\n",
        "É melhor verificar como a variável de destino (churn) muda de acordo com os recursos binários. Para poder fazer cálculos, precisamos alterar os valores da variável de destino."
      ]
    },
    {
      "cell_type": "markdown",
      "metadata": {
        "id": "jddh2LNyT_2V"
      },
      "source": [
        "\n",
        "Para checar como a variável `Churn` está distribuída entre essas variáveis categóricas. Para isso, precisamos transformá-la em uma variável numérica. vamos denotar: `Yes - 1` e `No - 0` "
      ]
    },
    {
      "cell_type": "code",
      "metadata": {
        "id": "qPiiCCK43VnR"
      },
      "source": [
        "#Mudando a variável categorica para numerica\n",
        "df_clean['Churn'].replace({'Yes':1, 'No':0}, inplace=True)"
      ],
      "execution_count": 137,
      "outputs": []
    },
    {
      "cell_type": "markdown",
      "metadata": {
        "id": "W-YVIlVO5-yn"
      },
      "source": [
        "Agora temos que notar o seguinte. Todos os clientes que deixaram a empresa (No caso, Churn) foram denotados pelo valor numérico 1, com isso, se tirarmos a média de toda coluna `Churn`, será somado apenas os valores iguais a 1 e será dividio pelo número total de valures na coluna, isso é exatamente a porcentagem de clientes `Churn` (ou seja, de valores iguais a 1 na coluna) da empresa. Dessa forma, podemos contabilizar entre as variáveis categóricas, qual a porcentagem de Churn.   "
      ]
    },
    {
      "cell_type": "code",
      "metadata": {
        "colab": {
          "base_uri": "https://localhost:8080/"
        },
        "id": "Ib78wutb7Xkj",
        "outputId": "52043ed6-5422-434c-9055-a70718be73cd"
      },
      "source": [
        "print('Proporção de Churn para coluna gender:')\n",
        "print(df_clean[['gender','Churn']].groupby(['gender']).mean())\n",
        "print('\\nProporção de Churn para coluna SeniorCitizen:')\n",
        "print(df_clean[['SeniorCitizen','Churn']].groupby(['SeniorCitizen']).mean())\n",
        "print('\\nProporção de Churn para coluna Partner: ')\n",
        "print(df_clean[['Partner','Churn']].groupby(['Partner']).mean())\n",
        "print('\\nProporção de Churn para coluna Dependents: ')\n",
        "print(df_clean[['Dependents','Churn']].groupby(['Dependents']).mean())\n",
        "print('\\nProporção de Churn para coluna PhoneService: ')\n",
        "print(df_clean[['PhoneService','Churn']].groupby(['PhoneService']).mean())\n",
        "print('\\nProporção de Churn para coluna PaperlessBilling: ')\n",
        "print(df_clean[['PaperlessBilling','Churn']].groupby(['PaperlessBilling']).mean())"
      ],
      "execution_count": 138,
      "outputs": [
        {
          "output_type": "stream",
          "text": [
            "Proporção de Churn para coluna gender:\n",
            "           Churn\n",
            "gender          \n",
            "Female  0.269595\n",
            "Male    0.262046\n",
            "\n",
            "Proporção de Churn para coluna SeniorCitizen:\n",
            "                  Churn\n",
            "SeniorCitizen          \n",
            "0              0.236503\n",
            "1              0.416813\n",
            "\n",
            "Proporção de Churn para coluna Partner: \n",
            "            Churn\n",
            "Partner          \n",
            "No       0.329761\n",
            "Yes      0.197171\n",
            "\n",
            "Proporção de Churn para coluna Dependents: \n",
            "               Churn\n",
            "Dependents          \n",
            "No          0.312791\n",
            "Yes         0.155312\n",
            "\n",
            "Proporção de Churn para coluna PhoneService: \n",
            "                 Churn\n",
            "PhoneService          \n",
            "No            0.250000\n",
            "Yes           0.267475\n",
            "\n",
            "Proporção de Churn para coluna PaperlessBilling: \n",
            "                     Churn\n",
            "PaperlessBilling          \n",
            "No                0.163757\n",
            "Yes               0.335893\n"
          ],
          "name": "stdout"
        }
      ]
    },
    {
      "cell_type": "markdown",
      "metadata": {
        "id": "xot_oem_aWjS"
      },
      "source": [
        "A média da taxa de Churn para genero são bem próximas e levando em conta que os clientes estão em mesma proporção de gênero, essa coluna não irá trazer informações pertinentes para ajudar na previsão do algoritmo. Portanto, a coluna `gender` não será usada no modelo de Machine Learning.\n",
        "\n",
        "A variável `PhoneService` tem valores de Churn muito próximos (2%) mas iremos mante-la em nosso algoritmo. \n",
        "\n",
        "As demais variáveis monstram mais indicios de que agregram efeito em nossa variável alvo. \n",
        "\n"
      ]
    },
    {
      "cell_type": "code",
      "metadata": {
        "id": "n0cd8YYXTALu"
      },
      "source": [
        "#Drop of gender column\n",
        "df_clean.drop('gender', axis=1, inplace=True)"
      ],
      "execution_count": 139,
      "outputs": []
    },
    {
      "cell_type": "markdown",
      "metadata": {
        "id": "dUWIN2ZKeNTA"
      },
      "source": [
        "##Variáveis Categóricas Restantes\n",
        "\n",
        "Agora vamos ver como se portam as variáveis com mais de dois valores em suas colunas e ver quais delas podem influenciar no Churn. Como anteriormente, vamos olhar como estão distribuidos os valores em cada variável. Vamos começar com as variáveis relacionados a serviços de internet. "
      ]
    },
    {
      "cell_type": "code",
      "metadata": {
        "colab": {
          "base_uri": "https://localhost:8080/",
          "height": 839
        },
        "id": "FgAEjFHvfurt",
        "outputId": "c60be26e-9977-41f1-ce58-7572f3a73b4a"
      },
      "source": [
        "#Creating the Multiple Plot\n",
        "fig, ax = plt.subplots(2, 4, figsize=(12, 7), sharey=True)\n",
        "#Figure Title\n",
        "fig.suptitle('Proportion of Other Categorical Features', fontsize=16,y=1.08)\n",
        "\n",
        "\n",
        "\n",
        "#Column Plot [0,1]   \n",
        "sns.countplot(df_clean['InternetService'], ax=ax[0,0])\n",
        "x = ['Fiber optic', 'DSL', 'No']\n",
        "y = [df_clean['InternetService'].value_counts().values[1], df_clean['InternetService'].value_counts().values[0],df_clean['InternetService'].value_counts().values[2]]\n",
        "ax[0,0].get_yaxis().set_visible(False)\n",
        "# This is the location for the annotated text\n",
        "i = 1\n",
        "j = 50\n",
        "# Annotating the bar plot with the values (total death count)\n",
        "for i in range(len(x)):\n",
        "    ax[0,0].annotate(y[i], (-0.1 + i, y[i] + j))\n",
        "\n",
        "#column Plot [0,1]\n",
        "sns.countplot(df_clean['OnlineSecurity'], ax=ax[0,1])\n",
        "x = ['No', 'Yes', 'No internet service']\n",
        "y = [df_clean['OnlineSecurity'].value_counts().values[0], df_clean['OnlineSecurity'].value_counts().values[1],df_clean['OnlineSecurity'].value_counts().values[2]]\n",
        "ax[0,1].get_yaxis().set_visible(False)\n",
        "# This is the location for the annotated text\n",
        "i = 1\n",
        "j = 50\n",
        "# Annotating the bar plot with the values (total death count)\n",
        "for i in range(len(x)):\n",
        "    ax[0,1].annotate(y[i], (-0.1 + i, y[i] + j))\n",
        "\n",
        "#Column Plot [0,2]\n",
        "sns.countplot(df_clean['OnlineBackup'], ax=ax[0,2])\n",
        "x = ['No', 'Yes', 'No internet service']\n",
        "y = [df_clean['OnlineBackup'].value_counts().values[1], df_clean['OnlineBackup'].value_counts().values[0],df_clean['OnlineBackup'].value_counts().values[2]]\n",
        "ax[0,2].get_yaxis().set_visible(False)\n",
        "# This is the location for the annotated text\n",
        "i = 1\n",
        "j = 50\n",
        "# Annotating the bar plot with the values (total death count)\n",
        "for i in range(len(x)):\n",
        "    ax[0,2].annotate(y[i], (-0.1 + i, y[i] + j))\n",
        "\n",
        "#Column Plot [0,3]\n",
        "sns.countplot(df_clean['DeviceProtection'], ax=ax[0,3])\n",
        "x = ['No', 'Yes', 'No internet service']\n",
        "y = [df_clean['DeviceProtection'].value_counts().values[0], df_clean['DeviceProtection'].value_counts().values[1], df_clean['DeviceProtection'].value_counts().values[2]]\n",
        "ax[0,3].get_yaxis().set_visible(False)\n",
        "# This is the location for the annotated text\n",
        "i = 1\n",
        "j = 50\n",
        "# Annotating the bar plot with the values (total death count)\n",
        "for i in range(len(x)):\n",
        "    ax[0,3].annotate(y[i], (-0.1 + i, y[i] + j))\n",
        "\n",
        "#Column Plot [1,0]\n",
        "sns.countplot(df_clean['TechSupport'], ax=ax[1,0])\n",
        "x = ['No', 'Yes', 'No internet service']\n",
        "y = [df_clean['TechSupport'].value_counts().values[0], df_clean['TechSupport'].value_counts().values[1], df_clean['TechSupport'].value_counts().values[2]]\n",
        "#Remove y-axis\n",
        "ax[1,0].get_yaxis().set_visible(False)\n",
        "# This is the location for the annotated text\n",
        "i = 1\n",
        "j = 50\n",
        "# Annotating the bar plot with the values (total death count)\n",
        "for i in range(len(x)):\n",
        "    ax[1,0].annotate(y[i], (-0.1 + i, y[i] + j))\n",
        "\n",
        "#Column Plot [1,1]\n",
        "sns.countplot(df_clean['StreamingTV'], ax=ax[1,1])\n",
        "x = ['No', 'Yes', 'No internet service']\n",
        "y = [df_clean['StreamingTV'].value_counts().values[0], df_clean['StreamingTV'].value_counts().values[1], df_clean['StreamingTV'].value_counts().values[2]]\n",
        "#Remove y-axis\n",
        "ax[1,1].get_yaxis().set_visible(False)\n",
        "# This is the location for the annotated text\n",
        "i = 1\n",
        "j = 50\n",
        "# Annotating the bar plot with the values (total death count)\n",
        "for i in range(len(x)):\n",
        "    ax[1,1].annotate(y[i], (-0.1 + i, y[i] + j))\n",
        "\n",
        "#Column Plot [1,2]\n",
        "sns.countplot(df_clean['StreamingMovies'], ax=ax[1,2])\n",
        "x = ['No', 'Yes', 'No internet service']\n",
        "y = [df_clean['StreamingMovies'].value_counts().values[0], df_clean['StreamingMovies'].value_counts().values[1], df_clean['StreamingMovies'].value_counts().values[2]]\n",
        "#Remove y-axis\n",
        "ax[1,2].get_yaxis().set_visible(False)\n",
        "# This is the location for the annotated text\n",
        "i = 1\n",
        "j = 50\n",
        "# Annotating the bar plot with the values (total death count)\n",
        "for i in range(len(x)):\n",
        "    ax[1,2].annotate(y[i], (-0.1 + i, y[i] + j))\n",
        "\n",
        "#Making the last spot not visible\n",
        "ax[1,3].set_visible(False)\n",
        "\n",
        "plt.tight_layout()\n",
        "plt.plot()"
      ],
      "execution_count": 140,
      "outputs": [
        {
          "output_type": "stream",
          "text": [
            "/usr/local/lib/python3.7/dist-packages/seaborn/_decorators.py:43: FutureWarning: Pass the following variable as a keyword arg: x. From version 0.12, the only valid positional argument will be `data`, and passing other arguments without an explicit keyword will result in an error or misinterpretation.\n",
            "  FutureWarning\n",
            "/usr/local/lib/python3.7/dist-packages/seaborn/_decorators.py:43: FutureWarning: Pass the following variable as a keyword arg: x. From version 0.12, the only valid positional argument will be `data`, and passing other arguments without an explicit keyword will result in an error or misinterpretation.\n",
            "  FutureWarning\n",
            "/usr/local/lib/python3.7/dist-packages/seaborn/_decorators.py:43: FutureWarning: Pass the following variable as a keyword arg: x. From version 0.12, the only valid positional argument will be `data`, and passing other arguments without an explicit keyword will result in an error or misinterpretation.\n",
            "  FutureWarning\n",
            "/usr/local/lib/python3.7/dist-packages/seaborn/_decorators.py:43: FutureWarning: Pass the following variable as a keyword arg: x. From version 0.12, the only valid positional argument will be `data`, and passing other arguments without an explicit keyword will result in an error or misinterpretation.\n",
            "  FutureWarning\n",
            "/usr/local/lib/python3.7/dist-packages/seaborn/_decorators.py:43: FutureWarning: Pass the following variable as a keyword arg: x. From version 0.12, the only valid positional argument will be `data`, and passing other arguments without an explicit keyword will result in an error or misinterpretation.\n",
            "  FutureWarning\n",
            "/usr/local/lib/python3.7/dist-packages/seaborn/_decorators.py:43: FutureWarning: Pass the following variable as a keyword arg: x. From version 0.12, the only valid positional argument will be `data`, and passing other arguments without an explicit keyword will result in an error or misinterpretation.\n",
            "  FutureWarning\n",
            "/usr/local/lib/python3.7/dist-packages/seaborn/_decorators.py:43: FutureWarning: Pass the following variable as a keyword arg: x. From version 0.12, the only valid positional argument will be `data`, and passing other arguments without an explicit keyword will result in an error or misinterpretation.\n",
            "  FutureWarning\n"
          ],
          "name": "stderr"
        },
        {
          "output_type": "execute_result",
          "data": {
            "text/plain": [
              "[]"
            ]
          },
          "metadata": {
            "tags": []
          },
          "execution_count": 140
        },
        {
          "output_type": "display_data",
          "data": {
            "image/png": "[encoded data removed]",
            "text/plain": [
              "<Figure size 864x504 with 8 Axes>"
            ]
          },
          "metadata": {
            "tags": [],
            "needs_background": "light"
          }
        }
      ]
    },
    {
      "cell_type": "markdown",
      "metadata": {
        "id": "W-BqhU2IAjgj"
      },
      "source": [
        "Das variáveis presentes acima, vemos que as variáveis `OnlineSecurity`, `OnlineBackup`, `DeviceProtection`, `TechSupport`, `StreamingTV`, `StreamingMovies` são opções que dependem do cliente possuir um serviço de internet. Portanto, vamos olhar isoladamente a variável `InternetService`."
      ]
    },
    {
      "cell_type": "code",
      "metadata": {
        "colab": {
          "base_uri": "https://localhost:8080/"
        },
        "id": "9PT0YXRNBm1b",
        "outputId": "e29bd7d3-a01b-46ab-8a0d-58e40d84ffa4"
      },
      "source": [
        "print('\\nProporção de Churn para coluna InternetService:')\n",
        "print(df_clean[['InternetService','Churn']].groupby(['InternetService']).mean())"
      ],
      "execution_count": 141,
      "outputs": [
        {
          "output_type": "stream",
          "text": [
            "\n",
            "Proporção de Churn para coluna InternetService:\n",
            "                    Churn\n",
            "InternetService          \n",
            "DSL              0.189983\n",
            "Fiber optic      0.418928\n",
            "No               0.074342\n"
          ],
          "name": "stdout"
        }
      ]
    },
    {
      "cell_type": "markdown",
      "metadata": {
        "id": "_Lc283iBCwu2"
      },
      "source": [
        "Essa variável nos mostra ser muito interessante para prever a taxa de Churn, pois clientes que possuem internet de fribra optica são mais propensos a largarem o serviço da empresa. No gráfico acima, vemos que não há muita diferença em clientes que optam por fibra óptica ou por DSL. Isso pode indicar um serviço de fibra óptica inferior, mas antes de tirar conclusões preciptadas, vamos ver a difenrença de preços entre os serviços. "
      ]
    },
    {
      "cell_type": "code",
      "metadata": {
        "colab": {
          "base_uri": "https://localhost:8080/",
          "height": 173
        },
        "id": "ephwY66JE4jj",
        "outputId": "b02c50d0-4272-4288-d5b8-f112cd91b4e7"
      },
      "source": [
        "df_clean[['MonthlyCharges','InternetService']].groupby(['InternetService']).mean()"
      ],
      "execution_count": 142,
      "outputs": [
        {
          "output_type": "execute_result",
          "data": {
            "text/html": [
              "<div>\n",
              "<style scoped>\n",
              "    .dataframe tbody tr th:only-of-type {\n",
              "        vertical-align: middle;\n",
              "    }\n",
              "\n",
              "    .dataframe tbody tr th {\n",
              "        vertical-align: top;\n",
              "    }\n",
              "\n",
              "    .dataframe thead th {\n",
              "        text-align: right;\n",
              "    }\n",
              "</style>\n",
              "<table border=\"1\" class=\"dataframe\">\n",
              "  <thead>\n",
              "    <tr style=\"text-align: right;\">\n",
              "      <th></th>\n",
              "      <th>MonthlyCharges</th>\n",
              "    </tr>\n",
              "    <tr>\n",
              "      <th>InternetService</th>\n",
              "      <th></th>\n",
              "    </tr>\n",
              "  </thead>\n",
              "  <tbody>\n",
              "    <tr>\n",
              "      <th>DSL</th>\n",
              "      <td>58.088017</td>\n",
              "    </tr>\n",
              "    <tr>\n",
              "      <th>Fiber optic</th>\n",
              "      <td>91.500129</td>\n",
              "    </tr>\n",
              "    <tr>\n",
              "      <th>No</th>\n",
              "      <td>21.076283</td>\n",
              "    </tr>\n",
              "  </tbody>\n",
              "</table>\n",
              "</div>"
            ],
            "text/plain": [
              "                 MonthlyCharges\n",
              "InternetService                \n",
              "DSL                   58.088017\n",
              "Fiber optic           91.500129\n",
              "No                    21.076283"
            ]
          },
          "metadata": {
            "tags": []
          },
          "execution_count": 142
        }
      ]
    },
    {
      "cell_type": "markdown",
      "metadata": {
        "id": "RH039RzbGUFr"
      },
      "source": [
        "O serviço de fibra óptica é mais caro do que o DSL, isso pode ser um motivo do por que clientes de fibra óptica são mais propensos a Churn.\n",
        "\n",
        "Vamos ver como é a proporção da Taxa de Churn com os serviços que dependem de internet."
      ]
    },
    {
      "cell_type": "code",
      "metadata": {
        "colab": {
          "base_uri": "https://localhost:8080/"
        },
        "id": "s70ZucOlpjD1",
        "outputId": "221ddd4b-4132-406b-dad6-d1ae9b4ef4b1"
      },
      "source": [
        "print('\\nProporção de Churn para coluna OnlineSecurity: ')\n",
        "print(df_clean[['OnlineSecurity','Churn']].groupby(['OnlineSecurity']).mean())\n",
        "print('\\nProporção de Churn para coluna OnlineBackup: ')\n",
        "print(df_clean[['OnlineBackup','Churn']].groupby(['OnlineBackup']).mean())\n",
        "print('\\nProporção de Churn para coluna DeviceProtection: ')\n",
        "print(df_clean[['DeviceProtection','Churn']].groupby(['DeviceProtection']).mean())\n",
        "print('\\nProporção de Churn para coluna TechSupport: ')\n",
        "print(df_clean[['TechSupport','Churn']].groupby(['TechSupport']).mean())\n",
        "print('\\nProporção de Churn para coluna StreamingTV: ')\n",
        "print(df_clean[['StreamingTV','Churn']].groupby(['StreamingTV']).mean())\n",
        "print('\\nProporção de Churn para coluna StreamingMovies: ')\n",
        "print(df_clean[['StreamingMovies','Churn']].groupby(['StreamingMovies']).mean())"
      ],
      "execution_count": 143,
      "outputs": [
        {
          "output_type": "stream",
          "text": [
            "\n",
            "Proporção de Churn para coluna OnlineSecurity: \n",
            "                        Churn\n",
            "OnlineSecurity               \n",
            "No                   0.417787\n",
            "No internet service  0.074342\n",
            "Yes                  0.146402\n",
            "\n",
            "Proporção de Churn para coluna OnlineBackup: \n",
            "                        Churn\n",
            "OnlineBackup                 \n",
            "No                   0.399417\n",
            "No internet service  0.074342\n",
            "Yes                  0.215670\n",
            "\n",
            "Proporção de Churn para coluna DeviceProtection: \n",
            "                        Churn\n",
            "DeviceProtection             \n",
            "No                   0.391403\n",
            "No internet service  0.074342\n",
            "Yes                  0.225393\n",
            "\n",
            "Proporção de Churn para coluna TechSupport: \n",
            "                        Churn\n",
            "TechSupport                  \n",
            "No                   0.416475\n",
            "No internet service  0.074342\n",
            "Yes                  0.151961\n",
            "\n",
            "Proporção de Churn para coluna StreamingTV: \n",
            "                        Churn\n",
            "StreamingTV                  \n",
            "No                   0.335351\n",
            "No internet service  0.074342\n",
            "Yes                  0.301147\n",
            "\n",
            "Proporção de Churn para coluna StreamingMovies: \n",
            "                        Churn\n",
            "StreamingMovies              \n",
            "No                   0.337289\n",
            "No internet service  0.074342\n",
            "Yes                  0.299524\n"
          ],
          "name": "stdout"
        }
      ]
    },
    {
      "cell_type": "markdown",
      "metadata": {
        "id": "gZDc5oh_qy1P"
      },
      "source": [
        ""
      ]
    },
    {
      "cell_type": "markdown",
      "metadata": {
        "id": "48d3ezKS0kHP"
      },
      "source": [
        "###Serviço de Telefone"
      ]
    },
    {
      "cell_type": "code",
      "metadata": {
        "colab": {
          "base_uri": "https://localhost:8080/"
        },
        "id": "dv_PWZig3H_9",
        "outputId": "7d678391-5670-4556-f8b1-a322ff3136b1"
      },
      "source": [
        "print(df_clean['MultipleLines'].value_counts())\n",
        "print('\\n')\n",
        "print(df_clean['PhoneService'].value_counts())"
      ],
      "execution_count": 144,
      "outputs": [
        {
          "output_type": "stream",
          "text": [
            "No                  3385\n",
            "Yes                 2967\n",
            "No phone service     680\n",
            "Name: MultipleLines, dtype: int64\n",
            "\n",
            "\n",
            "Yes    6352\n",
            "No      680\n",
            "Name: PhoneService, dtype: int64\n"
          ],
          "name": "stdout"
        }
      ]
    },
    {
      "cell_type": "markdown",
      "metadata": {
        "id": "-nMUJlI5Eytx"
      },
      "source": [
        "Os clientes que não possuem serviço de telefone, claramente não vão ter multiplas linhas. Note também que a resposta *No* da coluna `MultipleLines` representa os clientes que possuem apenas uma linha telefonica. Portanto, a coluna `MultipleLines` engloba a coluna `PhoneService` e ainda apresenta mais detalhes. Vamos retirar a coluna `PhoneService`, pois ela não irá agregar em nosso modelo."
      ]
    },
    {
      "cell_type": "code",
      "metadata": {
        "id": "yEWVOacpFr0S"
      },
      "source": [
        "#Dropping PhoneService Column\n",
        "df_clean.drop('PhoneService', axis=1, inplace=True)"
      ],
      "execution_count": 145,
      "outputs": []
    },
    {
      "cell_type": "code",
      "metadata": {
        "id": "HKSoFXeAqyNT",
        "colab": {
          "base_uri": "https://localhost:8080/"
        },
        "outputId": "904178aa-adcb-4fa1-9453-32f2c039d6dd"
      },
      "source": [
        "#Churn Proportion \n",
        "print('\\nProporção de Churn para coluna MultipleLines:')\n",
        "print(df_clean[['MultipleLines','Churn']].groupby(['MultipleLines']).mean())"
      ],
      "execution_count": 146,
      "outputs": [
        {
          "output_type": "stream",
          "text": [
            "\n",
            "Proporção de Churn para coluna MultipleLines:\n",
            "                     Churn\n",
            "MultipleLines             \n",
            "No                0.250812\n",
            "No phone service  0.250000\n",
            "Yes               0.286485\n"
          ],
          "name": "stdout"
        }
      ]
    },
    {
      "cell_type": "markdown",
      "metadata": {
        "id": "0kf2XLWmIEG5"
      },
      "source": [
        "As respostas da coluna mostram uma taxa de Churn muito próximas, mas irei manter a variável no nosso modelo. \n",
        "\n"
      ]
    },
    {
      "cell_type": "markdown",
      "metadata": {
        "id": "tPRKxQdgJ21k"
      },
      "source": [
        "###Contrato e Pagamento"
      ]
    },
    {
      "cell_type": "code",
      "metadata": {
        "colab": {
          "base_uri": "https://localhost:8080/",
          "height": 334
        },
        "id": "q80ZLx2q920A",
        "outputId": "0b1961c7-5476-4cc5-d320-a5cc71a117d5"
      },
      "source": [
        "fig, ax = plt.subplots()\n",
        "sns.countplot(df_clean['Contract']);\n",
        "x = ['Month-to-month', 'One Year Contract', 'Two Year']\n",
        "y = [df_clean['Contract'].value_counts().values[0], df_clean['Contract'].value_counts().values[2],df_clean['Contract'].value_counts().values[1]]\n",
        "ax.get_yaxis().set_visible(False)\n",
        "# This is the location for the annotated text\n",
        "i = 1\n",
        "j = 50\n",
        "# Annotating the bar plot with the values (total death count)\n",
        "for i in range(len(x)):\n",
        "    ax.annotate(y[i], (-0.1 + i, y[i] + j))\n",
        "plt.show()"
      ],
      "execution_count": 147,
      "outputs": [
        {
          "output_type": "stream",
          "text": [
            "/usr/local/lib/python3.7/dist-packages/seaborn/_decorators.py:43: FutureWarning: Pass the following variable as a keyword arg: x. From version 0.12, the only valid positional argument will be `data`, and passing other arguments without an explicit keyword will result in an error or misinterpretation.\n",
            "  FutureWarning\n"
          ],
          "name": "stderr"
        },
        {
          "output_type": "display_data",
          "data": {
            "image/png": "[encoded data removed]",
            "text/plain": [
              "<Figure size 432x288 with 1 Axes>"
            ]
          },
          "metadata": {
            "tags": [],
            "needs_background": "light"
          }
        }
      ]
    },
    {
      "cell_type": "code",
      "metadata": {
        "colab": {
          "base_uri": "https://localhost:8080/",
          "height": 173
        },
        "id": "eWuEkV5ljB-k",
        "outputId": "159e1aa5-d511-468f-8587-c82a3014045a"
      },
      "source": [
        "#Churn rate for contract features\n",
        "df_clean[['Contract','Churn']].groupby(['Contract']).mean()"
      ],
      "execution_count": 148,
      "outputs": [
        {
          "output_type": "execute_result",
          "data": {
            "text/html": [
              "<div>\n",
              "<style scoped>\n",
              "    .dataframe tbody tr th:only-of-type {\n",
              "        vertical-align: middle;\n",
              "    }\n",
              "\n",
              "    .dataframe tbody tr th {\n",
              "        vertical-align: top;\n",
              "    }\n",
              "\n",
              "    .dataframe thead th {\n",
              "        text-align: right;\n",
              "    }\n",
              "</style>\n",
              "<table border=\"1\" class=\"dataframe\">\n",
              "  <thead>\n",
              "    <tr style=\"text-align: right;\">\n",
              "      <th></th>\n",
              "      <th>Churn</th>\n",
              "    </tr>\n",
              "    <tr>\n",
              "      <th>Contract</th>\n",
              "      <th></th>\n",
              "    </tr>\n",
              "  </thead>\n",
              "  <tbody>\n",
              "    <tr>\n",
              "      <th>Month-to-month</th>\n",
              "      <td>0.427097</td>\n",
              "    </tr>\n",
              "    <tr>\n",
              "      <th>One year</th>\n",
              "      <td>0.112772</td>\n",
              "    </tr>\n",
              "    <tr>\n",
              "      <th>Two year</th>\n",
              "      <td>0.028487</td>\n",
              "    </tr>\n",
              "  </tbody>\n",
              "</table>\n",
              "</div>"
            ],
            "text/plain": [
              "                   Churn\n",
              "Contract                \n",
              "Month-to-month  0.427097\n",
              "One year        0.112772\n",
              "Two year        0.028487"
            ]
          },
          "metadata": {
            "tags": []
          },
          "execution_count": 148
        }
      ]
    },
    {
      "cell_type": "markdown",
      "metadata": {
        "id": "meXoyboPjSx5"
      },
      "source": [
        "Vemos que clientes com contratos de curto prazo são mais propensos a largarem o serviço. Portanto, vemos o motivo do qual muitas empresas costumam fazer ofertas mais em contas a contratos a longo prazo."
      ]
    },
    {
      "cell_type": "code",
      "metadata": {
        "colab": {
          "base_uri": "https://localhost:8080/",
          "height": 424
        },
        "id": "HTKiV0xsj0Y7",
        "outputId": "9d40bab7-eea0-4c23-806b-277fff813ea1"
      },
      "source": [
        "fig, ax = plt.subplots()\n",
        "sns.countplot(df_clean['PaymentMethod']);\n",
        "x = ['Electronic check', 'Mailed check', 'nk transfer (automatic)','Credit card (automatic)']\n",
        "y = [df_clean['PaymentMethod'].value_counts().values[0], df_clean['PaymentMethod'].value_counts().values[1],df_clean['PaymentMethod'].value_counts().values[2],df_clean['PaymentMethod'].value_counts().values[3]]\n",
        "ax.get_yaxis().set_visible(False)\n",
        "plt.xticks(rotation=45)\n",
        "# This is the location for the annotated text\n",
        "i = 1\n",
        "j = 50\n",
        "# Annotating the bar plot with the values (total death count)\n",
        "for i in range(len(x)):\n",
        "    ax.annotate(y[i], (-0.1 + i, y[i] + j))\n",
        "plt.show()"
      ],
      "execution_count": 149,
      "outputs": [
        {
          "output_type": "stream",
          "text": [
            "/usr/local/lib/python3.7/dist-packages/seaborn/_decorators.py:43: FutureWarning: Pass the following variable as a keyword arg: x. From version 0.12, the only valid positional argument will be `data`, and passing other arguments without an explicit keyword will result in an error or misinterpretation.\n",
            "  FutureWarning\n"
          ],
          "name": "stderr"
        },
        {
          "output_type": "display_data",
          "data": {
            "image/png": "[encoded data removed]",
            "text/plain": [
              "<Figure size 432x288 with 1 Axes>"
            ]
          },
          "metadata": {
            "tags": [],
            "needs_background": "light"
          }
        }
      ]
    },
    {
      "cell_type": "code",
      "metadata": {
        "colab": {
          "base_uri": "https://localhost:8080/",
          "height": 204
        },
        "id": "IBkQdjHBllsz",
        "outputId": "de760ed1-1dc3-46cf-9561-f36cb424b986"
      },
      "source": [
        "#Churn Rate for Payment\n",
        "df_clean[['PaymentMethod','Churn']].groupby(['PaymentMethod']).mean()"
      ],
      "execution_count": 150,
      "outputs": [
        {
          "output_type": "execute_result",
          "data": {
            "text/html": [
              "<div>\n",
              "<style scoped>\n",
              "    .dataframe tbody tr th:only-of-type {\n",
              "        vertical-align: middle;\n",
              "    }\n",
              "\n",
              "    .dataframe tbody tr th {\n",
              "        vertical-align: top;\n",
              "    }\n",
              "\n",
              "    .dataframe thead th {\n",
              "        text-align: right;\n",
              "    }\n",
              "</style>\n",
              "<table border=\"1\" class=\"dataframe\">\n",
              "  <thead>\n",
              "    <tr style=\"text-align: right;\">\n",
              "      <th></th>\n",
              "      <th>Churn</th>\n",
              "    </tr>\n",
              "    <tr>\n",
              "      <th>PaymentMethod</th>\n",
              "      <th></th>\n",
              "    </tr>\n",
              "  </thead>\n",
              "  <tbody>\n",
              "    <tr>\n",
              "      <th>Bank transfer (automatic)</th>\n",
              "      <td>0.167315</td>\n",
              "    </tr>\n",
              "    <tr>\n",
              "      <th>Credit card (automatic)</th>\n",
              "      <td>0.152531</td>\n",
              "    </tr>\n",
              "    <tr>\n",
              "      <th>Electronic check</th>\n",
              "      <td>0.452854</td>\n",
              "    </tr>\n",
              "    <tr>\n",
              "      <th>Mailed check</th>\n",
              "      <td>0.192020</td>\n",
              "    </tr>\n",
              "  </tbody>\n",
              "</table>\n",
              "</div>"
            ],
            "text/plain": [
              "                              Churn\n",
              "PaymentMethod                      \n",
              "Bank transfer (automatic)  0.167315\n",
              "Credit card (automatic)    0.152531\n",
              "Electronic check           0.452854\n",
              "Mailed check               0.192020"
            ]
          },
          "metadata": {
            "tags": []
          },
          "execution_count": 150
        }
      ]
    },
    {
      "cell_type": "markdown",
      "metadata": {
        "id": "kKGbJUFfpEBU"
      },
      "source": [
        "Podemos ver que a maioria dos clientes efetua pagamento em check, que também são os clientes mais propensos a largarem o serviço. Portanto pode ser feita uma análise mais aprofundada para saber se os clientes que pagam com check tem relação com alguma outra variável presente e tentar fazer algum plano para esse cliente permanecer na empresa. "
      ]
    },
    {
      "cell_type": "code",
      "metadata": {
        "colab": {
          "base_uri": "https://localhost:8080/",
          "height": 281
        },
        "id": "BLAobAFEqo39",
        "outputId": "e4a09622-ace6-4768-bf1a-9750aa5e3d09"
      },
      "source": [
        "df_clean.groupby(['Contract'])['PaymentMethod'].value_counts().plot(kind='barh');\n",
        "plt.ylabel('');\n",
        "plt.title('Contract Tyes per Payment');\n",
        "plt.show();"
      ],
      "execution_count": 151,
      "outputs": [
        {
          "output_type": "display_data",
          "data": {
            "image/png": "[encoded data removed]",
            "text/plain": [
              "<Figure size 432x288 with 1 Axes>"
            ]
          },
          "metadata": {
            "tags": [],
            "needs_background": "light"
          }
        }
      ]
    },
    {
      "cell_type": "markdown",
      "metadata": {
        "id": "MP4VVsMZr1dh"
      },
      "source": [
        "Ao olharmos os tipos de pagamentos em relação aos contratos, vemos que clientes que optam por contratos de curto prazo costumam, em sua maioria, pagar em check. Portanto, a empresa pode identificar esses clientes e tentar fazer uma boa oferta para ficarem a longo prazo.\n",
        "\n",
        "Vamos agora tentar identificar se quanto maior o tempo do cliente na empresa, será menor as chances dele cometer Churn."
      ]
    },
    {
      "cell_type": "code",
      "metadata": {
        "colab": {
          "base_uri": "https://localhost:8080/",
          "height": 142
        },
        "id": "IDGsS-MEyZr8",
        "outputId": "8aed9c7b-024d-4ea8-a6b9-47601b29d91b"
      },
      "source": [
        "#The average tenure in months for people who left the company\n",
        "df_clean[['tenure','Churn']].groupby(['Churn']).mean()"
      ],
      "execution_count": 152,
      "outputs": [
        {
          "output_type": "execute_result",
          "data": {
            "text/html": [
              "<div>\n",
              "<style scoped>\n",
              "    .dataframe tbody tr th:only-of-type {\n",
              "        vertical-align: middle;\n",
              "    }\n",
              "\n",
              "    .dataframe tbody tr th {\n",
              "        vertical-align: top;\n",
              "    }\n",
              "\n",
              "    .dataframe thead th {\n",
              "        text-align: right;\n",
              "    }\n",
              "</style>\n",
              "<table border=\"1\" class=\"dataframe\">\n",
              "  <thead>\n",
              "    <tr style=\"text-align: right;\">\n",
              "      <th></th>\n",
              "      <th>tenure</th>\n",
              "    </tr>\n",
              "    <tr>\n",
              "      <th>Churn</th>\n",
              "      <th></th>\n",
              "    </tr>\n",
              "  </thead>\n",
              "  <tbody>\n",
              "    <tr>\n",
              "      <th>0</th>\n",
              "      <td>37.650010</td>\n",
              "    </tr>\n",
              "    <tr>\n",
              "      <th>1</th>\n",
              "      <td>17.979133</td>\n",
              "    </tr>\n",
              "  </tbody>\n",
              "</table>\n",
              "</div>"
            ],
            "text/plain": [
              "          tenure\n",
              "Churn           \n",
              "0      37.650010\n",
              "1      17.979133"
            ]
          },
          "metadata": {
            "tags": []
          },
          "execution_count": 152
        }
      ]
    },
    {
      "cell_type": "markdown",
      "metadata": {
        "id": "uDyQfLjUs-UD"
      },
      "source": [
        "Vemos que a média de clientes que deixam a empresa são aproximadamente 20 meses menos do que pessoas que costumam ficar. O que mostra que quanto maior o tempo de um cliente na empresa, menor as chances dele cometer Churn. Também observamos isso na coluna `Contract`, onde clientes com contratos a longo prazo, tem menos chance de cometer Churn. Mas falta confirmar se os clientes com contratos a longo prazo, são os que possuem a maior tenure."
      ]
    },
    {
      "cell_type": "code",
      "metadata": {
        "colab": {
          "base_uri": "https://localhost:8080/",
          "height": 173
        },
        "id": "e9-pVDpv37ZY",
        "outputId": "369f6794-a04d-4104-fd70-9b71d739760f"
      },
      "source": [
        "df_clean[['Contract','tenure']].groupby(['Contract']).mean()"
      ],
      "execution_count": 153,
      "outputs": [
        {
          "output_type": "execute_result",
          "data": {
            "text/html": [
              "<div>\n",
              "<style scoped>\n",
              "    .dataframe tbody tr th:only-of-type {\n",
              "        vertical-align: middle;\n",
              "    }\n",
              "\n",
              "    .dataframe tbody tr th {\n",
              "        vertical-align: top;\n",
              "    }\n",
              "\n",
              "    .dataframe thead th {\n",
              "        text-align: right;\n",
              "    }\n",
              "</style>\n",
              "<table border=\"1\" class=\"dataframe\">\n",
              "  <thead>\n",
              "    <tr style=\"text-align: right;\">\n",
              "      <th></th>\n",
              "      <th>tenure</th>\n",
              "    </tr>\n",
              "    <tr>\n",
              "      <th>Contract</th>\n",
              "      <th></th>\n",
              "    </tr>\n",
              "  </thead>\n",
              "  <tbody>\n",
              "    <tr>\n",
              "      <th>Month-to-month</th>\n",
              "      <td>18.036645</td>\n",
              "    </tr>\n",
              "    <tr>\n",
              "      <th>One year</th>\n",
              "      <td>42.073370</td>\n",
              "    </tr>\n",
              "    <tr>\n",
              "      <th>Two year</th>\n",
              "      <td>57.071810</td>\n",
              "    </tr>\n",
              "  </tbody>\n",
              "</table>\n",
              "</div>"
            ],
            "text/plain": [
              "                   tenure\n",
              "Contract                 \n",
              "Month-to-month  18.036645\n",
              "One year        42.073370\n",
              "Two year        57.071810"
            ]
          },
          "metadata": {
            "tags": []
          },
          "execution_count": 153
        }
      ]
    },
    {
      "cell_type": "markdown",
      "metadata": {
        "id": "4SjIPY9G4Q6J"
      },
      "source": [
        "Como esperado, clientes com contratos a longo prazo, tem maior grau de fidelidade com a empresa do que clientes com contratos a curto prazo. Essas duas variáveis, estão altamente correlacionadas. Portanto, manter a variável `Contract` vai adicionar pouca informação para a identificação de Churn do nosso modelo. "
      ]
    },
    {
      "cell_type": "code",
      "metadata": {
        "id": "m4sp4BdQg3nj"
      },
      "source": [
        "df_clean.drop('Contract', axis=1, inplace=True)"
      ],
      "execution_count": 154,
      "outputs": []
    },
    {
      "cell_type": "markdown",
      "metadata": {
        "id": "rVrRH5HT4_Ei"
      },
      "source": [
        "Note como essa fase de análise exploratória é muito importante, através dela, conseguimos identificar variáveis que agregam pouca informação para o modelo. Logo, é desnecessário incluir todas as variáveis no modelo. Adicionando variáveis não necessarias, podemos aumentar a complexidade do modelo, pois modelos complexos tendem a overfit e não generalizar bem para novas variáveis. Retirarmos algumas variáveis do nosso dataset. \n",
        "\n",
        "* `Contract`\n",
        "* `CustomerID`\n",
        "* `PhoneService`\n",
        "* `TotalCharges`\n",
        "* `Gender`\n",
        "\n",
        "Agora que finalizamos esse processo, podemos começar a trabalhar no nosso modelo de machine learning."
      ]
    },
    {
      "cell_type": "markdown",
      "metadata": {
        "id": "QZ7p3hp96ItY"
      },
      "source": [
        "# Preparando os Dados\n",
        "\n",
        "##Variáveis Categóricas\n",
        "\n",
        "Quando lidamos com variáveis categoricas, precisamos transformá-las em variáveis numéricas antes de treinarmos nosso modelo de Machine Learning. Temos que ter um cuidado ao fazer essa transformação, pois ao transformar as variáveis, um número sera designado a cada categoria e dessa forma, a categoria com números maiores, será considerada mais importante. Como estamos lidando em maioria com variáveis categóricas não binárias, temos que tomar cuidado para isso não ocorrer. Dessa forma, iremos transformar as variáveis de forma que cada categoria será representada por uma coluna com valores 0's ou 1's.\n",
        "\n",
        "\n",
        "\n",
        "\n"
      ]
    },
    {
      "cell_type": "code",
      "metadata": {
        "id": "jJpN4sEm2Qrl",
        "colab": {
          "base_uri": "https://localhost:8080/"
        },
        "outputId": "ace378d5-1174-41f2-9b7e-b6c140fc5093"
      },
      "source": [
        "#Data pre-processing\n",
        "#Putting all binary columns in a lis\n",
        "binary_var = df_clean.nunique()[df_clean.nunique() == 2].keys().tolist()\n",
        "print('Todas variáveis binarias:', binary_var)\n",
        "#Putting all Numerical Variables in a list different of binary (senior column is numerico and binary)\n",
        "num_var = [col for col in df_clean.select_dtypes(['int', 'float']).columns.tolist() if col not in binary_var]\n",
        "print('\\nTodas variáveis Numéricas não binárias:', num_var)\n",
        "#Non binary variables\n",
        "cat_var = [col for col in df_clean.columns.tolist() if col not in binary_var + num_var]\n",
        "print('\\nTodas variáveis Categóricas ão binárias:', cat_var)\n",
        "\n"
      ],
      "execution_count": 155,
      "outputs": [
        {
          "output_type": "stream",
          "text": [
            "Todas variáveis binarias: ['SeniorCitizen', 'Partner', 'Dependents', 'PaperlessBilling', 'Churn']\n",
            "\n",
            "Todas variáveis Numéricas não binárias: ['tenure', 'MonthlyCharges']\n",
            "\n",
            "Todas variáveis Categóricas ão binárias: ['MultipleLines', 'InternetService', 'OnlineSecurity', 'OnlineBackup', 'DeviceProtection', 'TechSupport', 'StreamingTV', 'StreamingMovies', 'PaymentMethod']\n"
          ],
          "name": "stdout"
        }
      ]
    },
    {
      "cell_type": "markdown",
      "metadata": {
        "id": "CH45Bgls_SVF"
      },
      "source": [
        "Para transformar as variáveis categóricas binárias vamos importar do sklearn o `LabelEnconder`."
      ]
    },
    {
      "cell_type": "code",
      "metadata": {
        "id": "Q2JmKTQe9Acm"
      },
      "source": [
        "#Import Library\n",
        "from sklearn.preprocessing import LabelEncoder\n",
        "#Creating a new Copy of the DataFrame\n",
        "df_proc = df_clean.copy()\n",
        "le = LabelEncoder()\n",
        "#Label Enconding for Binary Variables\n",
        "for i in binary_var:\n",
        "  df_proc[i] = le.fit_transform(df_proc[i])\n"
      ],
      "execution_count": 156,
      "outputs": []
    },
    {
      "cell_type": "markdown",
      "metadata": {
        "id": "09GP_JNLBA5_"
      },
      "source": [
        "Vamos agora usar o método `get_dummies` do pandas (Também poderia ser feito usando o `OneHotEnconder` do Sklearn) para transformar as variáveis categóricas não binárias em colunas de 0's e 1's. \n"
      ]
    },
    {
      "cell_type": "code",
      "metadata": {
        "id": "flnzOVlk8cU1"
      },
      "source": [
        "# Encoding for categorical columns with multiple classes\n",
        "df_proc = pd.get_dummies(df_proc, columns=cat_var)"
      ],
      "execution_count": 157,
      "outputs": []
    },
    {
      "cell_type": "markdown",
      "metadata": {
        "id": "a1Ir67RhB31S"
      },
      "source": [
        "Também precisamos *padronizar* as variáveis ​​contínuas. Caso contrário, as variáveis ​​com valores mais altos terão mais importância, o que afeta a precisão do modelo."
      ]
    },
    {
      "cell_type": "code",
      "metadata": {
        "id": "NVwnhgCiBxRm",
        "colab": {
          "base_uri": "https://localhost:8080/",
          "height": 35
        },
        "outputId": "8880585f-43ae-46da-ce63-49871ec6e751"
      },
      "source": [
        "#Scaling continuous variables\n",
        "'''\n",
        "from sklearn.preprocessing import StandardScaler\n",
        "sc = StandardScaler()\n",
        "for i in num_var:\n",
        "  df_proc[i] = sc.fit_transform(df_proc[[i]]) '''"
      ],
      "execution_count": 158,
      "outputs": [
        {
          "output_type": "execute_result",
          "data": {
            "application/vnd.google.colaboratory.intrinsic+json": {
              "type": "string"
            },
            "text/plain": [
              "'\\nfrom sklearn.preprocessing import StandardScaler\\nsc = StandardScaler()\\nfor i in num_var:\\n  df_proc[i] = sc.fit_transform(df_proc[[i]]) '"
            ]
          },
          "metadata": {
            "tags": []
          },
          "execution_count": 158
        }
      ]
    },
    {
      "cell_type": "code",
      "metadata": {
        "colab": {
          "base_uri": "https://localhost:8080/",
          "height": 275
        },
        "id": "GngaBCXxm9CD",
        "outputId": "e8bd57e7-31a3-4f8b-e646-625f5888ecbc"
      },
      "source": [
        "#Showing the new data\n",
        "print(df_proc.shape)\n",
        "df_proc.head()"
      ],
      "execution_count": 159,
      "outputs": [
        {
          "output_type": "stream",
          "text": [
            "(7032, 35)\n"
          ],
          "name": "stdout"
        },
        {
          "output_type": "execute_result",
          "data": {
            "text/html": [
              "<div>\n",
              "<style scoped>\n",
              "    .dataframe tbody tr th:only-of-type {\n",
              "        vertical-align: middle;\n",
              "    }\n",
              "\n",
              "    .dataframe tbody tr th {\n",
              "        vertical-align: top;\n",
              "    }\n",
              "\n",
              "    .dataframe thead th {\n",
              "        text-align: right;\n",
              "    }\n",
              "</style>\n",
              "<table border=\"1\" class=\"dataframe\">\n",
              "  <thead>\n",
              "    <tr style=\"text-align: right;\">\n",
              "      <th></th>\n",
              "      <th>SeniorCitizen</th>\n",
              "      <th>Partner</th>\n",
              "      <th>Dependents</th>\n",
              "      <th>tenure</th>\n",
              "      <th>PaperlessBilling</th>\n",
              "      <th>MonthlyCharges</th>\n",
              "      <th>Churn</th>\n",
              "      <th>MultipleLines_No</th>\n",
              "      <th>MultipleLines_No phone service</th>\n",
              "      <th>MultipleLines_Yes</th>\n",
              "      <th>InternetService_DSL</th>\n",
              "      <th>InternetService_Fiber optic</th>\n",
              "      <th>InternetService_No</th>\n",
              "      <th>OnlineSecurity_No</th>\n",
              "      <th>OnlineSecurity_No internet service</th>\n",
              "      <th>OnlineSecurity_Yes</th>\n",
              "      <th>OnlineBackup_No</th>\n",
              "      <th>OnlineBackup_No internet service</th>\n",
              "      <th>OnlineBackup_Yes</th>\n",
              "      <th>DeviceProtection_No</th>\n",
              "      <th>DeviceProtection_No internet service</th>\n",
              "      <th>DeviceProtection_Yes</th>\n",
              "      <th>TechSupport_No</th>\n",
              "      <th>TechSupport_No internet service</th>\n",
              "      <th>TechSupport_Yes</th>\n",
              "      <th>StreamingTV_No</th>\n",
              "      <th>StreamingTV_No internet service</th>\n",
              "      <th>StreamingTV_Yes</th>\n",
              "      <th>StreamingMovies_No</th>\n",
              "      <th>StreamingMovies_No internet service</th>\n",
              "      <th>StreamingMovies_Yes</th>\n",
              "      <th>PaymentMethod_Bank transfer (automatic)</th>\n",
              "      <th>PaymentMethod_Credit card (automatic)</th>\n",
              "      <th>PaymentMethod_Electronic check</th>\n",
              "      <th>PaymentMethod_Mailed check</th>\n",
              "    </tr>\n",
              "  </thead>\n",
              "  <tbody>\n",
              "    <tr>\n",
              "      <th>0</th>\n",
              "      <td>0</td>\n",
              "      <td>1</td>\n",
              "      <td>0</td>\n",
              "      <td>1</td>\n",
              "      <td>1</td>\n",
              "      <td>29.85</td>\n",
              "      <td>0</td>\n",
              "      <td>0</td>\n",
              "      <td>1</td>\n",
              "      <td>0</td>\n",
              "      <td>1</td>\n",
              "      <td>0</td>\n",
              "      <td>0</td>\n",
              "      <td>1</td>\n",
              "      <td>0</td>\n",
              "      <td>0</td>\n",
              "      <td>0</td>\n",
              "      <td>0</td>\n",
              "      <td>1</td>\n",
              "      <td>1</td>\n",
              "      <td>0</td>\n",
              "      <td>0</td>\n",
              "      <td>1</td>\n",
              "      <td>0</td>\n",
              "      <td>0</td>\n",
              "      <td>1</td>\n",
              "      <td>0</td>\n",
              "      <td>0</td>\n",
              "      <td>1</td>\n",
              "      <td>0</td>\n",
              "      <td>0</td>\n",
              "      <td>0</td>\n",
              "      <td>0</td>\n",
              "      <td>1</td>\n",
              "      <td>0</td>\n",
              "    </tr>\n",
              "    <tr>\n",
              "      <th>1</th>\n",
              "      <td>0</td>\n",
              "      <td>0</td>\n",
              "      <td>0</td>\n",
              "      <td>34</td>\n",
              "      <td>0</td>\n",
              "      <td>56.95</td>\n",
              "      <td>0</td>\n",
              "      <td>1</td>\n",
              "      <td>0</td>\n",
              "      <td>0</td>\n",
              "      <td>1</td>\n",
              "      <td>0</td>\n",
              "      <td>0</td>\n",
              "      <td>0</td>\n",
              "      <td>0</td>\n",
              "      <td>1</td>\n",
              "      <td>1</td>\n",
              "      <td>0</td>\n",
              "      <td>0</td>\n",
              "      <td>0</td>\n",
              "      <td>0</td>\n",
              "      <td>1</td>\n",
              "      <td>1</td>\n",
              "      <td>0</td>\n",
              "      <td>0</td>\n",
              "      <td>1</td>\n",
              "      <td>0</td>\n",
              "      <td>0</td>\n",
              "      <td>1</td>\n",
              "      <td>0</td>\n",
              "      <td>0</td>\n",
              "      <td>0</td>\n",
              "      <td>0</td>\n",
              "      <td>0</td>\n",
              "      <td>1</td>\n",
              "    </tr>\n",
              "    <tr>\n",
              "      <th>2</th>\n",
              "      <td>0</td>\n",
              "      <td>0</td>\n",
              "      <td>0</td>\n",
              "      <td>2</td>\n",
              "      <td>1</td>\n",
              "      <td>53.85</td>\n",
              "      <td>1</td>\n",
              "      <td>1</td>\n",
              "      <td>0</td>\n",
              "      <td>0</td>\n",
              "      <td>1</td>\n",
              "      <td>0</td>\n",
              "      <td>0</td>\n",
              "      <td>0</td>\n",
              "      <td>0</td>\n",
              "      <td>1</td>\n",
              "      <td>0</td>\n",
              "      <td>0</td>\n",
              "      <td>1</td>\n",
              "      <td>1</td>\n",
              "      <td>0</td>\n",
              "      <td>0</td>\n",
              "      <td>1</td>\n",
              "      <td>0</td>\n",
              "      <td>0</td>\n",
              "      <td>1</td>\n",
              "      <td>0</td>\n",
              "      <td>0</td>\n",
              "      <td>1</td>\n",
              "      <td>0</td>\n",
              "      <td>0</td>\n",
              "      <td>0</td>\n",
              "      <td>0</td>\n",
              "      <td>0</td>\n",
              "      <td>1</td>\n",
              "    </tr>\n",
              "    <tr>\n",
              "      <th>3</th>\n",
              "      <td>0</td>\n",
              "      <td>0</td>\n",
              "      <td>0</td>\n",
              "      <td>45</td>\n",
              "      <td>0</td>\n",
              "      <td>42.30</td>\n",
              "      <td>0</td>\n",
              "      <td>0</td>\n",
              "      <td>1</td>\n",
              "      <td>0</td>\n",
              "      <td>1</td>\n",
              "      <td>0</td>\n",
              "      <td>0</td>\n",
              "      <td>0</td>\n",
              "      <td>0</td>\n",
              "      <td>1</td>\n",
              "      <td>1</td>\n",
              "      <td>0</td>\n",
              "      <td>0</td>\n",
              "      <td>0</td>\n",
              "      <td>0</td>\n",
              "      <td>1</td>\n",
              "      <td>0</td>\n",
              "      <td>0</td>\n",
              "      <td>1</td>\n",
              "      <td>1</td>\n",
              "      <td>0</td>\n",
              "      <td>0</td>\n",
              "      <td>1</td>\n",
              "      <td>0</td>\n",
              "      <td>0</td>\n",
              "      <td>1</td>\n",
              "      <td>0</td>\n",
              "      <td>0</td>\n",
              "      <td>0</td>\n",
              "    </tr>\n",
              "    <tr>\n",
              "      <th>4</th>\n",
              "      <td>0</td>\n",
              "      <td>0</td>\n",
              "      <td>0</td>\n",
              "      <td>2</td>\n",
              "      <td>1</td>\n",
              "      <td>70.70</td>\n",
              "      <td>1</td>\n",
              "      <td>1</td>\n",
              "      <td>0</td>\n",
              "      <td>0</td>\n",
              "      <td>0</td>\n",
              "      <td>1</td>\n",
              "      <td>0</td>\n",
              "      <td>1</td>\n",
              "      <td>0</td>\n",
              "      <td>0</td>\n",
              "      <td>1</td>\n",
              "      <td>0</td>\n",
              "      <td>0</td>\n",
              "      <td>1</td>\n",
              "      <td>0</td>\n",
              "      <td>0</td>\n",
              "      <td>1</td>\n",
              "      <td>0</td>\n",
              "      <td>0</td>\n",
              "      <td>1</td>\n",
              "      <td>0</td>\n",
              "      <td>0</td>\n",
              "      <td>1</td>\n",
              "      <td>0</td>\n",
              "      <td>0</td>\n",
              "      <td>0</td>\n",
              "      <td>0</td>\n",
              "      <td>1</td>\n",
              "      <td>0</td>\n",
              "    </tr>\n",
              "  </tbody>\n",
              "</table>\n",
              "</div>"
            ],
            "text/plain": [
              "   SeniorCitizen  ...  PaymentMethod_Mailed check\n",
              "0              0  ...                           0\n",
              "1              0  ...                           1\n",
              "2              0  ...                           1\n",
              "3              0  ...                           0\n",
              "4              0  ...                           0\n",
              "\n",
              "[5 rows x 35 columns]"
            ]
          },
          "metadata": {
            "tags": []
          },
          "execution_count": 159
        }
      ]
    },
    {
      "cell_type": "code",
      "metadata": {
        "id": "BexZ0cyRp8O-",
        "colab": {
          "base_uri": "https://localhost:8080/",
          "height": 103
        },
        "outputId": "5840d6cf-2694-4425-abd7-d6a9cea0499b"
      },
      "source": [
        "''' #Importing the resample library\n",
        "from sklearn.utils import resample\n",
        "\n",
        "# Separate majority and minority classes\n",
        "df_proc_majority = df_proc[df_proc.Churn==0]\n",
        "df_proc_minority = df_proc[df_proc.Churn==1]\n",
        " \n",
        "# Upsample minority class\n",
        "df_proc_minority_upsampled = resample(df_proc_minority, \n",
        "                                 replace=True,     # sample with replacement\n",
        "                                 n_samples=5163,    # to match majority class\n",
        "                                 random_state=123) # reproducible results (seed)\n",
        " \n",
        "# Combine majority class with upsampled minority class\n",
        "df_proc_upsampled = pd.concat([df_proc_majority, df_proc_minority_upsampled])\n",
        "'''"
      ],
      "execution_count": 160,
      "outputs": [
        {
          "output_type": "execute_result",
          "data": {
            "application/vnd.google.colaboratory.intrinsic+json": {
              "type": "string"
            },
            "text/plain": [
              "' #Importing the resample library\\nfrom sklearn.utils import resample\\n\\n# Separate majority and minority classes\\ndf_proc_majority = df_proc[df_proc.Churn==0]\\ndf_proc_minority = df_proc[df_proc.Churn==1]\\n \\n# Upsample minority class\\ndf_proc_minority_upsampled = resample(df_proc_minority, \\n                                 replace=True,     # sample with replacement\\n                                 n_samples=5163,    # to match majority class\\n                                 random_state=123) # reproducible results (seed)\\n \\n# Combine majority class with upsampled minority class\\ndf_proc_upsampled = pd.concat([df_proc_majority, df_proc_minority_upsampled])\\n'"
            ]
          },
          "metadata": {
            "tags": []
          },
          "execution_count": 160
        }
      ]
    },
    {
      "cell_type": "code",
      "metadata": {
        "id": "CuKxdI6fslsS",
        "colab": {
          "base_uri": "https://localhost:8080/",
          "height": 103
        },
        "outputId": "a10ff78a-196d-4879-fc81-77f383682c5e"
      },
      "source": [
        "'''#Proporção de Churn na empresa\n",
        "x = ['No', 'Yes']\n",
        "y = [df_proc_upsampled['Churn'].value_counts().values[0], df_proc_upsampled['Churn'].value_counts().values[1]]\n",
        "fig, ax = plt.subplots()\n",
        "#ax = plt.gca()\n",
        "ax.set_xlabel('Churn')\n",
        "#Deixar o eixo y invisivel \n",
        "ax.get_yaxis().set_visible(False)\n",
        "ttl = ax.title\n",
        "ttl.set_position([.5, 1.05])\n",
        "#plt.draw()\n",
        "sns.countplot(df_proc_upsampled['Churn'], ax=ax)\n",
        "ax.set_title('Proportion of Customers who Left the Service')\n",
        "# This is the location for the annotated text\n",
        "i = 1\n",
        "j = 50\n",
        "# Annotating the bar plot with the values (total death count)\n",
        "for i in range(len(x)):\n",
        "    plt.annotate(y[i], (-0.1 + i, y[i] + j))\n",
        "\n",
        "\n",
        "plt.plot();\n",
        "'''"
      ],
      "execution_count": 161,
      "outputs": [
        {
          "output_type": "execute_result",
          "data": {
            "application/vnd.google.colaboratory.intrinsic+json": {
              "type": "string"
            },
            "text/plain": [
              "\"#Proporção de Churn na empresa\\nx = ['No', 'Yes']\\ny = [df_proc_upsampled['Churn'].value_counts().values[0], df_proc_upsampled['Churn'].value_counts().values[1]]\\nfig, ax = plt.subplots()\\n#ax = plt.gca()\\nax.set_xlabel('Churn')\\n#Deixar o eixo y invisivel \\nax.get_yaxis().set_visible(False)\\nttl = ax.title\\nttl.set_position([.5, 1.05])\\n#plt.draw()\\nsns.countplot(df_proc_upsampled['Churn'], ax=ax)\\nax.set_title('Proportion of Customers who Left the Service')\\n# This is the location for the annotated text\\ni = 1\\nj = 50\\n# Annotating the bar plot with the values (total death count)\\nfor i in range(len(x)):\\n    plt.annotate(y[i], (-0.1 + i, y[i] + j))\\n\\n\\nplt.plot();\\n\""
            ]
          },
          "metadata": {
            "tags": []
          },
          "execution_count": 161
        }
      ]
    },
    {
      "cell_type": "markdown",
      "metadata": {
        "id": "Z_a8kjDuf-Zi"
      },
      "source": [
        "#Modelo de Machine Learning\n",
        "\n",
        "Com o processamento realizado na etapa anterior, os dados já podem ser usados nos modelos de machine learning.\n",
        "\n",
        "A primeira coisa que temos que fazer no nosso modelo de machine learning é separar as variáveis entre variáveis de treino e variavéis de teste."
      ]
    },
    {
      "cell_type": "code",
      "metadata": {
        "id": "VKopARPyit_a"
      },
      "source": [
        "#Importing the traing test split library\n",
        "from sklearn.model_selection import train_test_split\n",
        "X = df_proc.drop('Churn', axis = 1)\n",
        "y = df_proc['Churn']\n",
        "\n",
        "#Traing and Test split\n",
        "X_train, X_test, y_train, y_test = train_test_split(X, y, shuffle = True)"
      ],
      "execution_count": 162,
      "outputs": []
    },
    {
      "cell_type": "markdown",
      "metadata": {
        "id": "Wmm7G6Xz_l_9"
      },
      "source": [
        "Para essa etapa, iremos criar um projeto simples, aonde iremos comparar diferentes comparar o desempenho de alguns modelos de machine learning e após isso focar em um modelo e melhorar ele com o uso de hiperparámetros. No momento não será feito nenhum ajuste nos hiperparâmetros e faremos o balanceamento de dados, feature engineering ou feature selection (entre outros) em nosso conjunto de treino, para tentar não inviesar o nossos dados de teste. Os dados de testes tem que se parecer o máximo possível com dados reais.\n",
        "\n",
        "Vamos criar uma função, que irá ter como entrada os dados de treino `X_train` e `y_train` e um modelo classificador do Scikit-Learn. Nessa função, iremos aplicar [cross validation](https://towardsdatascience.com/cross-validation-430d9a5fee22) de forma que dentro dos dados de treino, não seja aplicado nenhuma transformação nos dados de validação e simular uma condição onde nosso modelo de machine learning nunca tenha visto esse subconjunto. Essa etapa de padronização ou qualquer outra de pré-processamento, pode ser estruturada com um [pipeline](https://scikit-learn.org/stable/modules/compose.html#combining-estimators), aonde podemos aplicar feature selection, normalization and classification no conjunto de treino deixando o conjunto de validação sem ser alterado em cada etapa."
      ]
    },
    {
      "cell_type": "code",
      "metadata": {
        "id": "9CcGn2gY67PJ"
      },
      "source": [
        "def val_model(X, y, clf, quite=False):\n",
        "    \n",
        "    #quite: bool, indicando se a função deve imprimir os resultados ou não.\n",
        "    # Returns :float, média dos scores da cross-validation.\n",
        "    # clf: modelo de classificação\n",
        "    \n",
        "    X = np.array(X)\n",
        "    y = np.array(y)\n",
        "\n",
        "    #creating a pipeline and performing standardization in the cross validation\n",
        "    pipeline = make_pipeline(StandardScaler(), clf)\n",
        "    scores = cross_val_score(pipeline, X, y, scoring='recall')\n",
        "\n",
        "    if quite == False:\n",
        "        print(\"Recall: {:.2f} (+/- {:.2f})\".format(scores.mean(), scores.std()))\n",
        "    \n",
        "    return scores.mean()"
      ],
      "execution_count": 163,
      "outputs": []
    },
    {
      "cell_type": "markdown",
      "metadata": {
        "id": "CmNOhLcDNnC9"
      },
      "source": [
        "Vamos aplicar a pipeline acima no modelo de classificação *Random Forest* e imprimir a média do recal que recebemos da função criada acima. Lembrando que a métrica de avaliação do modelo fica a sua escolha. Estou usando Recall, pois ele preve o número de churns previstos corretamente. "
      ]
    },
    {
      "cell_type": "code",
      "metadata": {
        "colab": {
          "base_uri": "https://localhost:8080/"
        },
        "id": "88NDUgXn7BLK",
        "outputId": "ba3c68f7-d8d9-4abd-aadf-42dca1949ace"
      },
      "source": [
        "# criar baseline e ver desempenho\n",
        "from sklearn.pipeline import make_pipeline\n",
        "from sklearn.ensemble import RandomForestClassifier \n",
        "from sklearn.model_selection import cross_val_score\n",
        "rf = RandomForestClassifier()\n",
        "score_baseline = val_model(X_train, y_train, rf)\n"
      ],
      "execution_count": 164,
      "outputs": [
        {
          "output_type": "stream",
          "text": [
            "Recall: 0.47 (+/- 0.03)\n"
          ],
          "name": "stdout"
        }
      ]
    },
    {
      "cell_type": "markdown",
      "metadata": {
        "id": "M-pSiWy7PJRe"
      },
      "source": [
        "Agora temos um ponto de partida para comparar se os ajustes melhoram ou pioram o desempenho do modelo. O Recall acima é bastante condizente com os dados atuais, pois não balanceamos os nossos dados, o que faz o modelo acusar muitos falsos negativos. Agora iremos aplicar o balanceamento e fazer a padronização dos dados de treino usando o método *undersampling* e *StandardScaler*. Aplicamos no nossos dados de treino para manter os dados de teste os mais próximos possivel de dados novos que a empresa irá receber.\n",
        "\n",
        "Optei por usar o undersampling, pois ele acaba gerando um maior número de falsos positivos (onde um cliente que não é churn é classificado como churn) e a consequência disso pode acabar sendo oferecer uma promoção a um cliente que não iria largar a empresa, mas isso é algo a ser analisado e trabalhado de forma mais complexa numa situação real. \n",
        "\n"
      ]
    },
    {
      "cell_type": "code",
      "metadata": {
        "id": "VUie9RpnTqBq"
      },
      "source": [
        "#importing librarys\n",
        "from sklearn.preprocessing import StandardScaler\n",
        "from imblearn.under_sampling import RandomUnderSampler\n",
        "#  padronizar os  dados\n",
        "scaler = StandardScaler().fit(X_train)\n",
        "X_train = scaler.transform(X_train)\n",
        "\n",
        "from imblearn.over_sampling import SMOTE\n",
        "# Para quem quiser, pesquisa sobre SMOTE\n",
        "oversample = SMOTE()\n",
        "X_train_rus, y_train_rus = oversample.fit_sample(X_train, y_train)\n",
        "\n",
        "\n",
        "#balancear os dados\n",
        "\n",
        "#rus = RandomUnderSampler()\n",
        "#X_train_rus, y_train_rus = rus.fit_sample(X_train, y_train)"
      ],
      "execution_count": 178,
      "outputs": []
    },
    {
      "cell_type": "markdown",
      "metadata": {
        "id": "kJbCpDmfYUMC"
      },
      "source": [
        "Irei aplicar a validação cruzada a vários modelos, a fim de identificar o seu desempenho e escolher o(s) melhor(es). Novamente, serão utilizados apenas dados de treino. Os modelos escolhidos são:\n",
        "\n",
        "* Random Forest\n",
        "* Decision Tree\n",
        "* SVC\n",
        "* Regressão Logística\n"
      ]
    },
    {
      "cell_type": "code",
      "metadata": {
        "colab": {
          "base_uri": "https://localhost:8080/",
          "height": 204
        },
        "id": "Yp1woJpXPHLZ",
        "outputId": "184747fb-d836-489b-98d5-9a2dc0cc4739"
      },
      "source": [
        "from sklearn.svm import SVC\n",
        "from sklearn.tree import DecisionTreeClassifier\n",
        "from sklearn.linear_model import LogisticRegression\n",
        "from xgboost import XGBClassifier\n",
        "\n",
        "# instanciar modelos\n",
        "rf = RandomForestClassifier()\n",
        "dt = DecisionTreeClassifier()\n",
        "svc = SVC()\n",
        "lr = LogisticRegression()\n",
        "xgb = XGBClassifier()\n",
        "\n",
        "model = []\n",
        "recall = []\n",
        "# avaliar o desempenho (recall)\n",
        "for clf in (rf, dt, svc, lr, xgb):\n",
        "    model.append(clf.__class__.__name__)\n",
        "    recall.append(val_model(X_train_rus, y_train_rus, clf, quite=True))\n",
        "\n",
        "pd.DataFrame(data=recall, index=model, columns=['Recall'])"
      ],
      "execution_count": 179,
      "outputs": [
        {
          "output_type": "execute_result",
          "data": {
            "text/html": [
              "<div>\n",
              "<style scoped>\n",
              "    .dataframe tbody tr th:only-of-type {\n",
              "        vertical-align: middle;\n",
              "    }\n",
              "\n",
              "    .dataframe tbody tr th {\n",
              "        vertical-align: top;\n",
              "    }\n",
              "\n",
              "    .dataframe thead th {\n",
              "        text-align: right;\n",
              "    }\n",
              "</style>\n",
              "<table border=\"1\" class=\"dataframe\">\n",
              "  <thead>\n",
              "    <tr style=\"text-align: right;\">\n",
              "      <th></th>\n",
              "      <th>Recall</th>\n",
              "    </tr>\n",
              "  </thead>\n",
              "  <tbody>\n",
              "    <tr>\n",
              "      <th>RandomForestClassifier</th>\n",
              "      <td>0.844265</td>\n",
              "    </tr>\n",
              "    <tr>\n",
              "      <th>DecisionTreeClassifier</th>\n",
              "      <td>0.777562</td>\n",
              "    </tr>\n",
              "    <tr>\n",
              "      <th>SVC</th>\n",
              "      <td>0.830173</td>\n",
              "    </tr>\n",
              "    <tr>\n",
              "      <th>LogisticRegression</th>\n",
              "      <td>0.779430</td>\n",
              "    </tr>\n",
              "    <tr>\n",
              "      <th>XGBClassifier</th>\n",
              "      <td>0.841652</td>\n",
              "    </tr>\n",
              "  </tbody>\n",
              "</table>\n",
              "</div>"
            ],
            "text/plain": [
              "                          Recall\n",
              "RandomForestClassifier  0.844265\n",
              "DecisionTreeClassifier  0.777562\n",
              "SVC                     0.830173\n",
              "LogisticRegression      0.779430\n",
              "XGBClassifier           0.841652"
            ]
          },
          "metadata": {
            "tags": []
          },
          "execution_count": 179
        }
      ]
    },
    {
      "cell_type": "code",
      "metadata": {
        "id": "VxwJo08NaFPS"
      },
      "source": [
        "from sklearn.metrics import roc_auc_score, accuracy_score, f1_score, confusion_matrix, classification_report\n",
        "from scikitplot.metrics import plot_confusion_matrix, plot_roc\n",
        "from sklearn.model_selection import StratifiedKFold\n",
        "from sklearn.model_selection import GridSearchCV"
      ],
      "execution_count": 180,
      "outputs": []
    },
    {
      "cell_type": "code",
      "metadata": {
        "colab": {
          "base_uri": "https://localhost:8080/"
        },
        "id": "ZHozWT-UaAK1",
        "outputId": "02615e1e-4949-40bb-a520-d231bc1ccb7d"
      },
      "source": [
        "xgb = XGBClassifier(learning_rate=0.1)\n",
        "\n",
        "param_grid = {\n",
        " 'n_estimators':range(0,1000,50),\n",
        "}\n",
        "\n",
        "# identificar melhor parâmetro\n",
        "kfold = StratifiedKFold(n_splits=10, shuffle=True)\n",
        "grid_search = GridSearchCV(xgb, param_grid, scoring=\"recall\", n_jobs=-1, cv=kfold)\n",
        "grid_result = grid_search.fit(X_train_rus, y_train_rus)\n",
        "\n",
        "# ver resultados\n",
        "print(\"Melhor: {} para {}\".format(grid_result.best_score_, grid_result.best_params_))"
      ],
      "execution_count": 181,
      "outputs": [
        {
          "output_type": "stream",
          "text": [
            "Melhor: 0.8566101185187212 para {'n_estimators': 100}\n"
          ],
          "name": "stdout"
        }
      ]
    },
    {
      "cell_type": "markdown",
      "metadata": {
        "id": "9zrmqHn_iwfm"
      },
      "source": [
        "Com o número de estimadores igual a 100, realizarei a busca pelos parâmtros `max_depth` e `min_child_weight`."
      ]
    },
    {
      "cell_type": "code",
      "metadata": {
        "colab": {
          "base_uri": "https://localhost:8080/"
        },
        "id": "UGzKVkFOaaWy",
        "outputId": "4c83d778-3cae-47dc-d7ed-98ae1d8a1480"
      },
      "source": [
        "xgb = XGBClassifier(learning_rate=0.1, n_estimators=100)\n",
        "\n",
        "param_grid = {\n",
        " 'max_depth':range(1,8,1),\n",
        " 'min_child_weight':range(1,5,1)\n",
        "}\n",
        "\n",
        "# identificar melhor parâmetro\n",
        "kfold = StratifiedKFold(n_splits=10, shuffle=True)\n",
        "grid_search = GridSearchCV(xgb, param_grid, scoring=\"recall\", n_jobs=-1, cv=kfold)\n",
        "grid_result = grid_search.fit(X_train_rus, y_train_rus)\n",
        "\n",
        "# ver resultados\n",
        "print(\"Melhor: {} para {}\".format(grid_result.best_score_, grid_result.best_params_))"
      ],
      "execution_count": 182,
      "outputs": [
        {
          "output_type": "stream",
          "text": [
            "Melhor: 0.8626290104301942 para {'max_depth': 3, 'min_child_weight': 2}\n"
          ],
          "name": "stdout"
        }
      ]
    },
    {
      "cell_type": "markdown",
      "metadata": {
        "id": "Z9Z4nLvUitXR"
      },
      "source": [
        "Obtidos os valores de `max_depth=3` e `min_child_weight=2`, irei otimizar o parâmetro `gamma`."
      ]
    },
    {
      "cell_type": "code",
      "metadata": {
        "colab": {
          "base_uri": "https://localhost:8080/"
        },
        "id": "u8ei8Qp_ZjxS",
        "outputId": "e98fb087-9419-430d-f1b3-7943ba0ca053"
      },
      "source": [
        "xgb = XGBClassifier(learning_rate=0.1, n_estimators=100, max_depth=3, min_child_weight=2)\n",
        "\n",
        "param_grid = {\n",
        " 'gamma':[i/10.0 for i in range(0,5)]\n",
        "}\n",
        "\n",
        "# identificar melhor parâmetro\n",
        "kfold = StratifiedKFold(n_splits=10, shuffle=True)\n",
        "grid_search = GridSearchCV(xgb, param_grid, scoring=\"recall\", n_jobs=-1, cv=kfold)\n",
        "grid_result = grid_search.fit(X_train_rus, y_train_rus)\n",
        "\n",
        "# ver resultados\n",
        "print(\"Melhor: {} para {}\".format(grid_result.best_score_, grid_result.best_params_))"
      ],
      "execution_count": 183,
      "outputs": [
        {
          "output_type": "stream",
          "text": [
            "Melhor: 0.8587057263543532 para {'gamma': 0.4}\n"
          ],
          "name": "stdout"
        }
      ]
    },
    {
      "cell_type": "markdown",
      "metadata": {
        "id": "TXXTVTTBinm-"
      },
      "source": [
        "Por fim, obtido `gamma=0.4`, vou testar quatro valores para a `learning_rate` e ver qual oferece o melhor resultado."
      ]
    },
    {
      "cell_type": "code",
      "metadata": {
        "colab": {
          "base_uri": "https://localhost:8080/"
        },
        "id": "JFpLFxOwiiZQ",
        "outputId": "dbeeb1f5-a7a6-4f31-b55f-c2b65f27b1dc"
      },
      "source": [
        "xgb = XGBClassifier(n_estimators=100, max_depth=3, min_child_weight=2, gamma=0.4)\n",
        "\n",
        "param_grid = {\n",
        " 'learning_rate':[0.001, 0.01, 0.1, 1]\n",
        "}\n",
        "\n",
        "# identificar melhor parâmetro\n",
        "kfold = StratifiedKFold(n_splits=10, shuffle=True)\n",
        "grid_search = GridSearchCV(xgb, param_grid, scoring=\"recall\", n_jobs=-1, cv=kfold)\n",
        "grid_result = grid_search.fit(X_train_rus, y_train_rus)\n",
        "\n",
        "# ver resultados\n",
        "print(\"Melhor: {} para {}\".format(grid_result.best_score_, grid_result.best_params_))"
      ],
      "execution_count": 187,
      "outputs": [
        {
          "output_type": "stream",
          "text": [
            "Melhor: 0.8542622995639277 para {'learning_rate': 0.1}\n"
          ],
          "name": "stdout"
        }
      ]
    },
    {
      "cell_type": "markdown",
      "metadata": {
        "id": "wcRDf-bFiXB9"
      },
      "source": [
        "Fato é que uma taxa de aprendizado menor, conseguiu melhorar o desempenho do modelo XGBoost, considerando recall como sendo a única métrica de importância.\n",
        "\n",
        "Agora, treina-se o modelo em cima do dataset de treino completo, e verifica-se o desempenho final em cima dos dados de teste, no seu primeiro contato com esse sub-conjunto que havia sido preservado."
      ]
    },
    {
      "cell_type": "code",
      "metadata": {
        "colab": {
          "base_uri": "https://localhost:8080/",
          "height": 482
        },
        "id": "yEOH1bUBadjC",
        "outputId": "b0cdc24b-3a6c-4ecb-a8bd-6fa4aa0181e0"
      },
      "source": [
        "# modelo final\n",
        "xgb = XGBClassifier(learning_rate=0.1 , n_estimators=100, max_depth=3, min_child_weight=2, gamma=0.4)\n",
        "xgb.fit(X_train_rus, y_train_rus)\n",
        "\n",
        "# fazer a previsão\n",
        "X_test = scaler.transform(X_test)\n",
        "y_pred = xgb.predict(X_test)\n",
        "\n",
        "# Classification Report\n",
        "print(classification_report(y_test, y_pred))\n",
        "\n",
        "# imprimir a área sob a curva\n",
        "print(\"AUC: {:.4f}\\n\".format(roc_auc_score(y_test, y_pred)))\n",
        "\n",
        "# plotar matriz de confusão\n",
        "plot_confusion_matrix(y_test, y_pred, normalize=True)\n",
        "plt.show()"
      ],
      "execution_count": 188,
      "outputs": [
        {
          "output_type": "stream",
          "text": [
            "              precision    recall  f1-score   support\n",
            "\n",
            "           0       0.93      0.43      0.59      1341\n",
            "           1       0.33      0.89      0.48       417\n",
            "\n",
            "    accuracy                           0.54      1758\n",
            "   macro avg       0.63      0.66      0.53      1758\n",
            "weighted avg       0.79      0.54      0.56      1758\n",
            "\n",
            "AUC: 0.6613\n",
            "\n"
          ],
          "name": "stdout"
        },
        {
          "output_type": "display_data",
          "data": {
            "image/png": "[encoded data removed]",
            "text/plain": [
              "<Figure size 432x288 with 2 Axes>"
            ]
          },
          "metadata": {
            "tags": [],
            "needs_background": "light"
          }
        }
      ]
    },
    {
      "cell_type": "markdown",
      "metadata": {
        "id": "VVIv_WlVkpMu"
      },
      "source": [
        "Depois de executar os algoritmos no conjunto de teste, temos uma exibição de como o desempenho do modelo pode ser melhorado quando ajustamos alguns parâmetros. Os três modelos tiveram ganhos na taxa de recall após o ajuste, com o XGBoost apresentando a melhor taxa de recall entre eles.\n",
        "\n"
      ]
    },
    {
      "cell_type": "markdown",
      "metadata": {
        "id": "3Mmkfx-yj2uQ"
      },
      "source": [
        "#Conclusão\n",
        "\n",
        "O objetivo deste projeto era desenvolver um modelo que pudesse determinar a taxa de churn de clientes de uma empresa de telecomunicações da forma mais eficiente possível.\n",
        "\n",
        "Na nossa análise exploratória, vimos alguns indicadores que possam levar clientes nessa empresa a cometer churn. Também vimos como identificar variáveis que não agregam ao modelo.\n",
        "\n",
        "Pela matriz de confusão, obtemos um recall de 89%, isso indica que nosso modelo previu corretamente 89% dos clientes que iam cometer Churn. Porém estamos lidando uma uma taxa consideravelmente alta de falsos positivos, cerca de 57%, isso indica que 57% dos clientes que foram taxados como chrun, na verdade não eram. Isso acarreta numa quantidade alta de promoções sendo oferecidas a clientes. Portanto o recall, por mais que seja uma métrica de muita importância nesse modelo, não é a única que deve ser levada em conta. Num caso real a equipe deveria conversar sobre as possíveis aproximações para o problema em prol de mandar promoções apenas para os clientes que realmente iriam cometer Churn."
      ]
    }
  ]
}